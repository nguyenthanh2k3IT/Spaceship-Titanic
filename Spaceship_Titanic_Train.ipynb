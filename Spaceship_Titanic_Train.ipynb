{
 "cells": [
  {
   "cell_type": "markdown",
   "id": "64408e55",
   "metadata": {},
   "source": [
    "# Import Libraries"
   ]
  },
  {
   "cell_type": "code",
   "execution_count": 33,
   "id": "b8bf79b4",
   "metadata": {},
   "outputs": [],
   "source": [
    "# Basic analysis tools\n",
    "import pandas as pd\n",
    "import numpy as np\n",
    "import seaborn as sns\n",
    "import matplotlib.pyplot as plt\n",
    "from scipy.stats import ttest_ind\n",
    "from scipy.stats import chi2_contingency\n",
    "\n",
    "# Model preparation\n",
    "from sklearn.model_selection import train_test_split\n",
    "from sklearn.model_selection import cross_val_score, StratifiedKFold\n",
    "from sklearn.impute import SimpleImputer\n",
    "from sklearn.model_selection import GridSearchCV\n",
    "from sklearn.preprocessing import MinMaxScaler\n",
    "from sklearn.preprocessing import StandardScaler\n",
    "from sklearn.preprocessing import OneHotEncoder\n",
    "from sklearn.preprocessing import OrdinalEncoder\n",
    "\n",
    "# Model training\n",
    "from sklearn.dummy import DummyClassifier\n",
    "from sklearn.linear_model import LogisticRegression\n",
    "from sklearn.compose import ColumnTransformer\n",
    "from sklearn.neighbors import  KNeighborsClassifier\n",
    "from sklearn.svm import SVC\n",
    "from sklearn.ensemble import RandomForestClassifier\n",
    "from sklearn.ensemble import GradientBoostingClassifier\n",
    "from xgboost import XGBClassifier\n",
    "\n",
    "# Model evaluation\n",
    "from sklearn.metrics import classification_report, confusion_matrix, ConfusionMatrixDisplay\n",
    "from sklearn.pipeline import Pipeline\n",
    "\n",
    "# Model saving tools\n",
    "import joblib"
   ]
  },
  {
   "cell_type": "markdown",
   "id": "371fc3b1",
   "metadata": {},
   "source": [
    "# Data Loading"
   ]
  },
  {
   "cell_type": "markdown",
   "id": "4d57baa7",
   "metadata": {},
   "source": [
    "### Import Data"
   ]
  },
  {
   "cell_type": "code",
   "execution_count": 34,
   "id": "6458acfd",
   "metadata": {},
   "outputs": [],
   "source": [
    "data = pd.read_csv('train.csv')"
   ]
  },
  {
   "cell_type": "markdown",
   "id": "05a4d72b",
   "metadata": {},
   "source": [
    "Take a look on the data"
   ]
  },
  {
   "cell_type": "code",
   "execution_count": 35,
   "id": "6236d58d",
   "metadata": {},
   "outputs": [
    {
     "data": {
      "text/html": [
       "<div>\n",
       "<style scoped>\n",
       "    .dataframe tbody tr th:only-of-type {\n",
       "        vertical-align: middle;\n",
       "    }\n",
       "\n",
       "    .dataframe tbody tr th {\n",
       "        vertical-align: top;\n",
       "    }\n",
       "\n",
       "    .dataframe thead th {\n",
       "        text-align: right;\n",
       "    }\n",
       "</style>\n",
       "<table border=\"1\" class=\"dataframe\">\n",
       "  <thead>\n",
       "    <tr style=\"text-align: right;\">\n",
       "      <th></th>\n",
       "      <th>PassengerId</th>\n",
       "      <th>HomePlanet</th>\n",
       "      <th>CryoSleep</th>\n",
       "      <th>Cabin</th>\n",
       "      <th>Destination</th>\n",
       "      <th>Age</th>\n",
       "      <th>VIP</th>\n",
       "      <th>RoomService</th>\n",
       "      <th>FoodCourt</th>\n",
       "      <th>ShoppingMall</th>\n",
       "      <th>Spa</th>\n",
       "      <th>VRDeck</th>\n",
       "      <th>Name</th>\n",
       "      <th>Transported</th>\n",
       "    </tr>\n",
       "  </thead>\n",
       "  <tbody>\n",
       "    <tr>\n",
       "      <th>0</th>\n",
       "      <td>0001_01</td>\n",
       "      <td>Europa</td>\n",
       "      <td>False</td>\n",
       "      <td>B/0/P</td>\n",
       "      <td>TRAPPIST-1e</td>\n",
       "      <td>39.0</td>\n",
       "      <td>False</td>\n",
       "      <td>0.0</td>\n",
       "      <td>0.0</td>\n",
       "      <td>0.0</td>\n",
       "      <td>0.0</td>\n",
       "      <td>0.0</td>\n",
       "      <td>Maham Ofracculy</td>\n",
       "      <td>False</td>\n",
       "    </tr>\n",
       "    <tr>\n",
       "      <th>1</th>\n",
       "      <td>0002_01</td>\n",
       "      <td>Earth</td>\n",
       "      <td>False</td>\n",
       "      <td>F/0/S</td>\n",
       "      <td>TRAPPIST-1e</td>\n",
       "      <td>24.0</td>\n",
       "      <td>False</td>\n",
       "      <td>109.0</td>\n",
       "      <td>9.0</td>\n",
       "      <td>25.0</td>\n",
       "      <td>549.0</td>\n",
       "      <td>44.0</td>\n",
       "      <td>Juanna Vines</td>\n",
       "      <td>True</td>\n",
       "    </tr>\n",
       "    <tr>\n",
       "      <th>2</th>\n",
       "      <td>0003_01</td>\n",
       "      <td>Europa</td>\n",
       "      <td>False</td>\n",
       "      <td>A/0/S</td>\n",
       "      <td>TRAPPIST-1e</td>\n",
       "      <td>58.0</td>\n",
       "      <td>True</td>\n",
       "      <td>43.0</td>\n",
       "      <td>3576.0</td>\n",
       "      <td>0.0</td>\n",
       "      <td>6715.0</td>\n",
       "      <td>49.0</td>\n",
       "      <td>Altark Susent</td>\n",
       "      <td>False</td>\n",
       "    </tr>\n",
       "    <tr>\n",
       "      <th>3</th>\n",
       "      <td>0003_02</td>\n",
       "      <td>Europa</td>\n",
       "      <td>False</td>\n",
       "      <td>A/0/S</td>\n",
       "      <td>TRAPPIST-1e</td>\n",
       "      <td>33.0</td>\n",
       "      <td>False</td>\n",
       "      <td>0.0</td>\n",
       "      <td>1283.0</td>\n",
       "      <td>371.0</td>\n",
       "      <td>3329.0</td>\n",
       "      <td>193.0</td>\n",
       "      <td>Solam Susent</td>\n",
       "      <td>False</td>\n",
       "    </tr>\n",
       "    <tr>\n",
       "      <th>4</th>\n",
       "      <td>0004_01</td>\n",
       "      <td>Earth</td>\n",
       "      <td>False</td>\n",
       "      <td>F/1/S</td>\n",
       "      <td>TRAPPIST-1e</td>\n",
       "      <td>16.0</td>\n",
       "      <td>False</td>\n",
       "      <td>303.0</td>\n",
       "      <td>70.0</td>\n",
       "      <td>151.0</td>\n",
       "      <td>565.0</td>\n",
       "      <td>2.0</td>\n",
       "      <td>Willy Santantines</td>\n",
       "      <td>True</td>\n",
       "    </tr>\n",
       "  </tbody>\n",
       "</table>\n",
       "</div>"
      ],
      "text/plain": [
       "  PassengerId HomePlanet CryoSleep  Cabin  Destination   Age    VIP  \\\n",
       "0     0001_01     Europa     False  B/0/P  TRAPPIST-1e  39.0  False   \n",
       "1     0002_01      Earth     False  F/0/S  TRAPPIST-1e  24.0  False   \n",
       "2     0003_01     Europa     False  A/0/S  TRAPPIST-1e  58.0   True   \n",
       "3     0003_02     Europa     False  A/0/S  TRAPPIST-1e  33.0  False   \n",
       "4     0004_01      Earth     False  F/1/S  TRAPPIST-1e  16.0  False   \n",
       "\n",
       "   RoomService  FoodCourt  ShoppingMall     Spa  VRDeck               Name  \\\n",
       "0          0.0        0.0           0.0     0.0     0.0    Maham Ofracculy   \n",
       "1        109.0        9.0          25.0   549.0    44.0       Juanna Vines   \n",
       "2         43.0     3576.0           0.0  6715.0    49.0      Altark Susent   \n",
       "3          0.0     1283.0         371.0  3329.0   193.0       Solam Susent   \n",
       "4        303.0       70.0         151.0   565.0     2.0  Willy Santantines   \n",
       "\n",
       "   Transported  \n",
       "0        False  \n",
       "1         True  \n",
       "2        False  \n",
       "3        False  \n",
       "4         True  "
      ]
     },
     "execution_count": 35,
     "metadata": {},
     "output_type": "execute_result"
    }
   ],
   "source": [
    "data.head()"
   ]
  },
  {
   "cell_type": "code",
   "execution_count": 36,
   "id": "fb4d142f",
   "metadata": {},
   "outputs": [
    {
     "name": "stdout",
     "output_type": "stream",
     "text": [
      "<class 'pandas.core.frame.DataFrame'>\n",
      "RangeIndex: 8693 entries, 0 to 8692\n",
      "Data columns (total 14 columns):\n",
      " #   Column        Non-Null Count  Dtype  \n",
      "---  ------        --------------  -----  \n",
      " 0   PassengerId   8693 non-null   object \n",
      " 1   HomePlanet    8492 non-null   object \n",
      " 2   CryoSleep     8476 non-null   object \n",
      " 3   Cabin         8494 non-null   object \n",
      " 4   Destination   8511 non-null   object \n",
      " 5   Age           8514 non-null   float64\n",
      " 6   VIP           8490 non-null   object \n",
      " 7   RoomService   8512 non-null   float64\n",
      " 8   FoodCourt     8510 non-null   float64\n",
      " 9   ShoppingMall  8485 non-null   float64\n",
      " 10  Spa           8510 non-null   float64\n",
      " 11  VRDeck        8505 non-null   float64\n",
      " 12  Name          8493 non-null   object \n",
      " 13  Transported   8693 non-null   bool   \n",
      "dtypes: bool(1), float64(6), object(7)\n",
      "memory usage: 891.5+ KB\n"
     ]
    }
   ],
   "source": [
    "data.info()"
   ]
  },
  {
   "cell_type": "code",
   "execution_count": 37,
   "id": "743b4423",
   "metadata": {},
   "outputs": [
    {
     "data": {
      "text/plain": [
       "(8693, 14)"
      ]
     },
     "execution_count": 37,
     "metadata": {},
     "output_type": "execute_result"
    }
   ],
   "source": [
    "data.shape"
   ]
  },
  {
   "cell_type": "code",
   "execution_count": 38,
   "id": "2481d02f",
   "metadata": {},
   "outputs": [
    {
     "data": {
      "text/plain": [
       "Index(['PassengerId', 'HomePlanet', 'CryoSleep', 'Cabin', 'Destination', 'Age',\n",
       "       'VIP', 'RoomService', 'FoodCourt', 'ShoppingMall', 'Spa', 'VRDeck',\n",
       "       'Name', 'Transported'],\n",
       "      dtype='object')"
      ]
     },
     "execution_count": 38,
     "metadata": {},
     "output_type": "execute_result"
    }
   ],
   "source": [
    "data.columns"
   ]
  },
  {
   "cell_type": "markdown",
   "id": "f1207dcb",
   "metadata": {},
   "source": [
    "# Exploratory Data Analysis"
   ]
  },
  {
   "cell_type": "code",
   "execution_count": 39,
   "id": "b8f2cbef",
   "metadata": {},
   "outputs": [
    {
     "data": {
      "text/html": [
       "<div>\n",
       "<style scoped>\n",
       "    .dataframe tbody tr th:only-of-type {\n",
       "        vertical-align: middle;\n",
       "    }\n",
       "\n",
       "    .dataframe tbody tr th {\n",
       "        vertical-align: top;\n",
       "    }\n",
       "\n",
       "    .dataframe thead th {\n",
       "        text-align: right;\n",
       "    }\n",
       "</style>\n",
       "<table border=\"1\" class=\"dataframe\">\n",
       "  <thead>\n",
       "    <tr style=\"text-align: right;\">\n",
       "      <th></th>\n",
       "      <th>Age</th>\n",
       "      <th>RoomService</th>\n",
       "      <th>FoodCourt</th>\n",
       "      <th>ShoppingMall</th>\n",
       "      <th>Spa</th>\n",
       "      <th>VRDeck</th>\n",
       "    </tr>\n",
       "  </thead>\n",
       "  <tbody>\n",
       "    <tr>\n",
       "      <th>count</th>\n",
       "      <td>8514.000000</td>\n",
       "      <td>8512.000000</td>\n",
       "      <td>8510.000000</td>\n",
       "      <td>8485.000000</td>\n",
       "      <td>8510.000000</td>\n",
       "      <td>8505.000000</td>\n",
       "    </tr>\n",
       "    <tr>\n",
       "      <th>mean</th>\n",
       "      <td>28.827930</td>\n",
       "      <td>224.687617</td>\n",
       "      <td>458.077203</td>\n",
       "      <td>173.729169</td>\n",
       "      <td>311.138778</td>\n",
       "      <td>304.854791</td>\n",
       "    </tr>\n",
       "    <tr>\n",
       "      <th>std</th>\n",
       "      <td>14.489021</td>\n",
       "      <td>666.717663</td>\n",
       "      <td>1611.489240</td>\n",
       "      <td>604.696458</td>\n",
       "      <td>1136.705535</td>\n",
       "      <td>1145.717189</td>\n",
       "    </tr>\n",
       "    <tr>\n",
       "      <th>min</th>\n",
       "      <td>0.000000</td>\n",
       "      <td>0.000000</td>\n",
       "      <td>0.000000</td>\n",
       "      <td>0.000000</td>\n",
       "      <td>0.000000</td>\n",
       "      <td>0.000000</td>\n",
       "    </tr>\n",
       "    <tr>\n",
       "      <th>25%</th>\n",
       "      <td>19.000000</td>\n",
       "      <td>0.000000</td>\n",
       "      <td>0.000000</td>\n",
       "      <td>0.000000</td>\n",
       "      <td>0.000000</td>\n",
       "      <td>0.000000</td>\n",
       "    </tr>\n",
       "    <tr>\n",
       "      <th>50%</th>\n",
       "      <td>27.000000</td>\n",
       "      <td>0.000000</td>\n",
       "      <td>0.000000</td>\n",
       "      <td>0.000000</td>\n",
       "      <td>0.000000</td>\n",
       "      <td>0.000000</td>\n",
       "    </tr>\n",
       "    <tr>\n",
       "      <th>75%</th>\n",
       "      <td>38.000000</td>\n",
       "      <td>47.000000</td>\n",
       "      <td>76.000000</td>\n",
       "      <td>27.000000</td>\n",
       "      <td>59.000000</td>\n",
       "      <td>46.000000</td>\n",
       "    </tr>\n",
       "    <tr>\n",
       "      <th>max</th>\n",
       "      <td>79.000000</td>\n",
       "      <td>14327.000000</td>\n",
       "      <td>29813.000000</td>\n",
       "      <td>23492.000000</td>\n",
       "      <td>22408.000000</td>\n",
       "      <td>24133.000000</td>\n",
       "    </tr>\n",
       "  </tbody>\n",
       "</table>\n",
       "</div>"
      ],
      "text/plain": [
       "               Age   RoomService     FoodCourt  ShoppingMall           Spa  \\\n",
       "count  8514.000000   8512.000000   8510.000000   8485.000000   8510.000000   \n",
       "mean     28.827930    224.687617    458.077203    173.729169    311.138778   \n",
       "std      14.489021    666.717663   1611.489240    604.696458   1136.705535   \n",
       "min       0.000000      0.000000      0.000000      0.000000      0.000000   \n",
       "25%      19.000000      0.000000      0.000000      0.000000      0.000000   \n",
       "50%      27.000000      0.000000      0.000000      0.000000      0.000000   \n",
       "75%      38.000000     47.000000     76.000000     27.000000     59.000000   \n",
       "max      79.000000  14327.000000  29813.000000  23492.000000  22408.000000   \n",
       "\n",
       "             VRDeck  \n",
       "count   8505.000000  \n",
       "mean     304.854791  \n",
       "std     1145.717189  \n",
       "min        0.000000  \n",
       "25%        0.000000  \n",
       "50%        0.000000  \n",
       "75%       46.000000  \n",
       "max    24133.000000  "
      ]
     },
     "execution_count": 39,
     "metadata": {},
     "output_type": "execute_result"
    }
   ],
   "source": [
    "data.describe()"
   ]
  },
  {
   "cell_type": "markdown",
   "id": "3123a1fd",
   "metadata": {},
   "source": [
    "Each of 'RoomService', 'FoodCourt', 'ShoppingMall', 'Spa', 'VRDeck' service wasn't used by half of the passengers"
   ]
  },
  {
   "cell_type": "markdown",
   "id": "b3161167",
   "metadata": {},
   "source": [
    "## Check Duplicated data"
   ]
  },
  {
   "cell_type": "code",
   "execution_count": 40,
   "id": "8188b386",
   "metadata": {
    "scrolled": true
   },
   "outputs": [
    {
     "data": {
      "text/plain": [
       "0"
      ]
     },
     "execution_count": 40,
     "metadata": {},
     "output_type": "execute_result"
    }
   ],
   "source": [
    "data.duplicated().sum()"
   ]
  },
  {
   "cell_type": "markdown",
   "id": "a82cae16",
   "metadata": {},
   "source": [
    "## Check unique value"
   ]
  },
  {
   "cell_type": "code",
   "execution_count": 41,
   "id": "21bf2267",
   "metadata": {},
   "outputs": [
    {
     "name": "stdout",
     "output_type": "stream",
     "text": [
      "PassengerId:  8693\n",
      "HomePlanet:  3\n",
      "CryoSleep:  2\n",
      "Cabin:  6560\n",
      "Destination:  3\n",
      "Age:  80\n",
      "VIP:  2\n",
      "RoomService:  1273\n",
      "FoodCourt:  1507\n",
      "ShoppingMall:  1115\n",
      "Spa:  1327\n",
      "VRDeck:  1306\n",
      "Name:  8473\n",
      "Transported:  2\n"
     ]
    }
   ],
   "source": [
    "## Check unique valuefor column in data.columns:\n",
    "for column in data.columns:\n",
    "    print(f\"{column}: \", data[column].nunique())"
   ]
  },
  {
   "cell_type": "markdown",
   "id": "040b0eb4",
   "metadata": {},
   "source": [
    "## Dropping and reassign type for columns"
   ]
  },
  {
   "cell_type": "markdown",
   "id": "e59f498e",
   "metadata": {},
   "source": [
    "### Passenger Name"
   ]
  },
  {
   "cell_type": "markdown",
   "id": "73d0358a",
   "metadata": {},
   "source": [
    "Passenger Name is not used for machine learning, so we will drop 'Name' column"
   ]
  },
  {
   "cell_type": "code",
   "execution_count": 42,
   "id": "706eef81",
   "metadata": {},
   "outputs": [],
   "source": [
    "data.drop('Name', axis = 1, inplace = True) "
   ]
  },
  {
   "cell_type": "markdown",
   "id": "6e77e1e2",
   "metadata": {},
   "source": [
    "### Passenger ID"
   ]
  },
  {
   "cell_type": "markdown",
   "id": "3b5b4fd8",
   "metadata": {},
   "source": [
    "Passenger Id is also not used for machine learning, but how many colleague/family they have in the ship **might** affect whether the passenger is transported"
   ]
  },
  {
   "cell_type": "code",
   "execution_count": 43,
   "id": "338e78ee",
   "metadata": {},
   "outputs": [
    {
     "data": {
      "text/html": [
       "<div>\n",
       "<style scoped>\n",
       "    .dataframe tbody tr th:only-of-type {\n",
       "        vertical-align: middle;\n",
       "    }\n",
       "\n",
       "    .dataframe tbody tr th {\n",
       "        vertical-align: top;\n",
       "    }\n",
       "\n",
       "    .dataframe thead th {\n",
       "        text-align: right;\n",
       "    }\n",
       "</style>\n",
       "<table border=\"1\" class=\"dataframe\">\n",
       "  <thead>\n",
       "    <tr style=\"text-align: right;\">\n",
       "      <th></th>\n",
       "      <th>HomePlanet</th>\n",
       "      <th>CryoSleep</th>\n",
       "      <th>Cabin</th>\n",
       "      <th>Destination</th>\n",
       "      <th>Age</th>\n",
       "      <th>VIP</th>\n",
       "      <th>RoomService</th>\n",
       "      <th>FoodCourt</th>\n",
       "      <th>ShoppingMall</th>\n",
       "      <th>Spa</th>\n",
       "      <th>VRDeck</th>\n",
       "      <th>Transported</th>\n",
       "      <th>people_in_group</th>\n",
       "    </tr>\n",
       "  </thead>\n",
       "  <tbody>\n",
       "    <tr>\n",
       "      <th>0</th>\n",
       "      <td>Europa</td>\n",
       "      <td>False</td>\n",
       "      <td>B/0/P</td>\n",
       "      <td>TRAPPIST-1e</td>\n",
       "      <td>39.0</td>\n",
       "      <td>False</td>\n",
       "      <td>0.0</td>\n",
       "      <td>0.0</td>\n",
       "      <td>0.0</td>\n",
       "      <td>0.0</td>\n",
       "      <td>0.0</td>\n",
       "      <td>False</td>\n",
       "      <td>1</td>\n",
       "    </tr>\n",
       "    <tr>\n",
       "      <th>1</th>\n",
       "      <td>Earth</td>\n",
       "      <td>False</td>\n",
       "      <td>F/0/S</td>\n",
       "      <td>TRAPPIST-1e</td>\n",
       "      <td>24.0</td>\n",
       "      <td>False</td>\n",
       "      <td>109.0</td>\n",
       "      <td>9.0</td>\n",
       "      <td>25.0</td>\n",
       "      <td>549.0</td>\n",
       "      <td>44.0</td>\n",
       "      <td>True</td>\n",
       "      <td>1</td>\n",
       "    </tr>\n",
       "    <tr>\n",
       "      <th>2</th>\n",
       "      <td>Europa</td>\n",
       "      <td>False</td>\n",
       "      <td>A/0/S</td>\n",
       "      <td>TRAPPIST-1e</td>\n",
       "      <td>58.0</td>\n",
       "      <td>True</td>\n",
       "      <td>43.0</td>\n",
       "      <td>3576.0</td>\n",
       "      <td>0.0</td>\n",
       "      <td>6715.0</td>\n",
       "      <td>49.0</td>\n",
       "      <td>False</td>\n",
       "      <td>2</td>\n",
       "    </tr>\n",
       "    <tr>\n",
       "      <th>3</th>\n",
       "      <td>Europa</td>\n",
       "      <td>False</td>\n",
       "      <td>A/0/S</td>\n",
       "      <td>TRAPPIST-1e</td>\n",
       "      <td>33.0</td>\n",
       "      <td>False</td>\n",
       "      <td>0.0</td>\n",
       "      <td>1283.0</td>\n",
       "      <td>371.0</td>\n",
       "      <td>3329.0</td>\n",
       "      <td>193.0</td>\n",
       "      <td>False</td>\n",
       "      <td>2</td>\n",
       "    </tr>\n",
       "    <tr>\n",
       "      <th>4</th>\n",
       "      <td>Earth</td>\n",
       "      <td>False</td>\n",
       "      <td>F/1/S</td>\n",
       "      <td>TRAPPIST-1e</td>\n",
       "      <td>16.0</td>\n",
       "      <td>False</td>\n",
       "      <td>303.0</td>\n",
       "      <td>70.0</td>\n",
       "      <td>151.0</td>\n",
       "      <td>565.0</td>\n",
       "      <td>2.0</td>\n",
       "      <td>True</td>\n",
       "      <td>1</td>\n",
       "    </tr>\n",
       "  </tbody>\n",
       "</table>\n",
       "</div>"
      ],
      "text/plain": [
       "  HomePlanet CryoSleep  Cabin  Destination   Age    VIP  RoomService  \\\n",
       "0     Europa     False  B/0/P  TRAPPIST-1e  39.0  False          0.0   \n",
       "1      Earth     False  F/0/S  TRAPPIST-1e  24.0  False        109.0   \n",
       "2     Europa     False  A/0/S  TRAPPIST-1e  58.0   True         43.0   \n",
       "3     Europa     False  A/0/S  TRAPPIST-1e  33.0  False          0.0   \n",
       "4      Earth     False  F/1/S  TRAPPIST-1e  16.0  False        303.0   \n",
       "\n",
       "   FoodCourt  ShoppingMall     Spa  VRDeck  Transported  people_in_group  \n",
       "0        0.0           0.0     0.0     0.0        False                1  \n",
       "1        9.0          25.0   549.0    44.0         True                1  \n",
       "2     3576.0           0.0  6715.0    49.0        False                2  \n",
       "3     1283.0         371.0  3329.0   193.0        False                2  \n",
       "4       70.0         151.0   565.0     2.0         True                1  "
      ]
     },
     "execution_count": 43,
     "metadata": {},
     "output_type": "execute_result"
    }
   ],
   "source": [
    "# Separate Passenger ID to group and the number between the group\n",
    "data[[\"Passenger_Group\", \"Passenger_Number_Group\"]] = data[\"PassengerId\"].str.split(\"_\", expand=True)\n",
    "\n",
    "# Drop PassengerId Original Column\n",
    "data.drop('PassengerId', axis = 1, inplace = True)\n",
    "\n",
    "# Change Passenger Number Group to Integer\n",
    "\n",
    "data['Passenger_Number_Group'] = data['Passenger_Number_Group'].astype(int)\n",
    "\n",
    "# Find how many people in the group\n",
    "data['people_in_group'] = data.groupby(['Passenger_Group'])['Passenger_Number_Group'].transform(max)\n",
    "\n",
    "# Delete Passenger_Group and Passenger_Number_Group column\n",
    "\n",
    "data.drop(['Passenger_Group','Passenger_Number_Group'], axis = 1, inplace = True)\n",
    "\n",
    "data.head()"
   ]
  },
  {
   "cell_type": "markdown",
   "id": "ef4ab626",
   "metadata": {},
   "source": [
    "### Cabin Column Split"
   ]
  },
  {
   "cell_type": "code",
   "execution_count": 44,
   "id": "f040e879",
   "metadata": {
    "scrolled": true
   },
   "outputs": [
    {
     "data": {
      "text/html": [
       "<div>\n",
       "<style scoped>\n",
       "    .dataframe tbody tr th:only-of-type {\n",
       "        vertical-align: middle;\n",
       "    }\n",
       "\n",
       "    .dataframe tbody tr th {\n",
       "        vertical-align: top;\n",
       "    }\n",
       "\n",
       "    .dataframe thead th {\n",
       "        text-align: right;\n",
       "    }\n",
       "</style>\n",
       "<table border=\"1\" class=\"dataframe\">\n",
       "  <thead>\n",
       "    <tr style=\"text-align: right;\">\n",
       "      <th></th>\n",
       "      <th>HomePlanet</th>\n",
       "      <th>CryoSleep</th>\n",
       "      <th>Destination</th>\n",
       "      <th>Age</th>\n",
       "      <th>VIP</th>\n",
       "      <th>RoomService</th>\n",
       "      <th>FoodCourt</th>\n",
       "      <th>ShoppingMall</th>\n",
       "      <th>Spa</th>\n",
       "      <th>VRDeck</th>\n",
       "      <th>Transported</th>\n",
       "      <th>people_in_group</th>\n",
       "      <th>Deck</th>\n",
       "      <th>Cabin_num</th>\n",
       "      <th>Side</th>\n",
       "    </tr>\n",
       "  </thead>\n",
       "  <tbody>\n",
       "    <tr>\n",
       "      <th>0</th>\n",
       "      <td>Europa</td>\n",
       "      <td>False</td>\n",
       "      <td>TRAPPIST-1e</td>\n",
       "      <td>39.0</td>\n",
       "      <td>False</td>\n",
       "      <td>0.0</td>\n",
       "      <td>0.0</td>\n",
       "      <td>0.0</td>\n",
       "      <td>0.0</td>\n",
       "      <td>0.0</td>\n",
       "      <td>False</td>\n",
       "      <td>1</td>\n",
       "      <td>B</td>\n",
       "      <td>0</td>\n",
       "      <td>P</td>\n",
       "    </tr>\n",
       "    <tr>\n",
       "      <th>1</th>\n",
       "      <td>Earth</td>\n",
       "      <td>False</td>\n",
       "      <td>TRAPPIST-1e</td>\n",
       "      <td>24.0</td>\n",
       "      <td>False</td>\n",
       "      <td>109.0</td>\n",
       "      <td>9.0</td>\n",
       "      <td>25.0</td>\n",
       "      <td>549.0</td>\n",
       "      <td>44.0</td>\n",
       "      <td>True</td>\n",
       "      <td>1</td>\n",
       "      <td>F</td>\n",
       "      <td>0</td>\n",
       "      <td>S</td>\n",
       "    </tr>\n",
       "    <tr>\n",
       "      <th>2</th>\n",
       "      <td>Europa</td>\n",
       "      <td>False</td>\n",
       "      <td>TRAPPIST-1e</td>\n",
       "      <td>58.0</td>\n",
       "      <td>True</td>\n",
       "      <td>43.0</td>\n",
       "      <td>3576.0</td>\n",
       "      <td>0.0</td>\n",
       "      <td>6715.0</td>\n",
       "      <td>49.0</td>\n",
       "      <td>False</td>\n",
       "      <td>2</td>\n",
       "      <td>A</td>\n",
       "      <td>0</td>\n",
       "      <td>S</td>\n",
       "    </tr>\n",
       "    <tr>\n",
       "      <th>3</th>\n",
       "      <td>Europa</td>\n",
       "      <td>False</td>\n",
       "      <td>TRAPPIST-1e</td>\n",
       "      <td>33.0</td>\n",
       "      <td>False</td>\n",
       "      <td>0.0</td>\n",
       "      <td>1283.0</td>\n",
       "      <td>371.0</td>\n",
       "      <td>3329.0</td>\n",
       "      <td>193.0</td>\n",
       "      <td>False</td>\n",
       "      <td>2</td>\n",
       "      <td>A</td>\n",
       "      <td>0</td>\n",
       "      <td>S</td>\n",
       "    </tr>\n",
       "    <tr>\n",
       "      <th>4</th>\n",
       "      <td>Earth</td>\n",
       "      <td>False</td>\n",
       "      <td>TRAPPIST-1e</td>\n",
       "      <td>16.0</td>\n",
       "      <td>False</td>\n",
       "      <td>303.0</td>\n",
       "      <td>70.0</td>\n",
       "      <td>151.0</td>\n",
       "      <td>565.0</td>\n",
       "      <td>2.0</td>\n",
       "      <td>True</td>\n",
       "      <td>1</td>\n",
       "      <td>F</td>\n",
       "      <td>1</td>\n",
       "      <td>S</td>\n",
       "    </tr>\n",
       "  </tbody>\n",
       "</table>\n",
       "</div>"
      ],
      "text/plain": [
       "  HomePlanet CryoSleep  Destination   Age    VIP  RoomService  FoodCourt  \\\n",
       "0     Europa     False  TRAPPIST-1e  39.0  False          0.0        0.0   \n",
       "1      Earth     False  TRAPPIST-1e  24.0  False        109.0        9.0   \n",
       "2     Europa     False  TRAPPIST-1e  58.0   True         43.0     3576.0   \n",
       "3     Europa     False  TRAPPIST-1e  33.0  False          0.0     1283.0   \n",
       "4      Earth     False  TRAPPIST-1e  16.0  False        303.0       70.0   \n",
       "\n",
       "   ShoppingMall     Spa  VRDeck  Transported  people_in_group Deck Cabin_num  \\\n",
       "0           0.0     0.0     0.0        False                1    B         0   \n",
       "1          25.0   549.0    44.0         True                1    F         0   \n",
       "2           0.0  6715.0    49.0        False                2    A         0   \n",
       "3         371.0  3329.0   193.0        False                2    A         0   \n",
       "4         151.0   565.0     2.0         True                1    F         1   \n",
       "\n",
       "  Side  \n",
       "0    P  \n",
       "1    S  \n",
       "2    S  \n",
       "3    S  \n",
       "4    S  "
      ]
     },
     "execution_count": 44,
     "metadata": {},
     "output_type": "execute_result"
    }
   ],
   "source": [
    "# Separate Deck, Cabin Number, and Side\n",
    "data[[\"Deck\", \"Cabin_num\", \"Side\"]] = data[\"Cabin\"].str.split(\"/\", expand=True)\n",
    "\n",
    "# Drop origina Cabin Column\n",
    "data.drop('Cabin', axis = 1, inplace = True)\n",
    "\n",
    "data.head()"
   ]
  },
  {
   "cell_type": "markdown",
   "id": "febab197",
   "metadata": {},
   "source": [
    "## General Exploratory"
   ]
  },
  {
   "cell_type": "code",
   "execution_count": 45,
   "id": "013bfc6d",
   "metadata": {},
   "outputs": [
    {
     "data": {
      "text/plain": [
       "True     4378\n",
       "False    4315\n",
       "Name: Transported, dtype: int64"
      ]
     },
     "execution_count": 45,
     "metadata": {},
     "output_type": "execute_result"
    }
   ],
   "source": [
    "# Check how many are transported and how many are alive\n",
    "data['Transported'].value_counts()"
   ]
  },
  {
   "cell_type": "markdown",
   "id": "5b66da9e",
   "metadata": {},
   "source": [
    "More than half of the passenger are transported"
   ]
  },
  {
   "cell_type": "markdown",
   "id": "e68e2f39",
   "metadata": {},
   "source": [
    "#### Check other columns"
   ]
  },
  {
   "cell_type": "code",
   "execution_count": 46,
   "id": "b3f85fe7",
   "metadata": {},
   "outputs": [
    {
     "data": {
      "text/plain": [
       "Earth     4602\n",
       "Europa    2131\n",
       "Mars      1759\n",
       "Name: HomePlanet, dtype: int64"
      ]
     },
     "execution_count": 46,
     "metadata": {},
     "output_type": "execute_result"
    }
   ],
   "source": [
    "# Home Planet\n",
    "data['HomePlanet'].value_counts()\n"
   ]
  },
  {
   "cell_type": "code",
   "execution_count": 47,
   "id": "09f2bdb9",
   "metadata": {},
   "outputs": [
    {
     "data": {
      "text/plain": [
       "TRAPPIST-1e      5915\n",
       "55 Cancri e      1800\n",
       "PSO J318.5-22     796\n",
       "Name: Destination, dtype: int64"
      ]
     },
     "execution_count": 47,
     "metadata": {},
     "output_type": "execute_result"
    }
   ],
   "source": [
    "data['Destination'].value_counts()"
   ]
  },
  {
   "cell_type": "code",
   "execution_count": 48,
   "id": "c9bd2d9e",
   "metadata": {},
   "outputs": [
    {
     "data": {
      "text/plain": [
       "False    5439\n",
       "True     3037\n",
       "Name: CryoSleep, dtype: int64"
      ]
     },
     "execution_count": 48,
     "metadata": {},
     "output_type": "execute_result"
    }
   ],
   "source": [
    "data['CryoSleep'].value_counts()"
   ]
  },
  {
   "cell_type": "code",
   "execution_count": 49,
   "id": "0ca823b5",
   "metadata": {},
   "outputs": [
    {
     "data": {
      "text/plain": [
       "False    8291\n",
       "True      199\n",
       "Name: VIP, dtype: int64"
      ]
     },
     "execution_count": 49,
     "metadata": {},
     "output_type": "execute_result"
    }
   ],
   "source": [
    "data['VIP'].value_counts()"
   ]
  },
  {
   "cell_type": "markdown",
   "id": "7ac3f9c6",
   "metadata": {},
   "source": [
    "#### For Home Planet and Destination"
   ]
  },
  {
   "cell_type": "code",
   "execution_count": 50,
   "id": "eb80d46f",
   "metadata": {},
   "outputs": [],
   "source": [
    "# Function for plotting count\n",
    "def count_plots(dataframe, columns:list):\n",
    "    n = len(columns)\n",
    "    plt.figure(figsize=(8,(n*4)))\n",
    "\n",
    "    for i, cols in enumerate(columns):\n",
    "        # Boxplot\n",
    "        plt.subplot(n, 1, i+1)\n",
    "        plt.title(cols.capitalize())\n",
    "        ax = sns.countplot(data=dataframe, x=cols, palette=sns.color_palette(\"magma\"))\n",
    "        ax.set_facecolor(\"#D9D9D9\")\n",
    "        ax.spines[\"bottom\"].set_color(\"black\")\n",
    "        ax.spines[[\"top\", \"right\"]].set_visible(False)\n",
    "        ax.tick_params(axis=\"x\", colors=\"black\", labelsize=12)\n",
    "        ax.tick_params(axis=\"y\", colors=\"black\", labelsize=12)\n",
    "        ax.set(xlabel=None, ylabel=None)\n",
    "        ax.bar_label(ax.containers[0])"
   ]
  },
  {
   "cell_type": "code",
   "execution_count": 51,
   "id": "550f1184",
   "metadata": {},
   "outputs": [
    {
     "data": {
      "image/png": "[encoded data removed]",
      "text/plain": [
       "<Figure size 800x800 with 2 Axes>"
      ]
     },
     "metadata": {},
     "output_type": "display_data"
    }
   ],
   "source": [
    "# Plot jumlah data berdasarkan marital status dan sex\n",
    "count_plots(\n",
    "    data,\n",
    "    [\n",
    "        \"HomePlanet\",\n",
    "        \"Destination\",\n",
    "    ],\n",
    ")"
   ]
  },
  {
   "cell_type": "markdown",
   "id": "49c703d8",
   "metadata": {},
   "source": [
    "Most of the passenger were from Earth and most of them were heading to TRAPPIST-1e"
   ]
  },
  {
   "cell_type": "markdown",
   "id": "bb9e7890",
   "metadata": {},
   "source": [
    "#### Check for numerical data"
   ]
  },
  {
   "cell_type": "code",
   "execution_count": 52,
   "id": "c499f7c9",
   "metadata": {},
   "outputs": [],
   "source": [
    "num_data_columns = data.select_dtypes(\"number\").columns.to_list()"
   ]
  },
  {
   "cell_type": "code",
   "execution_count": 53,
   "id": "fc09d62a",
   "metadata": {},
   "outputs": [
    {
     "data": {
      "image/png": "[encoded data removed]",
      "text/plain": [
       "<Figure size 1400x900 with 7 Axes>"
      ]
     },
     "metadata": {},
     "output_type": "display_data"
    }
   ],
   "source": [
    "n = len(num_data_columns)\n",
    "plt.figure(figsize=((n*2),(n+2)))\n",
    "\n",
    "\n",
    "for i in range(n):\n",
    "    plt.subplot(3, 3, i+1)\n",
    "    sns.histplot(data[num_data_columns[i]], bins=20)\n",
    "    plt.title(num_data_columns[i])\n",
    "    plt.xlabel(\"\")\n",
    "    plt.ylabel(\"\")"
   ]
  },
  {
   "cell_type": "markdown",
   "id": "e13fe5d6",
   "metadata": {},
   "source": [
    "## Check Feature Correlation"
   ]
  },
  {
   "cell_type": "code",
   "execution_count": 54,
   "id": "59963cbb",
   "metadata": {
    "scrolled": true
   },
   "outputs": [
    {
     "data": {
      "text/html": [
       "<div>\n",
       "<style scoped>\n",
       "    .dataframe tbody tr th:only-of-type {\n",
       "        vertical-align: middle;\n",
       "    }\n",
       "\n",
       "    .dataframe tbody tr th {\n",
       "        vertical-align: top;\n",
       "    }\n",
       "\n",
       "    .dataframe thead th {\n",
       "        text-align: right;\n",
       "    }\n",
       "</style>\n",
       "<table border=\"1\" class=\"dataframe\">\n",
       "  <thead>\n",
       "    <tr style=\"text-align: right;\">\n",
       "      <th></th>\n",
       "      <th>Age</th>\n",
       "      <th>RoomService</th>\n",
       "      <th>FoodCourt</th>\n",
       "      <th>ShoppingMall</th>\n",
       "      <th>Spa</th>\n",
       "      <th>VRDeck</th>\n",
       "      <th>people_in_group</th>\n",
       "    </tr>\n",
       "  </thead>\n",
       "  <tbody>\n",
       "    <tr>\n",
       "      <th>Age</th>\n",
       "      <td>1.000000</td>\n",
       "      <td>0.068723</td>\n",
       "      <td>0.130421</td>\n",
       "      <td>0.033133</td>\n",
       "      <td>0.123970</td>\n",
       "      <td>0.101007</td>\n",
       "      <td>-0.179102</td>\n",
       "    </tr>\n",
       "    <tr>\n",
       "      <th>RoomService</th>\n",
       "      <td>0.068723</td>\n",
       "      <td>1.000000</td>\n",
       "      <td>-0.015889</td>\n",
       "      <td>0.054480</td>\n",
       "      <td>0.010080</td>\n",
       "      <td>-0.019581</td>\n",
       "      <td>-0.040777</td>\n",
       "    </tr>\n",
       "    <tr>\n",
       "      <th>FoodCourt</th>\n",
       "      <td>0.130421</td>\n",
       "      <td>-0.015889</td>\n",
       "      <td>1.000000</td>\n",
       "      <td>-0.014228</td>\n",
       "      <td>0.221891</td>\n",
       "      <td>0.227995</td>\n",
       "      <td>0.032632</td>\n",
       "    </tr>\n",
       "    <tr>\n",
       "      <th>ShoppingMall</th>\n",
       "      <td>0.033133</td>\n",
       "      <td>0.054480</td>\n",
       "      <td>-0.014228</td>\n",
       "      <td>1.000000</td>\n",
       "      <td>0.013879</td>\n",
       "      <td>-0.007322</td>\n",
       "      <td>-0.038770</td>\n",
       "    </tr>\n",
       "    <tr>\n",
       "      <th>Spa</th>\n",
       "      <td>0.123970</td>\n",
       "      <td>0.010080</td>\n",
       "      <td>0.221891</td>\n",
       "      <td>0.013879</td>\n",
       "      <td>1.000000</td>\n",
       "      <td>0.153821</td>\n",
       "      <td>0.019223</td>\n",
       "    </tr>\n",
       "    <tr>\n",
       "      <th>VRDeck</th>\n",
       "      <td>0.101007</td>\n",
       "      <td>-0.019581</td>\n",
       "      <td>0.227995</td>\n",
       "      <td>-0.007322</td>\n",
       "      <td>0.153821</td>\n",
       "      <td>1.000000</td>\n",
       "      <td>0.009401</td>\n",
       "    </tr>\n",
       "    <tr>\n",
       "      <th>people_in_group</th>\n",
       "      <td>-0.179102</td>\n",
       "      <td>-0.040777</td>\n",
       "      <td>0.032632</td>\n",
       "      <td>-0.038770</td>\n",
       "      <td>0.019223</td>\n",
       "      <td>0.009401</td>\n",
       "      <td>1.000000</td>\n",
       "    </tr>\n",
       "  </tbody>\n",
       "</table>\n",
       "</div>"
      ],
      "text/plain": [
       "                      Age  RoomService  FoodCourt  ShoppingMall       Spa  \\\n",
       "Age              1.000000     0.068723   0.130421      0.033133  0.123970   \n",
       "RoomService      0.068723     1.000000  -0.015889      0.054480  0.010080   \n",
       "FoodCourt        0.130421    -0.015889   1.000000     -0.014228  0.221891   \n",
       "ShoppingMall     0.033133     0.054480  -0.014228      1.000000  0.013879   \n",
       "Spa              0.123970     0.010080   0.221891      0.013879  1.000000   \n",
       "VRDeck           0.101007    -0.019581   0.227995     -0.007322  0.153821   \n",
       "people_in_group -0.179102    -0.040777   0.032632     -0.038770  0.019223   \n",
       "\n",
       "                   VRDeck  people_in_group  \n",
       "Age              0.101007        -0.179102  \n",
       "RoomService     -0.019581        -0.040777  \n",
       "FoodCourt        0.227995         0.032632  \n",
       "ShoppingMall    -0.007322        -0.038770  \n",
       "Spa              0.153821         0.019223  \n",
       "VRDeck           1.000000         0.009401  \n",
       "people_in_group  0.009401         1.000000  "
      ]
     },
     "execution_count": 54,
     "metadata": {},
     "output_type": "execute_result"
    }
   ],
   "source": [
    "data.select_dtypes(\"number\").corr()"
   ]
  },
  {
   "cell_type": "code",
   "execution_count": 55,
   "id": "599d0b9c",
   "metadata": {},
   "outputs": [
    {
     "data": {
      "text/plain": [
       "Text(0.5, 1.0, 'Correlation Matrix')"
      ]
     },
     "execution_count": 55,
     "metadata": {},
     "output_type": "execute_result"
    },
    {
     "data": {
      "image/png": "[encoded data removed]",
      "text/plain": [
       "<Figure size 1000x800 with 2 Axes>"
      ]
     },
     "metadata": {},
     "output_type": "display_data"
    }
   ],
   "source": [
    "correlation_plot = plt.figure(figsize=(10, 8))\n",
    "sns.heatmap(data.select_dtypes(['number']).corr(), annot=True, cmap=sns.color_palette(\"rocket_r\", as_cmap=True))\n",
    "plt.title('Correlation Matrix', fontsize=16)"
   ]
  },
  {
   "cell_type": "markdown",
   "id": "fb67dfd8",
   "metadata": {},
   "source": [
    "Almost no correlation between numerical columns"
   ]
  },
  {
   "cell_type": "markdown",
   "id": "442fbb0f",
   "metadata": {},
   "source": [
    "# Data Splitting"
   ]
  },
  {
   "cell_type": "code",
   "execution_count": 56,
   "id": "3bddc0df",
   "metadata": {},
   "outputs": [],
   "source": [
    "X = data.drop([\"Transported\"], axis=1)\n",
    "y = data[\"Transported\"]"
   ]
  },
  {
   "cell_type": "code",
   "execution_count": 57,
   "id": "297b854a",
   "metadata": {},
   "outputs": [
    {
     "data": {
      "text/html": [
       "<div>\n",
       "<style scoped>\n",
       "    .dataframe tbody tr th:only-of-type {\n",
       "        vertical-align: middle;\n",
       "    }\n",
       "\n",
       "    .dataframe tbody tr th {\n",
       "        vertical-align: top;\n",
       "    }\n",
       "\n",
       "    .dataframe thead th {\n",
       "        text-align: right;\n",
       "    }\n",
       "</style>\n",
       "<table border=\"1\" class=\"dataframe\">\n",
       "  <thead>\n",
       "    <tr style=\"text-align: right;\">\n",
       "      <th></th>\n",
       "      <th>HomePlanet</th>\n",
       "      <th>CryoSleep</th>\n",
       "      <th>Destination</th>\n",
       "      <th>Age</th>\n",
       "      <th>VIP</th>\n",
       "      <th>RoomService</th>\n",
       "      <th>FoodCourt</th>\n",
       "      <th>ShoppingMall</th>\n",
       "      <th>Spa</th>\n",
       "      <th>VRDeck</th>\n",
       "      <th>people_in_group</th>\n",
       "      <th>Deck</th>\n",
       "      <th>Cabin_num</th>\n",
       "      <th>Side</th>\n",
       "    </tr>\n",
       "  </thead>\n",
       "  <tbody>\n",
       "    <tr>\n",
       "      <th>0</th>\n",
       "      <td>Europa</td>\n",
       "      <td>False</td>\n",
       "      <td>TRAPPIST-1e</td>\n",
       "      <td>39.0</td>\n",
       "      <td>False</td>\n",
       "      <td>0.0</td>\n",
       "      <td>0.0</td>\n",
       "      <td>0.0</td>\n",
       "      <td>0.0</td>\n",
       "      <td>0.0</td>\n",
       "      <td>1</td>\n",
       "      <td>B</td>\n",
       "      <td>0</td>\n",
       "      <td>P</td>\n",
       "    </tr>\n",
       "    <tr>\n",
       "      <th>1</th>\n",
       "      <td>Earth</td>\n",
       "      <td>False</td>\n",
       "      <td>TRAPPIST-1e</td>\n",
       "      <td>24.0</td>\n",
       "      <td>False</td>\n",
       "      <td>109.0</td>\n",
       "      <td>9.0</td>\n",
       "      <td>25.0</td>\n",
       "      <td>549.0</td>\n",
       "      <td>44.0</td>\n",
       "      <td>1</td>\n",
       "      <td>F</td>\n",
       "      <td>0</td>\n",
       "      <td>S</td>\n",
       "    </tr>\n",
       "    <tr>\n",
       "      <th>2</th>\n",
       "      <td>Europa</td>\n",
       "      <td>False</td>\n",
       "      <td>TRAPPIST-1e</td>\n",
       "      <td>58.0</td>\n",
       "      <td>True</td>\n",
       "      <td>43.0</td>\n",
       "      <td>3576.0</td>\n",
       "      <td>0.0</td>\n",
       "      <td>6715.0</td>\n",
       "      <td>49.0</td>\n",
       "      <td>2</td>\n",
       "      <td>A</td>\n",
       "      <td>0</td>\n",
       "      <td>S</td>\n",
       "    </tr>\n",
       "    <tr>\n",
       "      <th>3</th>\n",
       "      <td>Europa</td>\n",
       "      <td>False</td>\n",
       "      <td>TRAPPIST-1e</td>\n",
       "      <td>33.0</td>\n",
       "      <td>False</td>\n",
       "      <td>0.0</td>\n",
       "      <td>1283.0</td>\n",
       "      <td>371.0</td>\n",
       "      <td>3329.0</td>\n",
       "      <td>193.0</td>\n",
       "      <td>2</td>\n",
       "      <td>A</td>\n",
       "      <td>0</td>\n",
       "      <td>S</td>\n",
       "    </tr>\n",
       "    <tr>\n",
       "      <th>4</th>\n",
       "      <td>Earth</td>\n",
       "      <td>False</td>\n",
       "      <td>TRAPPIST-1e</td>\n",
       "      <td>16.0</td>\n",
       "      <td>False</td>\n",
       "      <td>303.0</td>\n",
       "      <td>70.0</td>\n",
       "      <td>151.0</td>\n",
       "      <td>565.0</td>\n",
       "      <td>2.0</td>\n",
       "      <td>1</td>\n",
       "      <td>F</td>\n",
       "      <td>1</td>\n",
       "      <td>S</td>\n",
       "    </tr>\n",
       "  </tbody>\n",
       "</table>\n",
       "</div>"
      ],
      "text/plain": [
       "  HomePlanet CryoSleep  Destination   Age    VIP  RoomService  FoodCourt  \\\n",
       "0     Europa     False  TRAPPIST-1e  39.0  False          0.0        0.0   \n",
       "1      Earth     False  TRAPPIST-1e  24.0  False        109.0        9.0   \n",
       "2     Europa     False  TRAPPIST-1e  58.0   True         43.0     3576.0   \n",
       "3     Europa     False  TRAPPIST-1e  33.0  False          0.0     1283.0   \n",
       "4      Earth     False  TRAPPIST-1e  16.0  False        303.0       70.0   \n",
       "\n",
       "   ShoppingMall     Spa  VRDeck  people_in_group Deck Cabin_num Side  \n",
       "0           0.0     0.0     0.0                1    B         0    P  \n",
       "1          25.0   549.0    44.0                1    F         0    S  \n",
       "2           0.0  6715.0    49.0                2    A         0    S  \n",
       "3         371.0  3329.0   193.0                2    A         0    S  \n",
       "4         151.0   565.0     2.0                1    F         1    S  "
      ]
     },
     "execution_count": 57,
     "metadata": {},
     "output_type": "execute_result"
    }
   ],
   "source": [
    "X.head()"
   ]
  },
  {
   "cell_type": "code",
   "execution_count": 58,
   "id": "bde7a48c",
   "metadata": {},
   "outputs": [
    {
     "data": {
      "text/plain": [
       "0    False\n",
       "1     True\n",
       "2    False\n",
       "3    False\n",
       "4     True\n",
       "Name: Transported, dtype: bool"
      ]
     },
     "execution_count": 58,
     "metadata": {},
     "output_type": "execute_result"
    }
   ],
   "source": [
    "y.head()"
   ]
  },
  {
   "cell_type": "code",
   "execution_count": 59,
   "id": "6e398d29",
   "metadata": {},
   "outputs": [
    {
     "name": "stdout",
     "output_type": "stream",
     "text": [
      "Train data length :  6954\n",
      "Test data length :  1739\n"
     ]
    }
   ],
   "source": [
    "X_train, X_val, y_train, y_val = train_test_split(X, y, test_size=0.2, random_state=123, stratify=y)\n",
    "\n",
    "print('Train data length : ', X_train.shape[0])\n",
    "print('Test data length : ', X_val.shape[0])"
   ]
  },
  {
   "cell_type": "markdown",
   "id": "c5ee73d8",
   "metadata": {},
   "source": [
    "#### Check proprtion"
   ]
  },
  {
   "cell_type": "code",
   "execution_count": 60,
   "id": "409cc839",
   "metadata": {},
   "outputs": [
    {
     "data": {
      "text/plain": [
       "True     0.503624\n",
       "False    0.496376\n",
       "Name: Transported, dtype: float64"
      ]
     },
     "execution_count": 60,
     "metadata": {},
     "output_type": "execute_result"
    }
   ],
   "source": [
    "data['Transported'].value_counts(normalize = True)"
   ]
  },
  {
   "cell_type": "code",
   "execution_count": 61,
   "id": "40a76350",
   "metadata": {},
   "outputs": [
    {
     "data": {
      "text/plain": [
       "True     0.503595\n",
       "False    0.496405\n",
       "Name: Transported, dtype: float64"
      ]
     },
     "execution_count": 61,
     "metadata": {},
     "output_type": "execute_result"
    }
   ],
   "source": [
    "y_train.value_counts(normalize=True)"
   ]
  },
  {
   "cell_type": "code",
   "execution_count": 62,
   "id": "b56b8d04",
   "metadata": {},
   "outputs": [
    {
     "data": {
      "text/plain": [
       "True     0.503738\n",
       "False    0.496262\n",
       "Name: Transported, dtype: float64"
      ]
     },
     "execution_count": 62,
     "metadata": {},
     "output_type": "execute_result"
    }
   ],
   "source": [
    "y_val.value_counts(normalize=True)"
   ]
  },
  {
   "cell_type": "markdown",
   "id": "b2fa373d",
   "metadata": {},
   "source": [
    "Data proportion is kept the same"
   ]
  },
  {
   "cell_type": "markdown",
   "id": "9b240ba7",
   "metadata": {},
   "source": [
    "# Preprocessing"
   ]
  },
  {
   "cell_type": "markdown",
   "id": "405af800",
   "metadata": {},
   "source": [
    "## Outlier Handling"
   ]
  },
  {
   "cell_type": "code",
   "execution_count": 63,
   "id": "cf49f2a6",
   "metadata": {},
   "outputs": [],
   "source": [
    "# Function for plotting outlier\n",
    "def outlier_plot(dataframe, features:list):\n",
    "    n = len(features)\n",
    "    \n",
    "    # Inisiasi figure\n",
    "    plt.figure(figsize=(10, (n*4)))\n",
    "\n",
    "    # Lakukan looping untuk fitur diinput\n",
    "    for i, ft in enumerate(features):\n",
    "\n",
    "        # Boxplot\n",
    "        plt.subplot(n, 2, i*2+1)\n",
    "        plt.title(ft.capitalize())\n",
    "        sns.boxplot(dataframe[ft])\n",
    "\n",
    "        # Histogram\n",
    "        plt.subplot(n, 2, i*2+2)\n",
    "        plt.ylabel(\" \")\n",
    "        plt.xlabel(\" \")\n",
    "        sns.histplot(dataframe[ft], bins=15)\n",
    "        print(f\"Nilai Skewness {ft}: \", dataframe[ft].skew())\n",
    "        print(f\"Nilai Kurtosis {ft}: \", dataframe[ft].kurt(), end=\"\\n\\n\")"
   ]
  },
  {
   "cell_type": "code",
   "execution_count": 64,
   "id": "12f80ef0",
   "metadata": {},
   "outputs": [
    {
     "name": "stdout",
     "output_type": "stream",
     "text": [
      "Nilai Skewness Age:  0.4196249954477674\n",
      "Nilai Kurtosis Age:  0.10797333653015162\n",
      "\n",
      "Nilai Skewness RoomService:  6.321131545742857\n",
      "Nilai Kurtosis RoomService:  66.9610061663872\n",
      "\n",
      "Nilai Skewness FoodCourt:  7.277245160751891\n",
      "Nilai Kurtosis FoodCourt:  76.99781145349498\n",
      "\n",
      "Nilai Skewness ShoppingMall:  13.136869397569198\n",
      "Nilai Kurtosis ShoppingMall:  340.56181828842693\n",
      "\n",
      "Nilai Skewness Spa:  7.9512041243731435\n",
      "Nilai Kurtosis Spa:  87.38654668904707\n",
      "\n",
      "Nilai Skewness VRDeck:  8.009420290128796\n",
      "Nilai Kurtosis VRDeck:  93.29259309106162\n",
      "\n",
      "Nilai Skewness people_in_group:  1.8758874556069398\n",
      "Nilai Kurtosis people_in_group:  3.140580468674149\n",
      "\n"
     ]
    },
    {
     "data": {
      "image/png": "[encoded data removed]",
      "text/plain": [
       "<Figure size 1000x2800 with 14 Axes>"
      ]
     },
     "metadata": {},
     "output_type": "display_data"
    }
   ],
   "source": [
    "# Plot outlier for numerical values\n",
    "outlier_plot(\n",
    "    X_train,\n",
    "    ['Age', 'RoomService', 'FoodCourt', 'ShoppingMall', 'Spa', 'VRDeck', 'people_in_group']\n",
    ")"
   ]
  },
  {
   "cell_type": "code",
   "execution_count": 65,
   "id": "e704b114",
   "metadata": {},
   "outputs": [],
   "source": [
    "# Function for detecting outlier using IQR (non normal distribution)\n",
    "def check_iqr(data, variable, distance=1.5):\n",
    "    iqr = data[variable].quantile(0.75) - data[variable].quantile(0.25)\n",
    "\n",
    "    lower_limit = data[variable].quantile(0.25) - (iqr * distance)\n",
    "    upper_limit = data[variable].quantile(0.75) + (iqr * distance)\n",
    "    print(variable)\n",
    "    print(\"Upper Limint Outlier: \", upper_limit)\n",
    "    print(\"Lower Limint Outlier: \", lower_limit)\n",
    "    outlier_count = (\n",
    "        data[\n",
    "            (data[variable]\n",
    "            > upper_limit)\n",
    "            | (data[variable] < lower_limit)\n",
    "        ]\n",
    "        .count()\n",
    "        .values[0]\n",
    "    )\n",
    "    print(\"Outlier Count: \", outlier_count)\n",
    "    print(\n",
    "        \"Outlier percentage: \",\n",
    "        round(outlier_count / data.shape[0] * 100, 2),\n",
    "        \"%\",\n",
    "    end=\"\\n\\n\",\n",
    "    )\n",
    "    return upper_limit, lower_limit"
   ]
  },
  {
   "cell_type": "code",
   "execution_count": 66,
   "id": "7bc463b8",
   "metadata": {},
   "outputs": [
    {
     "name": "stdout",
     "output_type": "stream",
     "text": [
      "Age\n",
      "Upper Limint Outlier:  94.0\n",
      "Lower Limint Outlier:  -37.25\n",
      "Outlier Count:  0\n",
      "Outlier percentage:  0.0 %\n",
      "\n",
      "RoomService\n",
      "Upper Limint Outlier:  220.0\n",
      "Lower Limint Outlier:  -165.0\n",
      "Outlier Count:  1261\n",
      "Outlier percentage:  18.13 %\n",
      "\n",
      "FoodCourt\n",
      "Upper Limint Outlier:  316.0\n",
      "Lower Limint Outlier:  -237.0\n",
      "Outlier Count:  1258\n",
      "Outlier percentage:  18.09 %\n",
      "\n",
      "ShoppingMall\n",
      "Upper Limint Outlier:  112.0\n",
      "Lower Limint Outlier:  -84.0\n",
      "Outlier Count:  1314\n",
      "Outlier percentage:  18.9 %\n",
      "\n",
      "Spa\n",
      "Upper Limint Outlier:  228.0\n",
      "Lower Limint Outlier:  -171.0\n",
      "Outlier Count:  1244\n",
      "Outlier percentage:  17.89 %\n",
      "\n",
      "VRDeck\n",
      "Upper Limint Outlier:  178.0\n",
      "Lower Limint Outlier:  -133.5\n",
      "Outlier Count:  1279\n",
      "Outlier percentage:  18.39 %\n",
      "\n",
      "people_in_group\n",
      "Upper Limint Outlier:  9.0\n",
      "Lower Limint Outlier:  -5.0\n",
      "Outlier Count:  0\n",
      "Outlier percentage:  0.0 %\n",
      "\n"
     ]
    }
   ],
   "source": [
    "for cols in ['Age', 'RoomService', 'FoodCourt', 'ShoppingMall', 'Spa', 'VRDeck', 'people_in_group']:\n",
    "    check_iqr(X_train, cols, 3)"
   ]
  },
  {
   "cell_type": "markdown",
   "id": "0ed60b0e",
   "metadata": {},
   "source": [
    "There are many outliers in 'RoomService', 'FoodCourt', 'ShoppingMall', 'Spa', 'VRDeck'. It can be caused by the fact that for more than half of the passenger did not pay for it"
   ]
  },
  {
   "cell_type": "markdown",
   "id": "0036c84b",
   "metadata": {},
   "source": [
    "So we will try to check it manually"
   ]
  },
  {
   "cell_type": "markdown",
   "id": "2a21450c",
   "metadata": {},
   "source": [
    "#### Room Service Outlier"
   ]
  },
  {
   "cell_type": "code",
   "execution_count": 67,
   "id": "08ac581d",
   "metadata": {},
   "outputs": [
    {
     "data": {
      "text/html": [
       "<div>\n",
       "<style scoped>\n",
       "    .dataframe tbody tr th:only-of-type {\n",
       "        vertical-align: middle;\n",
       "    }\n",
       "\n",
       "    .dataframe tbody tr th {\n",
       "        vertical-align: top;\n",
       "    }\n",
       "\n",
       "    .dataframe thead th {\n",
       "        text-align: right;\n",
       "    }\n",
       "</style>\n",
       "<table border=\"1\" class=\"dataframe\">\n",
       "  <thead>\n",
       "    <tr style=\"text-align: right;\">\n",
       "      <th></th>\n",
       "      <th>HomePlanet</th>\n",
       "      <th>CryoSleep</th>\n",
       "      <th>Destination</th>\n",
       "      <th>Age</th>\n",
       "      <th>VIP</th>\n",
       "      <th>RoomService</th>\n",
       "      <th>FoodCourt</th>\n",
       "      <th>ShoppingMall</th>\n",
       "      <th>Spa</th>\n",
       "      <th>VRDeck</th>\n",
       "      <th>people_in_group</th>\n",
       "      <th>Deck</th>\n",
       "      <th>Cabin_num</th>\n",
       "      <th>Side</th>\n",
       "    </tr>\n",
       "  </thead>\n",
       "  <tbody>\n",
       "    <tr>\n",
       "      <th>4416</th>\n",
       "      <td>Europa</td>\n",
       "      <td>False</td>\n",
       "      <td>TRAPPIST-1e</td>\n",
       "      <td>27.0</td>\n",
       "      <td>False</td>\n",
       "      <td>14327.0</td>\n",
       "      <td>1487.0</td>\n",
       "      <td>0.0</td>\n",
       "      <td>1.0</td>\n",
       "      <td>0.0</td>\n",
       "      <td>2</td>\n",
       "      <td>NaN</td>\n",
       "      <td>NaN</td>\n",
       "      <td>NaN</td>\n",
       "    </tr>\n",
       "    <tr>\n",
       "      <th>8626</th>\n",
       "      <td>Europa</td>\n",
       "      <td>False</td>\n",
       "      <td>TRAPPIST-1e</td>\n",
       "      <td>26.0</td>\n",
       "      <td>False</td>\n",
       "      <td>8586.0</td>\n",
       "      <td>77.0</td>\n",
       "      <td>114.0</td>\n",
       "      <td>29.0</td>\n",
       "      <td>4.0</td>\n",
       "      <td>1</td>\n",
       "      <td>C</td>\n",
       "      <td>309</td>\n",
       "      <td>P</td>\n",
       "    </tr>\n",
       "    <tr>\n",
       "      <th>7118</th>\n",
       "      <td>Europa</td>\n",
       "      <td>False</td>\n",
       "      <td>TRAPPIST-1e</td>\n",
       "      <td>39.0</td>\n",
       "      <td>NaN</td>\n",
       "      <td>8209.0</td>\n",
       "      <td>18.0</td>\n",
       "      <td>432.0</td>\n",
       "      <td>3560.0</td>\n",
       "      <td>54.0</td>\n",
       "      <td>4</td>\n",
       "      <td>C</td>\n",
       "      <td>281</td>\n",
       "      <td>S</td>\n",
       "    </tr>\n",
       "    <tr>\n",
       "      <th>1177</th>\n",
       "      <td>Europa</td>\n",
       "      <td>False</td>\n",
       "      <td>TRAPPIST-1e</td>\n",
       "      <td>32.0</td>\n",
       "      <td>False</td>\n",
       "      <td>8168.0</td>\n",
       "      <td>69.0</td>\n",
       "      <td>11.0</td>\n",
       "      <td>371.0</td>\n",
       "      <td>0.0</td>\n",
       "      <td>2</td>\n",
       "      <td>A</td>\n",
       "      <td>9</td>\n",
       "      <td>P</td>\n",
       "    </tr>\n",
       "    <tr>\n",
       "      <th>4762</th>\n",
       "      <td>Europa</td>\n",
       "      <td>False</td>\n",
       "      <td>TRAPPIST-1e</td>\n",
       "      <td>32.0</td>\n",
       "      <td>False</td>\n",
       "      <td>8151.0</td>\n",
       "      <td>2052.0</td>\n",
       "      <td>1919.0</td>\n",
       "      <td>7352.0</td>\n",
       "      <td>754.0</td>\n",
       "      <td>2</td>\n",
       "      <td>E</td>\n",
       "      <td>315</td>\n",
       "      <td>P</td>\n",
       "    </tr>\n",
       "    <tr>\n",
       "      <th>928</th>\n",
       "      <td>Europa</td>\n",
       "      <td>False</td>\n",
       "      <td>55 Cancri e</td>\n",
       "      <td>35.0</td>\n",
       "      <td>True</td>\n",
       "      <td>8030.0</td>\n",
       "      <td>300.0</td>\n",
       "      <td>0.0</td>\n",
       "      <td>0.0</td>\n",
       "      <td>1436.0</td>\n",
       "      <td>6</td>\n",
       "      <td>NaN</td>\n",
       "      <td>NaN</td>\n",
       "      <td>NaN</td>\n",
       "    </tr>\n",
       "    <tr>\n",
       "      <th>75</th>\n",
       "      <td>Mars</td>\n",
       "      <td>False</td>\n",
       "      <td>TRAPPIST-1e</td>\n",
       "      <td>42.0</td>\n",
       "      <td>False</td>\n",
       "      <td>7406.0</td>\n",
       "      <td>0.0</td>\n",
       "      <td>0.0</td>\n",
       "      <td>0.0</td>\n",
       "      <td>0.0</td>\n",
       "      <td>3</td>\n",
       "      <td>F</td>\n",
       "      <td>16</td>\n",
       "      <td>P</td>\n",
       "    </tr>\n",
       "    <tr>\n",
       "      <th>1459</th>\n",
       "      <td>Mars</td>\n",
       "      <td>False</td>\n",
       "      <td>TRAPPIST-1e</td>\n",
       "      <td>13.0</td>\n",
       "      <td>False</td>\n",
       "      <td>7172.0</td>\n",
       "      <td>0.0</td>\n",
       "      <td>157.0</td>\n",
       "      <td>20.0</td>\n",
       "      <td>0.0</td>\n",
       "      <td>1</td>\n",
       "      <td>F</td>\n",
       "      <td>299</td>\n",
       "      <td>S</td>\n",
       "    </tr>\n",
       "    <tr>\n",
       "      <th>8470</th>\n",
       "      <td>Europa</td>\n",
       "      <td>False</td>\n",
       "      <td>TRAPPIST-1e</td>\n",
       "      <td>25.0</td>\n",
       "      <td>False</td>\n",
       "      <td>6899.0</td>\n",
       "      <td>265.0</td>\n",
       "      <td>0.0</td>\n",
       "      <td>2234.0</td>\n",
       "      <td>2090.0</td>\n",
       "      <td>2</td>\n",
       "      <td>C</td>\n",
       "      <td>335</td>\n",
       "      <td>S</td>\n",
       "    </tr>\n",
       "    <tr>\n",
       "      <th>1958</th>\n",
       "      <td>Mars</td>\n",
       "      <td>False</td>\n",
       "      <td>TRAPPIST-1e</td>\n",
       "      <td>13.0</td>\n",
       "      <td>NaN</td>\n",
       "      <td>6726.0</td>\n",
       "      <td>0.0</td>\n",
       "      <td>1605.0</td>\n",
       "      <td>1266.0</td>\n",
       "      <td>0.0</td>\n",
       "      <td>5</td>\n",
       "      <td>NaN</td>\n",
       "      <td>NaN</td>\n",
       "      <td>NaN</td>\n",
       "    </tr>\n",
       "  </tbody>\n",
       "</table>\n",
       "</div>"
      ],
      "text/plain": [
       "     HomePlanet CryoSleep  Destination   Age    VIP  RoomService  FoodCourt  \\\n",
       "4416     Europa     False  TRAPPIST-1e  27.0  False      14327.0     1487.0   \n",
       "8626     Europa     False  TRAPPIST-1e  26.0  False       8586.0       77.0   \n",
       "7118     Europa     False  TRAPPIST-1e  39.0    NaN       8209.0       18.0   \n",
       "1177     Europa     False  TRAPPIST-1e  32.0  False       8168.0       69.0   \n",
       "4762     Europa     False  TRAPPIST-1e  32.0  False       8151.0     2052.0   \n",
       "928      Europa     False  55 Cancri e  35.0   True       8030.0      300.0   \n",
       "75         Mars     False  TRAPPIST-1e  42.0  False       7406.0        0.0   \n",
       "1459       Mars     False  TRAPPIST-1e  13.0  False       7172.0        0.0   \n",
       "8470     Europa     False  TRAPPIST-1e  25.0  False       6899.0      265.0   \n",
       "1958       Mars     False  TRAPPIST-1e  13.0    NaN       6726.0        0.0   \n",
       "\n",
       "      ShoppingMall     Spa  VRDeck  people_in_group Deck Cabin_num Side  \n",
       "4416           0.0     1.0     0.0                2  NaN       NaN  NaN  \n",
       "8626         114.0    29.0     4.0                1    C       309    P  \n",
       "7118         432.0  3560.0    54.0                4    C       281    S  \n",
       "1177          11.0   371.0     0.0                2    A         9    P  \n",
       "4762        1919.0  7352.0   754.0                2    E       315    P  \n",
       "928            0.0     0.0  1436.0                6  NaN       NaN  NaN  \n",
       "75             0.0     0.0     0.0                3    F        16    P  \n",
       "1459         157.0    20.0     0.0                1    F       299    S  \n",
       "8470           0.0  2234.0  2090.0                2    C       335    S  \n",
       "1958        1605.0  1266.0     0.0                5  NaN       NaN  NaN  "
      ]
     },
     "execution_count": 67,
     "metadata": {},
     "output_type": "execute_result"
    }
   ],
   "source": [
    "X_train.sort_values('RoomService', ascending=False).head(10)"
   ]
  },
  {
   "cell_type": "markdown",
   "id": "6115d64f",
   "metadata": {},
   "source": [
    "There's one person that pay significantly more for RoomService compared to other passengers. We will handle it"
   ]
  },
  {
   "cell_type": "code",
   "execution_count": 68,
   "id": "03e6636b",
   "metadata": {},
   "outputs": [
    {
     "data": {
      "text/plain": [
       "[4416]"
      ]
     },
     "execution_count": 68,
     "metadata": {},
     "output_type": "execute_result"
    }
   ],
   "source": [
    "outlier_RoomService = X_train.sort_values('RoomService', ascending=False).iloc[[0]].index.to_list()\n",
    "outlier_RoomService"
   ]
  },
  {
   "cell_type": "markdown",
   "id": "2312e4b6",
   "metadata": {},
   "source": [
    "#### Food Court Outlier"
   ]
  },
  {
   "cell_type": "code",
   "execution_count": 69,
   "id": "19647db2",
   "metadata": {},
   "outputs": [
    {
     "data": {
      "text/html": [
       "<div>\n",
       "<style scoped>\n",
       "    .dataframe tbody tr th:only-of-type {\n",
       "        vertical-align: middle;\n",
       "    }\n",
       "\n",
       "    .dataframe tbody tr th {\n",
       "        vertical-align: top;\n",
       "    }\n",
       "\n",
       "    .dataframe thead th {\n",
       "        text-align: right;\n",
       "    }\n",
       "</style>\n",
       "<table border=\"1\" class=\"dataframe\">\n",
       "  <thead>\n",
       "    <tr style=\"text-align: right;\">\n",
       "      <th></th>\n",
       "      <th>HomePlanet</th>\n",
       "      <th>CryoSleep</th>\n",
       "      <th>Destination</th>\n",
       "      <th>Age</th>\n",
       "      <th>VIP</th>\n",
       "      <th>RoomService</th>\n",
       "      <th>FoodCourt</th>\n",
       "      <th>ShoppingMall</th>\n",
       "      <th>Spa</th>\n",
       "      <th>VRDeck</th>\n",
       "      <th>people_in_group</th>\n",
       "      <th>Deck</th>\n",
       "      <th>Cabin_num</th>\n",
       "      <th>Side</th>\n",
       "    </tr>\n",
       "  </thead>\n",
       "  <tbody>\n",
       "    <tr>\n",
       "      <th>2067</th>\n",
       "      <td>Europa</td>\n",
       "      <td>False</td>\n",
       "      <td>55 Cancri e</td>\n",
       "      <td>41.0</td>\n",
       "      <td>True</td>\n",
       "      <td>0.0</td>\n",
       "      <td>29813.0</td>\n",
       "      <td>0.0</td>\n",
       "      <td>1257.0</td>\n",
       "      <td>6.0</td>\n",
       "      <td>4</td>\n",
       "      <td>A</td>\n",
       "      <td>27</td>\n",
       "      <td>S</td>\n",
       "    </tr>\n",
       "    <tr>\n",
       "      <th>1213</th>\n",
       "      <td>Europa</td>\n",
       "      <td>False</td>\n",
       "      <td>55 Cancri e</td>\n",
       "      <td>31.0</td>\n",
       "      <td>True</td>\n",
       "      <td>0.0</td>\n",
       "      <td>27723.0</td>\n",
       "      <td>3.0</td>\n",
       "      <td>202.0</td>\n",
       "      <td>3146.0</td>\n",
       "      <td>2</td>\n",
       "      <td>B</td>\n",
       "      <td>55</td>\n",
       "      <td>S</td>\n",
       "    </tr>\n",
       "    <tr>\n",
       "      <th>3198</th>\n",
       "      <td>Europa</td>\n",
       "      <td>False</td>\n",
       "      <td>55 Cancri e</td>\n",
       "      <td>33.0</td>\n",
       "      <td>False</td>\n",
       "      <td>0.0</td>\n",
       "      <td>27071.0</td>\n",
       "      <td>0.0</td>\n",
       "      <td>15.0</td>\n",
       "      <td>0.0</td>\n",
       "      <td>4</td>\n",
       "      <td>B</td>\n",
       "      <td>131</td>\n",
       "      <td>S</td>\n",
       "    </tr>\n",
       "    <tr>\n",
       "      <th>3538</th>\n",
       "      <td>Europa</td>\n",
       "      <td>False</td>\n",
       "      <td>55 Cancri e</td>\n",
       "      <td>33.0</td>\n",
       "      <td>False</td>\n",
       "      <td>90.0</td>\n",
       "      <td>26830.0</td>\n",
       "      <td>0.0</td>\n",
       "      <td>27.0</td>\n",
       "      <td>703.0</td>\n",
       "      <td>1</td>\n",
       "      <td>B</td>\n",
       "      <td>121</td>\n",
       "      <td>P</td>\n",
       "    </tr>\n",
       "    <tr>\n",
       "      <th>1842</th>\n",
       "      <td>Europa</td>\n",
       "      <td>False</td>\n",
       "      <td>55 Cancri e</td>\n",
       "      <td>27.0</td>\n",
       "      <td>False</td>\n",
       "      <td>NaN</td>\n",
       "      <td>21066.0</td>\n",
       "      <td>0.0</td>\n",
       "      <td>2448.0</td>\n",
       "      <td>2293.0</td>\n",
       "      <td>1</td>\n",
       "      <td>C</td>\n",
       "      <td>75</td>\n",
       "      <td>S</td>\n",
       "    </tr>\n",
       "    <tr>\n",
       "      <th>3180</th>\n",
       "      <td>Europa</td>\n",
       "      <td>False</td>\n",
       "      <td>TRAPPIST-1e</td>\n",
       "      <td>27.0</td>\n",
       "      <td>False</td>\n",
       "      <td>0.0</td>\n",
       "      <td>18481.0</td>\n",
       "      <td>0.0</td>\n",
       "      <td>2.0</td>\n",
       "      <td>3875.0</td>\n",
       "      <td>2</td>\n",
       "      <td>C</td>\n",
       "      <td>113</td>\n",
       "      <td>P</td>\n",
       "    </tr>\n",
       "    <tr>\n",
       "      <th>7520</th>\n",
       "      <td>Europa</td>\n",
       "      <td>False</td>\n",
       "      <td>55 Cancri e</td>\n",
       "      <td>45.0</td>\n",
       "      <td>False</td>\n",
       "      <td>5.0</td>\n",
       "      <td>17901.0</td>\n",
       "      <td>0.0</td>\n",
       "      <td>79.0</td>\n",
       "      <td>281.0</td>\n",
       "      <td>4</td>\n",
       "      <td>A</td>\n",
       "      <td>97</td>\n",
       "      <td>S</td>\n",
       "    </tr>\n",
       "    <tr>\n",
       "      <th>4083</th>\n",
       "      <td>Europa</td>\n",
       "      <td>False</td>\n",
       "      <td>55 Cancri e</td>\n",
       "      <td>40.0</td>\n",
       "      <td>False</td>\n",
       "      <td>0.0</td>\n",
       "      <td>17687.0</td>\n",
       "      <td>0.0</td>\n",
       "      <td>425.0</td>\n",
       "      <td>155.0</td>\n",
       "      <td>3</td>\n",
       "      <td>C</td>\n",
       "      <td>137</td>\n",
       "      <td>P</td>\n",
       "    </tr>\n",
       "    <tr>\n",
       "      <th>3428</th>\n",
       "      <td>Europa</td>\n",
       "      <td>False</td>\n",
       "      <td>55 Cancri e</td>\n",
       "      <td>25.0</td>\n",
       "      <td>NaN</td>\n",
       "      <td>0.0</td>\n",
       "      <td>17432.0</td>\n",
       "      <td>0.0</td>\n",
       "      <td>241.0</td>\n",
       "      <td>2102.0</td>\n",
       "      <td>4</td>\n",
       "      <td>C</td>\n",
       "      <td>123</td>\n",
       "      <td>P</td>\n",
       "    </tr>\n",
       "    <tr>\n",
       "      <th>1496</th>\n",
       "      <td>Europa</td>\n",
       "      <td>False</td>\n",
       "      <td>55 Cancri e</td>\n",
       "      <td>35.0</td>\n",
       "      <td>False</td>\n",
       "      <td>0.0</td>\n",
       "      <td>17394.0</td>\n",
       "      <td>0.0</td>\n",
       "      <td>724.0</td>\n",
       "      <td>0.0</td>\n",
       "      <td>2</td>\n",
       "      <td>E</td>\n",
       "      <td>99</td>\n",
       "      <td>P</td>\n",
       "    </tr>\n",
       "  </tbody>\n",
       "</table>\n",
       "</div>"
      ],
      "text/plain": [
       "     HomePlanet CryoSleep  Destination   Age    VIP  RoomService  FoodCourt  \\\n",
       "2067     Europa     False  55 Cancri e  41.0   True          0.0    29813.0   \n",
       "1213     Europa     False  55 Cancri e  31.0   True          0.0    27723.0   \n",
       "3198     Europa     False  55 Cancri e  33.0  False          0.0    27071.0   \n",
       "3538     Europa     False  55 Cancri e  33.0  False         90.0    26830.0   \n",
       "1842     Europa     False  55 Cancri e  27.0  False          NaN    21066.0   \n",
       "3180     Europa     False  TRAPPIST-1e  27.0  False          0.0    18481.0   \n",
       "7520     Europa     False  55 Cancri e  45.0  False          5.0    17901.0   \n",
       "4083     Europa     False  55 Cancri e  40.0  False          0.0    17687.0   \n",
       "3428     Europa     False  55 Cancri e  25.0    NaN          0.0    17432.0   \n",
       "1496     Europa     False  55 Cancri e  35.0  False          0.0    17394.0   \n",
       "\n",
       "      ShoppingMall     Spa  VRDeck  people_in_group Deck Cabin_num Side  \n",
       "2067           0.0  1257.0     6.0                4    A        27    S  \n",
       "1213           3.0   202.0  3146.0                2    B        55    S  \n",
       "3198           0.0    15.0     0.0                4    B       131    S  \n",
       "3538           0.0    27.0   703.0                1    B       121    P  \n",
       "1842           0.0  2448.0  2293.0                1    C        75    S  \n",
       "3180           0.0     2.0  3875.0                2    C       113    P  \n",
       "7520           0.0    79.0   281.0                4    A        97    S  \n",
       "4083           0.0   425.0   155.0                3    C       137    P  \n",
       "3428           0.0   241.0  2102.0                4    C       123    P  \n",
       "1496           0.0   724.0     0.0                2    E        99    P  "
      ]
     },
     "execution_count": 69,
     "metadata": {},
     "output_type": "execute_result"
    }
   ],
   "source": [
    "X_train.sort_values('FoodCourt', ascending=False).head(10)"
   ]
  },
  {
   "cell_type": "markdown",
   "id": "df587b73",
   "metadata": {},
   "source": [
    "There's four people that pay significantly more for Food Court compared to other passengers. We will handle it"
   ]
  },
  {
   "cell_type": "code",
   "execution_count": 70,
   "id": "d1d04e26",
   "metadata": {},
   "outputs": [
    {
     "data": {
      "text/plain": [
       "[2067, 1213, 3198, 3538]"
      ]
     },
     "execution_count": 70,
     "metadata": {},
     "output_type": "execute_result"
    }
   ],
   "source": [
    "outlier_FoodCourt = X_train.sort_values('FoodCourt', ascending=False).iloc[0:4].index.to_list()\n",
    "outlier_FoodCourt"
   ]
  },
  {
   "cell_type": "markdown",
   "id": "eca5d1ea",
   "metadata": {},
   "source": [
    "#### Shopping Mall Outlier"
   ]
  },
  {
   "cell_type": "code",
   "execution_count": 71,
   "id": "42e6fb8e",
   "metadata": {},
   "outputs": [
    {
     "data": {
      "text/html": [
       "<div>\n",
       "<style scoped>\n",
       "    .dataframe tbody tr th:only-of-type {\n",
       "        vertical-align: middle;\n",
       "    }\n",
       "\n",
       "    .dataframe tbody tr th {\n",
       "        vertical-align: top;\n",
       "    }\n",
       "\n",
       "    .dataframe thead th {\n",
       "        text-align: right;\n",
       "    }\n",
       "</style>\n",
       "<table border=\"1\" class=\"dataframe\">\n",
       "  <thead>\n",
       "    <tr style=\"text-align: right;\">\n",
       "      <th></th>\n",
       "      <th>HomePlanet</th>\n",
       "      <th>CryoSleep</th>\n",
       "      <th>Destination</th>\n",
       "      <th>Age</th>\n",
       "      <th>VIP</th>\n",
       "      <th>RoomService</th>\n",
       "      <th>FoodCourt</th>\n",
       "      <th>ShoppingMall</th>\n",
       "      <th>Spa</th>\n",
       "      <th>VRDeck</th>\n",
       "      <th>people_in_group</th>\n",
       "      <th>Deck</th>\n",
       "      <th>Cabin_num</th>\n",
       "      <th>Side</th>\n",
       "    </tr>\n",
       "  </thead>\n",
       "  <tbody>\n",
       "    <tr>\n",
       "      <th>8415</th>\n",
       "      <td>Europa</td>\n",
       "      <td>False</td>\n",
       "      <td>TRAPPIST-1e</td>\n",
       "      <td>17.0</td>\n",
       "      <td>False</td>\n",
       "      <td>0.0</td>\n",
       "      <td>366.0</td>\n",
       "      <td>23492.0</td>\n",
       "      <td>356.0</td>\n",
       "      <td>3.0</td>\n",
       "      <td>4</td>\n",
       "      <td>B</td>\n",
       "      <td>291</td>\n",
       "      <td>P</td>\n",
       "    </tr>\n",
       "    <tr>\n",
       "      <th>6223</th>\n",
       "      <td>Europa</td>\n",
       "      <td>False</td>\n",
       "      <td>TRAPPIST-1e</td>\n",
       "      <td>13.0</td>\n",
       "      <td>False</td>\n",
       "      <td>0.0</td>\n",
       "      <td>100.0</td>\n",
       "      <td>12253.0</td>\n",
       "      <td>6.0</td>\n",
       "      <td>80.0</td>\n",
       "      <td>2</td>\n",
       "      <td>B</td>\n",
       "      <td>254</td>\n",
       "      <td>S</td>\n",
       "    </tr>\n",
       "    <tr>\n",
       "      <th>7425</th>\n",
       "      <td>Europa</td>\n",
       "      <td>False</td>\n",
       "      <td>TRAPPIST-1e</td>\n",
       "      <td>41.0</td>\n",
       "      <td>False</td>\n",
       "      <td>0.0</td>\n",
       "      <td>116.0</td>\n",
       "      <td>10705.0</td>\n",
       "      <td>9181.0</td>\n",
       "      <td>10.0</td>\n",
       "      <td>1</td>\n",
       "      <td>C</td>\n",
       "      <td>257</td>\n",
       "      <td>P</td>\n",
       "    </tr>\n",
       "    <tr>\n",
       "      <th>4724</th>\n",
       "      <td>Europa</td>\n",
       "      <td>False</td>\n",
       "      <td>TRAPPIST-1e</td>\n",
       "      <td>26.0</td>\n",
       "      <td>False</td>\n",
       "      <td>0.0</td>\n",
       "      <td>21.0</td>\n",
       "      <td>10424.0</td>\n",
       "      <td>1373.0</td>\n",
       "      <td>7218.0</td>\n",
       "      <td>2</td>\n",
       "      <td>C</td>\n",
       "      <td>195</td>\n",
       "      <td>S</td>\n",
       "    </tr>\n",
       "    <tr>\n",
       "      <th>5673</th>\n",
       "      <td>Europa</td>\n",
       "      <td>False</td>\n",
       "      <td>TRAPPIST-1e</td>\n",
       "      <td>36.0</td>\n",
       "      <td>False</td>\n",
       "      <td>0.0</td>\n",
       "      <td>1828.0</td>\n",
       "      <td>9058.0</td>\n",
       "      <td>1.0</td>\n",
       "      <td>2.0</td>\n",
       "      <td>1</td>\n",
       "      <td>B</td>\n",
       "      <td>232</td>\n",
       "      <td>S</td>\n",
       "    </tr>\n",
       "    <tr>\n",
       "      <th>8315</th>\n",
       "      <td>Europa</td>\n",
       "      <td>False</td>\n",
       "      <td>55 Cancri e</td>\n",
       "      <td>44.0</td>\n",
       "      <td>False</td>\n",
       "      <td>0.0</td>\n",
       "      <td>71.0</td>\n",
       "      <td>7148.0</td>\n",
       "      <td>427.0</td>\n",
       "      <td>394.0</td>\n",
       "      <td>1</td>\n",
       "      <td>B</td>\n",
       "      <td>287</td>\n",
       "      <td>P</td>\n",
       "    </tr>\n",
       "    <tr>\n",
       "      <th>637</th>\n",
       "      <td>NaN</td>\n",
       "      <td>False</td>\n",
       "      <td>TRAPPIST-1e</td>\n",
       "      <td>28.0</td>\n",
       "      <td>False</td>\n",
       "      <td>NaN</td>\n",
       "      <td>0.0</td>\n",
       "      <td>7104.0</td>\n",
       "      <td>0.0</td>\n",
       "      <td>0.0</td>\n",
       "      <td>2</td>\n",
       "      <td>F</td>\n",
       "      <td>141</td>\n",
       "      <td>P</td>\n",
       "    </tr>\n",
       "    <tr>\n",
       "      <th>5137</th>\n",
       "      <td>Europa</td>\n",
       "      <td>False</td>\n",
       "      <td>TRAPPIST-1e</td>\n",
       "      <td>15.0</td>\n",
       "      <td>False</td>\n",
       "      <td>0.0</td>\n",
       "      <td>22.0</td>\n",
       "      <td>6805.0</td>\n",
       "      <td>0.0</td>\n",
       "      <td>531.0</td>\n",
       "      <td>4</td>\n",
       "      <td>B</td>\n",
       "      <td>186</td>\n",
       "      <td>P</td>\n",
       "    </tr>\n",
       "    <tr>\n",
       "      <th>7950</th>\n",
       "      <td>Mars</td>\n",
       "      <td>False</td>\n",
       "      <td>55 Cancri e</td>\n",
       "      <td>35.0</td>\n",
       "      <td>False</td>\n",
       "      <td>319.0</td>\n",
       "      <td>0.0</td>\n",
       "      <td>6331.0</td>\n",
       "      <td>8.0</td>\n",
       "      <td>0.0</td>\n",
       "      <td>1</td>\n",
       "      <td>F</td>\n",
       "      <td>1635</td>\n",
       "      <td>S</td>\n",
       "    </tr>\n",
       "    <tr>\n",
       "      <th>8078</th>\n",
       "      <td>Mars</td>\n",
       "      <td>False</td>\n",
       "      <td>TRAPPIST-1e</td>\n",
       "      <td>25.0</td>\n",
       "      <td>False</td>\n",
       "      <td>987.0</td>\n",
       "      <td>0.0</td>\n",
       "      <td>6221.0</td>\n",
       "      <td>141.0</td>\n",
       "      <td>0.0</td>\n",
       "      <td>3</td>\n",
       "      <td>F</td>\n",
       "      <td>1773</td>\n",
       "      <td>P</td>\n",
       "    </tr>\n",
       "  </tbody>\n",
       "</table>\n",
       "</div>"
      ],
      "text/plain": [
       "     HomePlanet CryoSleep  Destination   Age    VIP  RoomService  FoodCourt  \\\n",
       "8415     Europa     False  TRAPPIST-1e  17.0  False          0.0      366.0   \n",
       "6223     Europa     False  TRAPPIST-1e  13.0  False          0.0      100.0   \n",
       "7425     Europa     False  TRAPPIST-1e  41.0  False          0.0      116.0   \n",
       "4724     Europa     False  TRAPPIST-1e  26.0  False          0.0       21.0   \n",
       "5673     Europa     False  TRAPPIST-1e  36.0  False          0.0     1828.0   \n",
       "8315     Europa     False  55 Cancri e  44.0  False          0.0       71.0   \n",
       "637         NaN     False  TRAPPIST-1e  28.0  False          NaN        0.0   \n",
       "5137     Europa     False  TRAPPIST-1e  15.0  False          0.0       22.0   \n",
       "7950       Mars     False  55 Cancri e  35.0  False        319.0        0.0   \n",
       "8078       Mars     False  TRAPPIST-1e  25.0  False        987.0        0.0   \n",
       "\n",
       "      ShoppingMall     Spa  VRDeck  people_in_group Deck Cabin_num Side  \n",
       "8415       23492.0   356.0     3.0                4    B       291    P  \n",
       "6223       12253.0     6.0    80.0                2    B       254    S  \n",
       "7425       10705.0  9181.0    10.0                1    C       257    P  \n",
       "4724       10424.0  1373.0  7218.0                2    C       195    S  \n",
       "5673        9058.0     1.0     2.0                1    B       232    S  \n",
       "8315        7148.0   427.0   394.0                1    B       287    P  \n",
       "637         7104.0     0.0     0.0                2    F       141    P  \n",
       "5137        6805.0     0.0   531.0                4    B       186    P  \n",
       "7950        6331.0     8.0     0.0                1    F      1635    S  \n",
       "8078        6221.0   141.0     0.0                3    F      1773    P  "
      ]
     },
     "execution_count": 71,
     "metadata": {},
     "output_type": "execute_result"
    }
   ],
   "source": [
    "X_train.sort_values('ShoppingMall', ascending=False).head(10)"
   ]
  },
  {
   "cell_type": "markdown",
   "id": "705eb7d4",
   "metadata": {},
   "source": [
    "There's one person that pay significantly more for Shopping Mall compared to other passengers. We will handle it"
   ]
  },
  {
   "cell_type": "code",
   "execution_count": 72,
   "id": "f69f38f3",
   "metadata": {},
   "outputs": [
    {
     "data": {
      "text/plain": [
       "[8415]"
      ]
     },
     "execution_count": 72,
     "metadata": {},
     "output_type": "execute_result"
    }
   ],
   "source": [
    "outlier_ShoppingMall = X_train.sort_values('ShoppingMall', ascending=False).iloc[[0]].index.to_list()\n",
    "outlier_ShoppingMall"
   ]
  },
  {
   "cell_type": "markdown",
   "id": "b6019946",
   "metadata": {},
   "source": [
    "#### Spa Outlier"
   ]
  },
  {
   "cell_type": "code",
   "execution_count": 73,
   "id": "d0ef67a9",
   "metadata": {},
   "outputs": [
    {
     "data": {
      "text/html": [
       "<div>\n",
       "<style scoped>\n",
       "    .dataframe tbody tr th:only-of-type {\n",
       "        vertical-align: middle;\n",
       "    }\n",
       "\n",
       "    .dataframe tbody tr th {\n",
       "        vertical-align: top;\n",
       "    }\n",
       "\n",
       "    .dataframe thead th {\n",
       "        text-align: right;\n",
       "    }\n",
       "</style>\n",
       "<table border=\"1\" class=\"dataframe\">\n",
       "  <thead>\n",
       "    <tr style=\"text-align: right;\">\n",
       "      <th></th>\n",
       "      <th>HomePlanet</th>\n",
       "      <th>CryoSleep</th>\n",
       "      <th>Destination</th>\n",
       "      <th>Age</th>\n",
       "      <th>VIP</th>\n",
       "      <th>RoomService</th>\n",
       "      <th>FoodCourt</th>\n",
       "      <th>ShoppingMall</th>\n",
       "      <th>Spa</th>\n",
       "      <th>VRDeck</th>\n",
       "      <th>people_in_group</th>\n",
       "      <th>Deck</th>\n",
       "      <th>Cabin_num</th>\n",
       "      <th>Side</th>\n",
       "    </tr>\n",
       "  </thead>\n",
       "  <tbody>\n",
       "    <tr>\n",
       "      <th>5722</th>\n",
       "      <td>Europa</td>\n",
       "      <td>False</td>\n",
       "      <td>55 Cancri e</td>\n",
       "      <td>68.0</td>\n",
       "      <td>False</td>\n",
       "      <td>125.0</td>\n",
       "      <td>13437.0</td>\n",
       "      <td>0.0</td>\n",
       "      <td>22408.0</td>\n",
       "      <td>17.0</td>\n",
       "      <td>1</td>\n",
       "      <td>C</td>\n",
       "      <td>186</td>\n",
       "      <td>P</td>\n",
       "    </tr>\n",
       "    <tr>\n",
       "      <th>7995</th>\n",
       "      <td>Europa</td>\n",
       "      <td>False</td>\n",
       "      <td>TRAPPIST-1e</td>\n",
       "      <td>18.0</td>\n",
       "      <td>False</td>\n",
       "      <td>0.0</td>\n",
       "      <td>1878.0</td>\n",
       "      <td>0.0</td>\n",
       "      <td>18572.0</td>\n",
       "      <td>10028.0</td>\n",
       "      <td>2</td>\n",
       "      <td>B</td>\n",
       "      <td>280</td>\n",
       "      <td>P</td>\n",
       "    </tr>\n",
       "    <tr>\n",
       "      <th>1390</th>\n",
       "      <td>Europa</td>\n",
       "      <td>False</td>\n",
       "      <td>55 Cancri e</td>\n",
       "      <td>76.0</td>\n",
       "      <td>False</td>\n",
       "      <td>0.0</td>\n",
       "      <td>2732.0</td>\n",
       "      <td>422.0</td>\n",
       "      <td>16594.0</td>\n",
       "      <td>330.0</td>\n",
       "      <td>5</td>\n",
       "      <td>B</td>\n",
       "      <td>62</td>\n",
       "      <td>S</td>\n",
       "    </tr>\n",
       "    <tr>\n",
       "      <th>1095</th>\n",
       "      <td>Europa</td>\n",
       "      <td>False</td>\n",
       "      <td>55 Cancri e</td>\n",
       "      <td>19.0</td>\n",
       "      <td>False</td>\n",
       "      <td>0.0</td>\n",
       "      <td>1291.0</td>\n",
       "      <td>0.0</td>\n",
       "      <td>16139.0</td>\n",
       "      <td>687.0</td>\n",
       "      <td>2</td>\n",
       "      <td>B</td>\n",
       "      <td>48</td>\n",
       "      <td>S</td>\n",
       "    </tr>\n",
       "    <tr>\n",
       "      <th>6921</th>\n",
       "      <td>Europa</td>\n",
       "      <td>False</td>\n",
       "      <td>NaN</td>\n",
       "      <td>33.0</td>\n",
       "      <td>False</td>\n",
       "      <td>0.0</td>\n",
       "      <td>2107.0</td>\n",
       "      <td>0.0</td>\n",
       "      <td>15586.0</td>\n",
       "      <td>473.0</td>\n",
       "      <td>1</td>\n",
       "      <td>E</td>\n",
       "      <td>474</td>\n",
       "      <td>P</td>\n",
       "    </tr>\n",
       "    <tr>\n",
       "      <th>1598</th>\n",
       "      <td>Europa</td>\n",
       "      <td>False</td>\n",
       "      <td>TRAPPIST-1e</td>\n",
       "      <td>43.0</td>\n",
       "      <td>False</td>\n",
       "      <td>0.0</td>\n",
       "      <td>760.0</td>\n",
       "      <td>17.0</td>\n",
       "      <td>15331.0</td>\n",
       "      <td>427.0</td>\n",
       "      <td>1</td>\n",
       "      <td>B</td>\n",
       "      <td>55</td>\n",
       "      <td>P</td>\n",
       "    </tr>\n",
       "    <tr>\n",
       "      <th>4278</th>\n",
       "      <td>Europa</td>\n",
       "      <td>False</td>\n",
       "      <td>55 Cancri e</td>\n",
       "      <td>54.0</td>\n",
       "      <td>False</td>\n",
       "      <td>0.0</td>\n",
       "      <td>559.0</td>\n",
       "      <td>0.0</td>\n",
       "      <td>15238.0</td>\n",
       "      <td>2799.0</td>\n",
       "      <td>1</td>\n",
       "      <td>C</td>\n",
       "      <td>167</td>\n",
       "      <td>S</td>\n",
       "    </tr>\n",
       "    <tr>\n",
       "      <th>154</th>\n",
       "      <td>Europa</td>\n",
       "      <td>False</td>\n",
       "      <td>TRAPPIST-1e</td>\n",
       "      <td>38.0</td>\n",
       "      <td>False</td>\n",
       "      <td>0.0</td>\n",
       "      <td>10346.0</td>\n",
       "      <td>1.0</td>\n",
       "      <td>14970.0</td>\n",
       "      <td>2111.0</td>\n",
       "      <td>1</td>\n",
       "      <td>B</td>\n",
       "      <td>2</td>\n",
       "      <td>S</td>\n",
       "    </tr>\n",
       "    <tr>\n",
       "      <th>8459</th>\n",
       "      <td>Europa</td>\n",
       "      <td>False</td>\n",
       "      <td>55 Cancri e</td>\n",
       "      <td>27.0</td>\n",
       "      <td>False</td>\n",
       "      <td>0.0</td>\n",
       "      <td>984.0</td>\n",
       "      <td>0.0</td>\n",
       "      <td>13995.0</td>\n",
       "      <td>312.0</td>\n",
       "      <td>5</td>\n",
       "      <td>D</td>\n",
       "      <td>288</td>\n",
       "      <td>P</td>\n",
       "    </tr>\n",
       "    <tr>\n",
       "      <th>7065</th>\n",
       "      <td>Europa</td>\n",
       "      <td>False</td>\n",
       "      <td>PSO J318.5-22</td>\n",
       "      <td>32.0</td>\n",
       "      <td>True</td>\n",
       "      <td>2502.0</td>\n",
       "      <td>700.0</td>\n",
       "      <td>1104.0</td>\n",
       "      <td>13902.0</td>\n",
       "      <td>484.0</td>\n",
       "      <td>2</td>\n",
       "      <td>B</td>\n",
       "      <td>246</td>\n",
       "      <td>P</td>\n",
       "    </tr>\n",
       "  </tbody>\n",
       "</table>\n",
       "</div>"
      ],
      "text/plain": [
       "     HomePlanet CryoSleep    Destination   Age    VIP  RoomService  FoodCourt  \\\n",
       "5722     Europa     False    55 Cancri e  68.0  False        125.0    13437.0   \n",
       "7995     Europa     False    TRAPPIST-1e  18.0  False          0.0     1878.0   \n",
       "1390     Europa     False    55 Cancri e  76.0  False          0.0     2732.0   \n",
       "1095     Europa     False    55 Cancri e  19.0  False          0.0     1291.0   \n",
       "6921     Europa     False            NaN  33.0  False          0.0     2107.0   \n",
       "1598     Europa     False    TRAPPIST-1e  43.0  False          0.0      760.0   \n",
       "4278     Europa     False    55 Cancri e  54.0  False          0.0      559.0   \n",
       "154      Europa     False    TRAPPIST-1e  38.0  False          0.0    10346.0   \n",
       "8459     Europa     False    55 Cancri e  27.0  False          0.0      984.0   \n",
       "7065     Europa     False  PSO J318.5-22  32.0   True       2502.0      700.0   \n",
       "\n",
       "      ShoppingMall      Spa   VRDeck  people_in_group Deck Cabin_num Side  \n",
       "5722           0.0  22408.0     17.0                1    C       186    P  \n",
       "7995           0.0  18572.0  10028.0                2    B       280    P  \n",
       "1390         422.0  16594.0    330.0                5    B        62    S  \n",
       "1095           0.0  16139.0    687.0                2    B        48    S  \n",
       "6921           0.0  15586.0    473.0                1    E       474    P  \n",
       "1598          17.0  15331.0    427.0                1    B        55    P  \n",
       "4278           0.0  15238.0   2799.0                1    C       167    S  \n",
       "154            1.0  14970.0   2111.0                1    B         2    S  \n",
       "8459           0.0  13995.0    312.0                5    D       288    P  \n",
       "7065        1104.0  13902.0    484.0                2    B       246    P  "
      ]
     },
     "execution_count": 73,
     "metadata": {},
     "output_type": "execute_result"
    }
   ],
   "source": [
    "X_train.sort_values('Spa', ascending=False).head(10)"
   ]
  },
  {
   "cell_type": "markdown",
   "id": "e58c2177",
   "metadata": {},
   "source": [
    "There's one person that pay significantly more for Spa compared to other passengers. We will handle it"
   ]
  },
  {
   "cell_type": "code",
   "execution_count": 74,
   "id": "5126e796",
   "metadata": {},
   "outputs": [
    {
     "data": {
      "text/plain": [
       "[5722]"
      ]
     },
     "execution_count": 74,
     "metadata": {},
     "output_type": "execute_result"
    }
   ],
   "source": [
    "outlier_Spa = X_train.sort_values('Spa', ascending=False).iloc[[0]].index.to_list()\n",
    "outlier_Spa"
   ]
  },
  {
   "cell_type": "markdown",
   "id": "77319002",
   "metadata": {},
   "source": [
    "#### VR Deck"
   ]
  },
  {
   "cell_type": "code",
   "execution_count": 75,
   "id": "9ddedc7e",
   "metadata": {},
   "outputs": [
    {
     "data": {
      "text/html": [
       "<div>\n",
       "<style scoped>\n",
       "    .dataframe tbody tr th:only-of-type {\n",
       "        vertical-align: middle;\n",
       "    }\n",
       "\n",
       "    .dataframe tbody tr th {\n",
       "        vertical-align: top;\n",
       "    }\n",
       "\n",
       "    .dataframe thead th {\n",
       "        text-align: right;\n",
       "    }\n",
       "</style>\n",
       "<table border=\"1\" class=\"dataframe\">\n",
       "  <thead>\n",
       "    <tr style=\"text-align: right;\">\n",
       "      <th></th>\n",
       "      <th>HomePlanet</th>\n",
       "      <th>CryoSleep</th>\n",
       "      <th>Destination</th>\n",
       "      <th>Age</th>\n",
       "      <th>VIP</th>\n",
       "      <th>RoomService</th>\n",
       "      <th>FoodCourt</th>\n",
       "      <th>ShoppingMall</th>\n",
       "      <th>Spa</th>\n",
       "      <th>VRDeck</th>\n",
       "      <th>people_in_group</th>\n",
       "      <th>Deck</th>\n",
       "      <th>Cabin_num</th>\n",
       "      <th>Side</th>\n",
       "    </tr>\n",
       "  </thead>\n",
       "  <tbody>\n",
       "    <tr>\n",
       "      <th>5619</th>\n",
       "      <td>Europa</td>\n",
       "      <td>False</td>\n",
       "      <td>55 Cancri e</td>\n",
       "      <td>57.0</td>\n",
       "      <td>False</td>\n",
       "      <td>200.0</td>\n",
       "      <td>9.0</td>\n",
       "      <td>0.0</td>\n",
       "      <td>NaN</td>\n",
       "      <td>24133.0</td>\n",
       "      <td>4</td>\n",
       "      <td>B</td>\n",
       "      <td>230</td>\n",
       "      <td>S</td>\n",
       "    </tr>\n",
       "    <tr>\n",
       "      <th>4311</th>\n",
       "      <td>Europa</td>\n",
       "      <td>False</td>\n",
       "      <td>TRAPPIST-1e</td>\n",
       "      <td>31.0</td>\n",
       "      <td>False</td>\n",
       "      <td>0.0</td>\n",
       "      <td>6670.0</td>\n",
       "      <td>217.0</td>\n",
       "      <td>625.0</td>\n",
       "      <td>20336.0</td>\n",
       "      <td>4</td>\n",
       "      <td>C</td>\n",
       "      <td>144</td>\n",
       "      <td>P</td>\n",
       "    </tr>\n",
       "    <tr>\n",
       "      <th>6547</th>\n",
       "      <td>Europa</td>\n",
       "      <td>False</td>\n",
       "      <td>TRAPPIST-1e</td>\n",
       "      <td>60.0</td>\n",
       "      <td>False</td>\n",
       "      <td>0.0</td>\n",
       "      <td>960.0</td>\n",
       "      <td>46.0</td>\n",
       "      <td>854.0</td>\n",
       "      <td>17074.0</td>\n",
       "      <td>1</td>\n",
       "      <td>C</td>\n",
       "      <td>254</td>\n",
       "      <td>S</td>\n",
       "    </tr>\n",
       "    <tr>\n",
       "      <th>3916</th>\n",
       "      <td>Europa</td>\n",
       "      <td>False</td>\n",
       "      <td>55 Cancri e</td>\n",
       "      <td>31.0</td>\n",
       "      <td>False</td>\n",
       "      <td>2.0</td>\n",
       "      <td>8747.0</td>\n",
       "      <td>0.0</td>\n",
       "      <td>4840.0</td>\n",
       "      <td>14485.0</td>\n",
       "      <td>6</td>\n",
       "      <td>C</td>\n",
       "      <td>133</td>\n",
       "      <td>P</td>\n",
       "    </tr>\n",
       "    <tr>\n",
       "      <th>4551</th>\n",
       "      <td>Europa</td>\n",
       "      <td>False</td>\n",
       "      <td>TRAPPIST-1e</td>\n",
       "      <td>25.0</td>\n",
       "      <td>False</td>\n",
       "      <td>21.0</td>\n",
       "      <td>2148.0</td>\n",
       "      <td>0.0</td>\n",
       "      <td>1966.0</td>\n",
       "      <td>12708.0</td>\n",
       "      <td>3</td>\n",
       "      <td>B</td>\n",
       "      <td>192</td>\n",
       "      <td>S</td>\n",
       "    </tr>\n",
       "    <tr>\n",
       "      <th>8171</th>\n",
       "      <td>Europa</td>\n",
       "      <td>False</td>\n",
       "      <td>TRAPPIST-1e</td>\n",
       "      <td>20.0</td>\n",
       "      <td>False</td>\n",
       "      <td>NaN</td>\n",
       "      <td>7759.0</td>\n",
       "      <td>18.0</td>\n",
       "      <td>4925.0</td>\n",
       "      <td>12685.0</td>\n",
       "      <td>2</td>\n",
       "      <td>E</td>\n",
       "      <td>559</td>\n",
       "      <td>P</td>\n",
       "    </tr>\n",
       "    <tr>\n",
       "      <th>4319</th>\n",
       "      <td>Europa</td>\n",
       "      <td>False</td>\n",
       "      <td>TRAPPIST-1e</td>\n",
       "      <td>36.0</td>\n",
       "      <td>False</td>\n",
       "      <td>1.0</td>\n",
       "      <td>5234.0</td>\n",
       "      <td>343.0</td>\n",
       "      <td>277.0</td>\n",
       "      <td>12682.0</td>\n",
       "      <td>2</td>\n",
       "      <td>C</td>\n",
       "      <td>171</td>\n",
       "      <td>S</td>\n",
       "    </tr>\n",
       "    <tr>\n",
       "      <th>8442</th>\n",
       "      <td>Europa</td>\n",
       "      <td>False</td>\n",
       "      <td>55 Cancri e</td>\n",
       "      <td>41.0</td>\n",
       "      <td>False</td>\n",
       "      <td>3.0</td>\n",
       "      <td>1320.0</td>\n",
       "      <td>0.0</td>\n",
       "      <td>0.0</td>\n",
       "      <td>12392.0</td>\n",
       "      <td>1</td>\n",
       "      <td>B</td>\n",
       "      <td>344</td>\n",
       "      <td>S</td>\n",
       "    </tr>\n",
       "    <tr>\n",
       "      <th>4941</th>\n",
       "      <td>Europa</td>\n",
       "      <td>False</td>\n",
       "      <td>55 Cancri e</td>\n",
       "      <td>36.0</td>\n",
       "      <td>True</td>\n",
       "      <td>13.0</td>\n",
       "      <td>196.0</td>\n",
       "      <td>3.0</td>\n",
       "      <td>0.0</td>\n",
       "      <td>12323.0</td>\n",
       "      <td>2</td>\n",
       "      <td>C</td>\n",
       "      <td>205</td>\n",
       "      <td>S</td>\n",
       "    </tr>\n",
       "    <tr>\n",
       "      <th>7978</th>\n",
       "      <td>Europa</td>\n",
       "      <td>False</td>\n",
       "      <td>55 Cancri e</td>\n",
       "      <td>28.0</td>\n",
       "      <td>False</td>\n",
       "      <td>0.0</td>\n",
       "      <td>101.0</td>\n",
       "      <td>0.0</td>\n",
       "      <td>0.0</td>\n",
       "      <td>12143.0</td>\n",
       "      <td>1</td>\n",
       "      <td>E</td>\n",
       "      <td>559</td>\n",
       "      <td>S</td>\n",
       "    </tr>\n",
       "  </tbody>\n",
       "</table>\n",
       "</div>"
      ],
      "text/plain": [
       "     HomePlanet CryoSleep  Destination   Age    VIP  RoomService  FoodCourt  \\\n",
       "5619     Europa     False  55 Cancri e  57.0  False        200.0        9.0   \n",
       "4311     Europa     False  TRAPPIST-1e  31.0  False          0.0     6670.0   \n",
       "6547     Europa     False  TRAPPIST-1e  60.0  False          0.0      960.0   \n",
       "3916     Europa     False  55 Cancri e  31.0  False          2.0     8747.0   \n",
       "4551     Europa     False  TRAPPIST-1e  25.0  False         21.0     2148.0   \n",
       "8171     Europa     False  TRAPPIST-1e  20.0  False          NaN     7759.0   \n",
       "4319     Europa     False  TRAPPIST-1e  36.0  False          1.0     5234.0   \n",
       "8442     Europa     False  55 Cancri e  41.0  False          3.0     1320.0   \n",
       "4941     Europa     False  55 Cancri e  36.0   True         13.0      196.0   \n",
       "7978     Europa     False  55 Cancri e  28.0  False          0.0      101.0   \n",
       "\n",
       "      ShoppingMall     Spa   VRDeck  people_in_group Deck Cabin_num Side  \n",
       "5619           0.0     NaN  24133.0                4    B       230    S  \n",
       "4311         217.0   625.0  20336.0                4    C       144    P  \n",
       "6547          46.0   854.0  17074.0                1    C       254    S  \n",
       "3916           0.0  4840.0  14485.0                6    C       133    P  \n",
       "4551           0.0  1966.0  12708.0                3    B       192    S  \n",
       "8171          18.0  4925.0  12685.0                2    E       559    P  \n",
       "4319         343.0   277.0  12682.0                2    C       171    S  \n",
       "8442           0.0     0.0  12392.0                1    B       344    S  \n",
       "4941           3.0     0.0  12323.0                2    C       205    S  \n",
       "7978           0.0     0.0  12143.0                1    E       559    S  "
      ]
     },
     "execution_count": 75,
     "metadata": {},
     "output_type": "execute_result"
    }
   ],
   "source": [
    "X_train.sort_values('VRDeck', ascending=False).head(10)"
   ]
  },
  {
   "cell_type": "markdown",
   "id": "c07da635",
   "metadata": {},
   "source": [
    "There are two people that pay significantly more for VR Deck compared to other passengers. We will handle it"
   ]
  },
  {
   "cell_type": "code",
   "execution_count": 76,
   "id": "ba9e81a1",
   "metadata": {},
   "outputs": [
    {
     "data": {
      "text/plain": [
       "[5619, 4311]"
      ]
     },
     "execution_count": 76,
     "metadata": {},
     "output_type": "execute_result"
    }
   ],
   "source": [
    "outlier_VRDeck = X_train.sort_values('VRDeck', ascending=False).iloc[0:2].index.to_list()\n",
    "outlier_VRDeck"
   ]
  },
  {
   "cell_type": "markdown",
   "id": "a219ba3a",
   "metadata": {},
   "source": [
    "### Drop Outlier"
   ]
  },
  {
   "cell_type": "markdown",
   "id": "18094dd1",
   "metadata": {},
   "source": [
    "The easiest way to handle outliers are by dropping them, but we have to check do we have enough data"
   ]
  },
  {
   "cell_type": "code",
   "execution_count": 77,
   "id": "2501ba86",
   "metadata": {},
   "outputs": [
    {
     "name": "stdout",
     "output_type": "stream",
     "text": [
      "[4416, 3538, 2067, 5619, 4311, 1213, 3198, 8415]\n",
      "8\n",
      "0.11504170261719873 % of X train\n"
     ]
    }
   ],
   "source": [
    "#Combine outlier\n",
    "outlier_index = list(set(outlier_RoomService + outlier_FoodCourt + outlier_ShoppingMall + outlier_VRDeck))\n",
    "print(outlier_index)\n",
    "print(len(outlier_index))\n",
    "print(100*len(outlier_index)/len(X_train), \"% of X train\")"
   ]
  },
  {
   "cell_type": "markdown",
   "id": "dd448f4b",
   "metadata": {},
   "source": [
    "We have enough data thus it's safe to drop the outlier"
   ]
  },
  {
   "cell_type": "code",
   "execution_count": 78,
   "id": "43a6fb4a",
   "metadata": {},
   "outputs": [
    {
     "data": {
      "text/plain": [
       "(6946, 14)"
      ]
     },
     "execution_count": 78,
     "metadata": {},
     "output_type": "execute_result"
    }
   ],
   "source": [
    "X_train_no_outlier = X_train.drop(outlier_index)\n",
    "X_train_no_outlier.shape"
   ]
  },
  {
   "cell_type": "code",
   "execution_count": 79,
   "id": "a0dfe24a",
   "metadata": {},
   "outputs": [
    {
     "data": {
      "text/plain": [
       "(6946,)"
      ]
     },
     "execution_count": 79,
     "metadata": {},
     "output_type": "execute_result"
    }
   ],
   "source": [
    "y_train_no_outlier = y_train.drop(outlier_index)\n",
    "y_train_no_outlier.shape"
   ]
  },
  {
   "cell_type": "markdown",
   "id": "492e9ff1",
   "metadata": {},
   "source": [
    "## Missing Values Handling"
   ]
  },
  {
   "cell_type": "code",
   "execution_count": 80,
   "id": "18ca17f1",
   "metadata": {},
   "outputs": [
    {
     "data": {
      "text/plain": [
       "HomePlanet         164\n",
       "CryoSleep          172\n",
       "Destination        139\n",
       "Age                144\n",
       "VIP                149\n",
       "RoomService        146\n",
       "FoodCourt          150\n",
       "ShoppingMall       167\n",
       "Spa                139\n",
       "VRDeck             155\n",
       "people_in_group      0\n",
       "Deck               155\n",
       "Cabin_num          155\n",
       "Side               155\n",
       "dtype: int64"
      ]
     },
     "execution_count": 80,
     "metadata": {},
     "output_type": "execute_result"
    }
   ],
   "source": [
    "X_train_no_outlier.isnull().sum()"
   ]
  },
  {
   "cell_type": "code",
   "execution_count": 81,
   "id": "93b7859a",
   "metadata": {},
   "outputs": [],
   "source": [
    "X_train_imputed = X_train_no_outlier.copy()"
   ]
  },
  {
   "cell_type": "code",
   "execution_count": 82,
   "id": "ff40b6d4",
   "metadata": {},
   "outputs": [],
   "source": [
    "X_val_imputed = X_val.copy()"
   ]
  },
  {
   "cell_type": "markdown",
   "id": "658c8980",
   "metadata": {},
   "source": [
    "### Numerical Columns"
   ]
  },
  {
   "cell_type": "code",
   "execution_count": 83,
   "id": "adac739e",
   "metadata": {},
   "outputs": [
    {
     "data": {
      "text/plain": [
       "['Age',\n",
       " 'RoomService',\n",
       " 'FoodCourt',\n",
       " 'ShoppingMall',\n",
       " 'Spa',\n",
       " 'VRDeck',\n",
       " 'people_in_group']"
      ]
     },
     "execution_count": 83,
     "metadata": {},
     "output_type": "execute_result"
    }
   ],
   "source": [
    "num_data_columns = X_train_imputed.select_dtypes(\"number\").columns.to_list()\n",
    "num_data_columns"
   ]
  },
  {
   "cell_type": "markdown",
   "id": "4b6620cb",
   "metadata": {},
   "source": [
    "We will use Median for Age imputation and 0 for 'RoomService', 'FoodCourt', 'ShoppingMall', 'Spa', 'VRDeck' imputation. But since 'RoomService', 'FoodCourt', 'ShoppingMall', 'Spa', 'VRDeck' median is 0. We will use Median for all of them"
   ]
  },
  {
   "cell_type": "code",
   "execution_count": 84,
   "id": "940cd9e7",
   "metadata": {},
   "outputs": [],
   "source": [
    "for column in num_data_columns:\n",
    "    X_train_imputed[column] = X_train_imputed[column].fillna(X_train_imputed[column].median())"
   ]
  },
  {
   "cell_type": "code",
   "execution_count": 85,
   "id": "dd8282f4",
   "metadata": {},
   "outputs": [
    {
     "data": {
      "text/plain": [
       "HomePlanet         164\n",
       "CryoSleep          172\n",
       "Destination        139\n",
       "Age                  0\n",
       "VIP                149\n",
       "RoomService          0\n",
       "FoodCourt            0\n",
       "ShoppingMall         0\n",
       "Spa                  0\n",
       "VRDeck               0\n",
       "people_in_group      0\n",
       "Deck               155\n",
       "Cabin_num          155\n",
       "Side               155\n",
       "dtype: int64"
      ]
     },
     "execution_count": 85,
     "metadata": {},
     "output_type": "execute_result"
    }
   ],
   "source": [
    "X_train_imputed.isnull().sum()"
   ]
  },
  {
   "cell_type": "markdown",
   "id": "997cc986",
   "metadata": {},
   "source": [
    "and also for X_Validation"
   ]
  },
  {
   "cell_type": "code",
   "execution_count": 86,
   "id": "bcec127e",
   "metadata": {},
   "outputs": [],
   "source": [
    "for column in num_data_columns:\n",
    "    X_val_imputed[column] = X_val_imputed[column].fillna(X_train_imputed[column].median())"
   ]
  },
  {
   "cell_type": "code",
   "execution_count": 87,
   "id": "28c72594",
   "metadata": {},
   "outputs": [
    {
     "data": {
      "text/plain": [
       "HomePlanet         37\n",
       "CryoSleep          45\n",
       "Destination        43\n",
       "Age                 0\n",
       "VIP                54\n",
       "RoomService         0\n",
       "FoodCourt           0\n",
       "ShoppingMall        0\n",
       "Spa                 0\n",
       "VRDeck              0\n",
       "people_in_group     0\n",
       "Deck               43\n",
       "Cabin_num          43\n",
       "Side               43\n",
       "dtype: int64"
      ]
     },
     "execution_count": 87,
     "metadata": {},
     "output_type": "execute_result"
    }
   ],
   "source": [
    "X_val_imputed.isnull().sum()"
   ]
  },
  {
   "cell_type": "markdown",
   "id": "6344ddfe",
   "metadata": {},
   "source": [
    "### Categorical Columns"
   ]
  },
  {
   "cell_type": "markdown",
   "id": "3a2d511e",
   "metadata": {},
   "source": [
    "For categorical columns, we use mode as the imputation method"
   ]
  },
  {
   "cell_type": "code",
   "execution_count": 88,
   "id": "5897a866",
   "metadata": {},
   "outputs": [],
   "source": [
    "X_train_categorical = X_train_imputed.drop(num_data_columns, axis = 1)"
   ]
  },
  {
   "cell_type": "code",
   "execution_count": 89,
   "id": "ff455031",
   "metadata": {},
   "outputs": [
    {
     "data": {
      "text/plain": [
       "['HomePlanet', 'CryoSleep', 'Destination', 'VIP', 'Deck', 'Cabin_num', 'Side']"
      ]
     },
     "execution_count": 89,
     "metadata": {},
     "output_type": "execute_result"
    }
   ],
   "source": [
    "categorical_column = X_train_categorical.columns.to_list()\n",
    "categorical_column"
   ]
  },
  {
   "cell_type": "code",
   "execution_count": 90,
   "id": "85f96978",
   "metadata": {},
   "outputs": [],
   "source": [
    "for column in categorical_column:\n",
    "    X_train_imputed[column] = X_train_imputed[column].fillna(X_train_imputed[column].mode()[0])"
   ]
  },
  {
   "cell_type": "code",
   "execution_count": 91,
   "id": "8dd22107",
   "metadata": {},
   "outputs": [
    {
     "data": {
      "text/plain": [
       "HomePlanet         0\n",
       "CryoSleep          0\n",
       "Destination        0\n",
       "Age                0\n",
       "VIP                0\n",
       "RoomService        0\n",
       "FoodCourt          0\n",
       "ShoppingMall       0\n",
       "Spa                0\n",
       "VRDeck             0\n",
       "people_in_group    0\n",
       "Deck               0\n",
       "Cabin_num          0\n",
       "Side               0\n",
       "dtype: int64"
      ]
     },
     "execution_count": 91,
     "metadata": {},
     "output_type": "execute_result"
    }
   ],
   "source": [
    "X_train_imputed.isnull().sum()"
   ]
  },
  {
   "cell_type": "markdown",
   "id": "1b3a2ffa",
   "metadata": {},
   "source": [
    "and also for X_validation"
   ]
  },
  {
   "cell_type": "code",
   "execution_count": 92,
   "id": "2633981c",
   "metadata": {},
   "outputs": [],
   "source": [
    "for column in categorical_column:\n",
    "    X_val_imputed[column] = X_val_imputed[column].fillna(X_train_imputed[column].mode()[0])"
   ]
  },
  {
   "cell_type": "code",
   "execution_count": 93,
   "id": "991ec612",
   "metadata": {},
   "outputs": [
    {
     "data": {
      "text/plain": [
       "HomePlanet         0\n",
       "CryoSleep          0\n",
       "Destination        0\n",
       "Age                0\n",
       "VIP                0\n",
       "RoomService        0\n",
       "FoodCourt          0\n",
       "ShoppingMall       0\n",
       "Spa                0\n",
       "VRDeck             0\n",
       "people_in_group    0\n",
       "Deck               0\n",
       "Cabin_num          0\n",
       "Side               0\n",
       "dtype: int64"
      ]
     },
     "execution_count": 93,
     "metadata": {},
     "output_type": "execute_result"
    }
   ],
   "source": [
    "X_val_imputed.isnull().sum()"
   ]
  },
  {
   "cell_type": "markdown",
   "id": "c7c0574c",
   "metadata": {},
   "source": [
    "## Feature Selection"
   ]
  },
  {
   "cell_type": "markdown",
   "id": "f227109e",
   "metadata": {},
   "source": [
    "We will use t-test for numerical value and chi-square for categorical value"
   ]
  },
  {
   "cell_type": "markdown",
   "id": "5bada6ad",
   "metadata": {},
   "source": [
    "H0 = Feature has no correlation with target\n"
   ]
  },
  {
   "cell_type": "markdown",
   "id": "e462ebd8",
   "metadata": {},
   "source": [
    "H1 = Feature has a correlation with target"
   ]
  },
  {
   "cell_type": "code",
   "execution_count": 94,
   "id": "ec726608",
   "metadata": {},
   "outputs": [
    {
     "name": "stdout",
     "output_type": "stream",
     "text": [
      "Reject there is no correlation between'Age' and if the passenger is transported\n",
      "Reject there is no correlation between'RoomService' and if the passenger is transported\n",
      "Reject there is no correlation between'FoodCourt' and if the passenger is transported\n",
      "Failed to reject there is correlation between'ShoppingMall' and if the passenger is transported\n",
      "Reject there is no correlation between'Spa' and if the passenger is transported\n",
      "Reject there is no correlation between'VRDeck' and if the passenger is transported\n",
      "Reject there is no correlation between'people_in_group' and if the passenger is transported\n"
     ]
    }
   ],
   "source": [
    "for ft in X_train_imputed[num_data_columns]:\n",
    "    target_true_data = X_train_imputed[y_train_no_outlier == True][ft]\n",
    "    target_false_data = X_train_imputed[y_train_no_outlier == False][ft]\n",
    "\n",
    "    # Lakukan t-test\n",
    "    f_statistic, p_value = ttest_ind(target_true_data, target_false_data)\n",
    "\n",
    "    # Lihat p-valuenya\n",
    "    if p_value < 0.05:\n",
    "        # Gagal tolak null hypothesis \n",
    "        print(f\"Reject there is no correlation between'{ft}' and if the passenger is transported\")\n",
    "    else:\n",
    "        # Tolak null hypothesis \n",
    "        print(f\"Failed to reject there is correlation between'{ft}' and if the passenger is transported\")"
   ]
  },
  {
   "cell_type": "code",
   "execution_count": 95,
   "id": "db026230",
   "metadata": {
    "scrolled": true
   },
   "outputs": [
    {
     "name": "stdout",
     "output_type": "stream",
     "text": [
      "Reject there is no correlation between'HomePlanet' and if the passenger is transported\n",
      "Reject there is no correlation between'CryoSleep' and if the passenger is transported\n",
      "Reject there is no correlation between'Destination' and if the passenger is transported\n",
      "Reject there is no correlation between'VIP' and if the passenger is transported\n",
      "Reject there is no correlation between'Deck' and if the passenger is transported\n",
      "Reject there is no correlation between'Cabin_num' and if the passenger is transported\n",
      "Reject there is no correlation between'Side' and if the passenger is transported\n"
     ]
    }
   ],
   "source": [
    "for ft in X_train_imputed[categorical_column]:\n",
    "    contingency_table = pd.crosstab(y_train_no_outlier, X_train_imputed[ft])\n",
    "\n",
    "    # Lakukan chi-square test\n",
    "    chi2, p_value, dof, expected = chi2_contingency(contingency_table)\n",
    "\n",
    "    # Lihat p-valuenya\n",
    "    if p_value < 0.05: \n",
    "        # Gagal tolak null hypothesis \n",
    "        print(f\"Reject there is no correlation between'{ft}' and if the passenger is transported\")\n",
    "    else:\n",
    "        # Tolak null hypothesis \n",
    "        print(f\"Failed to reject there is correlation between'{ft}' and if the passenger is transported\")"
   ]
  },
  {
   "cell_type": "markdown",
   "id": "5736aa77",
   "metadata": {},
   "source": [
    "we will not use 'ShoppingMall' feature for modeling"
   ]
  },
  {
   "cell_type": "code",
   "execution_count": 96,
   "id": "55ef697f",
   "metadata": {},
   "outputs": [
    {
     "data": {
      "text/plain": [
       "HomePlanet        3\n",
       "CryoSleep         2\n",
       "Destination       3\n",
       "VIP               2\n",
       "Deck              8\n",
       "Cabin_num      1739\n",
       "Side              2\n",
       "dtype: int64"
      ]
     },
     "execution_count": 96,
     "metadata": {},
     "output_type": "execute_result"
    }
   ],
   "source": [
    "X_train_imputed[categorical_column].nunique()"
   ]
  },
  {
   "cell_type": "markdown",
   "id": "d569a004",
   "metadata": {},
   "source": [
    "we will not use 'Deck' 'Cabin_num' feature for modeling because they have too many unique data"
   ]
  },
  {
   "cell_type": "markdown",
   "id": "15c5161d",
   "metadata": {},
   "source": [
    "## Split Categorical and Numerical data"
   ]
  },
  {
   "cell_type": "code",
   "execution_count": 97,
   "id": "7eebf78d",
   "metadata": {},
   "outputs": [
    {
     "name": "stdout",
     "output_type": "stream",
     "text": [
      "Num Columns :  ['Age', 'RoomService', 'FoodCourt', 'Spa', 'VRDeck', 'people_in_group']\n",
      "Cat Columns :  ['HomePlanet', 'CryoSleep', 'Destination', 'VIP', 'Side']\n"
     ]
    }
   ],
   "source": [
    "# Categorical Columns\n",
    "cat_columns = [\n",
    "    'HomePlanet',\n",
    "    'CryoSleep',\n",
    "    'Destination',\n",
    "    'VIP',\n",
    "    'Side'    \n",
    "]\n",
    "\n",
    "# Numerical Columns\n",
    "num_columns = [\n",
    "    \"Age\",\n",
    "    \"RoomService\",\n",
    "    \"FoodCourt\",\n",
    "    \"Spa\",\n",
    "    \"VRDeck\",\n",
    "    'people_in_group'\n",
    "]\n",
    "print('Num Columns : ', num_columns)\n",
    "print('Cat Columns : ', cat_columns)"
   ]
  },
  {
   "cell_type": "code",
   "execution_count": 98,
   "id": "b5b91bdd",
   "metadata": {},
   "outputs": [
    {
     "data": {
      "text/html": [
       "<div>\n",
       "<style scoped>\n",
       "    .dataframe tbody tr th:only-of-type {\n",
       "        vertical-align: middle;\n",
       "    }\n",
       "\n",
       "    .dataframe tbody tr th {\n",
       "        vertical-align: top;\n",
       "    }\n",
       "\n",
       "    .dataframe thead th {\n",
       "        text-align: right;\n",
       "    }\n",
       "</style>\n",
       "<table border=\"1\" class=\"dataframe\">\n",
       "  <thead>\n",
       "    <tr style=\"text-align: right;\">\n",
       "      <th></th>\n",
       "      <th>HomePlanet</th>\n",
       "      <th>CryoSleep</th>\n",
       "      <th>Destination</th>\n",
       "      <th>VIP</th>\n",
       "      <th>Side</th>\n",
       "    </tr>\n",
       "  </thead>\n",
       "  <tbody>\n",
       "    <tr>\n",
       "      <th>4669</th>\n",
       "      <td>Earth</td>\n",
       "      <td>False</td>\n",
       "      <td>TRAPPIST-1e</td>\n",
       "      <td>False</td>\n",
       "      <td>S</td>\n",
       "    </tr>\n",
       "    <tr>\n",
       "      <th>75</th>\n",
       "      <td>Mars</td>\n",
       "      <td>False</td>\n",
       "      <td>TRAPPIST-1e</td>\n",
       "      <td>False</td>\n",
       "      <td>P</td>\n",
       "    </tr>\n",
       "    <tr>\n",
       "      <th>1239</th>\n",
       "      <td>Mars</td>\n",
       "      <td>False</td>\n",
       "      <td>TRAPPIST-1e</td>\n",
       "      <td>False</td>\n",
       "      <td>P</td>\n",
       "    </tr>\n",
       "    <tr>\n",
       "      <th>4489</th>\n",
       "      <td>Mars</td>\n",
       "      <td>True</td>\n",
       "      <td>TRAPPIST-1e</td>\n",
       "      <td>False</td>\n",
       "      <td>P</td>\n",
       "    </tr>\n",
       "    <tr>\n",
       "      <th>5324</th>\n",
       "      <td>Earth</td>\n",
       "      <td>False</td>\n",
       "      <td>TRAPPIST-1e</td>\n",
       "      <td>False</td>\n",
       "      <td>S</td>\n",
       "    </tr>\n",
       "    <tr>\n",
       "      <th>4513</th>\n",
       "      <td>Mars</td>\n",
       "      <td>False</td>\n",
       "      <td>TRAPPIST-1e</td>\n",
       "      <td>False</td>\n",
       "      <td>S</td>\n",
       "    </tr>\n",
       "    <tr>\n",
       "      <th>7878</th>\n",
       "      <td>Mars</td>\n",
       "      <td>False</td>\n",
       "      <td>TRAPPIST-1e</td>\n",
       "      <td>False</td>\n",
       "      <td>S</td>\n",
       "    </tr>\n",
       "    <tr>\n",
       "      <th>7390</th>\n",
       "      <td>Mars</td>\n",
       "      <td>True</td>\n",
       "      <td>TRAPPIST-1e</td>\n",
       "      <td>False</td>\n",
       "      <td>S</td>\n",
       "    </tr>\n",
       "    <tr>\n",
       "      <th>6931</th>\n",
       "      <td>Europa</td>\n",
       "      <td>False</td>\n",
       "      <td>TRAPPIST-1e</td>\n",
       "      <td>False</td>\n",
       "      <td>S</td>\n",
       "    </tr>\n",
       "    <tr>\n",
       "      <th>4901</th>\n",
       "      <td>Mars</td>\n",
       "      <td>True</td>\n",
       "      <td>TRAPPIST-1e</td>\n",
       "      <td>False</td>\n",
       "      <td>S</td>\n",
       "    </tr>\n",
       "  </tbody>\n",
       "</table>\n",
       "</div>"
      ],
      "text/plain": [
       "     HomePlanet  CryoSleep  Destination    VIP Side\n",
       "4669      Earth      False  TRAPPIST-1e  False    S\n",
       "75         Mars      False  TRAPPIST-1e  False    P\n",
       "1239       Mars      False  TRAPPIST-1e  False    P\n",
       "4489       Mars       True  TRAPPIST-1e  False    P\n",
       "5324      Earth      False  TRAPPIST-1e  False    S\n",
       "4513       Mars      False  TRAPPIST-1e  False    S\n",
       "7878       Mars      False  TRAPPIST-1e  False    S\n",
       "7390       Mars       True  TRAPPIST-1e  False    S\n",
       "6931     Europa      False  TRAPPIST-1e  False    S\n",
       "4901       Mars       True  TRAPPIST-1e  False    S"
      ]
     },
     "execution_count": 98,
     "metadata": {},
     "output_type": "execute_result"
    }
   ],
   "source": [
    "X_train_num = X_train_imputed[num_columns]\n",
    "X_train_cat = X_train_imputed[cat_columns]\n",
    "\n",
    "X_val_num = X_val_imputed[num_columns]\n",
    "X_val_cat = X_val_imputed[cat_columns]\n",
    "\n",
    "X_train_cat.head(10)"
   ]
  },
  {
   "cell_type": "markdown",
   "id": "aaed71b1",
   "metadata": {},
   "source": [
    "## Numerical Value Encoding"
   ]
  },
  {
   "cell_type": "code",
   "execution_count": 99,
   "id": "c9e202b8",
   "metadata": {},
   "outputs": [
    {
     "data": {
      "text/html": [
       "<style>#sk-container-id-1 {color: black;background-color: white;}#sk-container-id-1 pre{padding: 0;}#sk-container-id-1 div.sk-toggleable {background-color: white;}#sk-container-id-1 label.sk-toggleable__label {cursor: pointer;display: block;width: 100%;margin-bottom: 0;padding: 0.3em;box-sizing: border-box;text-align: center;}#sk-container-id-1 label.sk-toggleable__label-arrow:before {content: \"▸\";float: left;margin-right: 0.25em;color: #696969;}#sk-container-id-1 label.sk-toggleable__label-arrow:hover:before {color: black;}#sk-container-id-1 div.sk-estimator:hover label.sk-toggleable__label-arrow:before {color: black;}#sk-container-id-1 div.sk-toggleable__content {max-height: 0;max-width: 0;overflow: hidden;text-align: left;background-color: #f0f8ff;}#sk-container-id-1 div.sk-toggleable__content pre {margin: 0.2em;color: black;border-radius: 0.25em;background-color: #f0f8ff;}#sk-container-id-1 input.sk-toggleable__control:checked~div.sk-toggleable__content {max-height: 200px;max-width: 100%;overflow: auto;}#sk-container-id-1 input.sk-toggleable__control:checked~label.sk-toggleable__label-arrow:before {content: \"▾\";}#sk-container-id-1 div.sk-estimator input.sk-toggleable__control:checked~label.sk-toggleable__label {background-color: #d4ebff;}#sk-container-id-1 div.sk-label input.sk-toggleable__control:checked~label.sk-toggleable__label {background-color: #d4ebff;}#sk-container-id-1 input.sk-hidden--visually {border: 0;clip: rect(1px 1px 1px 1px);clip: rect(1px, 1px, 1px, 1px);height: 1px;margin: -1px;overflow: hidden;padding: 0;position: absolute;width: 1px;}#sk-container-id-1 div.sk-estimator {font-family: monospace;background-color: #f0f8ff;border: 1px dotted black;border-radius: 0.25em;box-sizing: border-box;margin-bottom: 0.5em;}#sk-container-id-1 div.sk-estimator:hover {background-color: #d4ebff;}#sk-container-id-1 div.sk-parallel-item::after {content: \"\";width: 100%;border-bottom: 1px solid gray;flex-grow: 1;}#sk-container-id-1 div.sk-label:hover label.sk-toggleable__label {background-color: #d4ebff;}#sk-container-id-1 div.sk-serial::before {content: \"\";position: absolute;border-left: 1px solid gray;box-sizing: border-box;top: 0;bottom: 0;left: 50%;z-index: 0;}#sk-container-id-1 div.sk-serial {display: flex;flex-direction: column;align-items: center;background-color: white;padding-right: 0.2em;padding-left: 0.2em;position: relative;}#sk-container-id-1 div.sk-item {position: relative;z-index: 1;}#sk-container-id-1 div.sk-parallel {display: flex;align-items: stretch;justify-content: center;background-color: white;position: relative;}#sk-container-id-1 div.sk-item::before, #sk-container-id-1 div.sk-parallel-item::before {content: \"\";position: absolute;border-left: 1px solid gray;box-sizing: border-box;top: 0;bottom: 0;left: 50%;z-index: -1;}#sk-container-id-1 div.sk-parallel-item {display: flex;flex-direction: column;z-index: 1;position: relative;background-color: white;}#sk-container-id-1 div.sk-parallel-item:first-child::after {align-self: flex-end;width: 50%;}#sk-container-id-1 div.sk-parallel-item:last-child::after {align-self: flex-start;width: 50%;}#sk-container-id-1 div.sk-parallel-item:only-child::after {width: 0;}#sk-container-id-1 div.sk-dashed-wrapped {border: 1px dashed gray;margin: 0 0.4em 0.5em 0.4em;box-sizing: border-box;padding-bottom: 0.4em;background-color: white;}#sk-container-id-1 div.sk-label label {font-family: monospace;font-weight: bold;display: inline-block;line-height: 1.2em;}#sk-container-id-1 div.sk-label-container {text-align: center;}#sk-container-id-1 div.sk-container {/* jupyter's `normalize.less` sets `[hidden] { display: none; }` but bootstrap.min.css set `[hidden] { display: none !important; }` so we also need the `!important` here to be able to override the default hidden behavior on the sphinx rendered scikit-learn.org. See: https://github.com/scikit-learn/scikit-learn/issues/21755 */display: inline-block !important;position: relative;}#sk-container-id-1 div.sk-text-repr-fallback {display: none;}</style><div id=\"sk-container-id-1\" class=\"sk-top-container\"><div class=\"sk-text-repr-fallback\"><pre>OrdinalEncoder()</pre><b>In a Jupyter environment, please rerun this cell to show the HTML representation or trust the notebook. <br />On GitHub, the HTML representation is unable to render, please try loading this page with nbviewer.org.</b></div><div class=\"sk-container\" hidden><div class=\"sk-item\"><div class=\"sk-estimator sk-toggleable\"><input class=\"sk-toggleable__control sk-hidden--visually\" id=\"sk-estimator-id-1\" type=\"checkbox\" checked><label for=\"sk-estimator-id-1\" class=\"sk-toggleable__label sk-toggleable__label-arrow\">OrdinalEncoder</label><div class=\"sk-toggleable__content\"><pre>OrdinalEncoder()</pre></div></div></div></div></div>"
      ],
      "text/plain": [
       "OrdinalEncoder()"
      ]
     },
     "execution_count": 99,
     "metadata": {},
     "output_type": "execute_result"
    }
   ],
   "source": [
    "# create object\n",
    "encoder = OrdinalEncoder()\n",
    "\n",
    "# Fitting encoder\n",
    "encoder.fit(X_train_cat)"
   ]
  },
  {
   "cell_type": "code",
   "execution_count": 100,
   "id": "e17d2f32",
   "metadata": {},
   "outputs": [
    {
     "data": {
      "text/plain": [
       "array([[0., 0., 2., 0., 1.],\n",
       "       [2., 0., 2., 0., 0.],\n",
       "       [2., 0., 2., 0., 0.],\n",
       "       ...,\n",
       "       [1., 0., 0., 0., 1.],\n",
       "       [1., 1., 2., 0., 1.],\n",
       "       [0., 1., 2., 0., 1.]])"
      ]
     },
     "execution_count": 100,
     "metadata": {},
     "output_type": "execute_result"
    }
   ],
   "source": [
    "X_train_encoded = encoder.transform(X_train_cat)\n",
    "X_val_encoded = encoder.transform(X_val_cat)\n",
    "X_train_encoded"
   ]
  },
  {
   "cell_type": "markdown",
   "id": "f42609c9",
   "metadata": {},
   "source": [
    "## Combine Data"
   ]
  },
  {
   "cell_type": "code",
   "execution_count": 101,
   "id": "9acb065b",
   "metadata": {},
   "outputs": [],
   "source": [
    "X_train_concat = np.concatenate([X_train_num, X_train_encoded], axis=1)\n",
    "X_val_concat = np.concatenate([X_val_num, X_val_encoded], axis=1)"
   ]
  },
  {
   "cell_type": "markdown",
   "id": "2bd2b381",
   "metadata": {},
   "source": [
    "## Feature Scaling"
   ]
  },
  {
   "cell_type": "markdown",
   "id": "00868d8f",
   "metadata": {},
   "source": [
    "We use MinMax scaler instead of StandardScaler because most of the columns doesn't have gaussian distribution"
   ]
  },
  {
   "cell_type": "code",
   "execution_count": 102,
   "id": "ecc1b990",
   "metadata": {},
   "outputs": [
    {
     "data": {
      "text/plain": [
       "array([[0.40506329, 0.32098765, 0.00593373, ..., 1.        , 0.        ,\n",
       "        1.        ],\n",
       "       [0.53164557, 0.86256697, 0.        , ..., 1.        , 0.        ,\n",
       "        0.        ],\n",
       "       [0.21518987, 0.1104123 , 0.00223108, ..., 1.        , 0.        ,\n",
       "        0.        ],\n",
       "       ...,\n",
       "       [0.6835443 , 0.        , 0.        , ..., 0.        , 0.        ,\n",
       "        1.        ],\n",
       "       [0.32911392, 0.        , 0.        , ..., 1.        , 0.        ,\n",
       "        1.        ],\n",
       "       [0.        , 0.        , 0.        , ..., 1.        , 0.        ,\n",
       "        1.        ]])"
      ]
     },
     "execution_count": 102,
     "metadata": {},
     "output_type": "execute_result"
    }
   ],
   "source": [
    "# Create Object\n",
    "scaler = MinMaxScaler(feature_range=(0,1))\n",
    "\n",
    "# Fit scaler pada train data\n",
    "scaler.fit(X_train_concat)\n",
    "\n",
    "# Transformasi data train dan test\n",
    "X_train_scaled = scaler.transform(X_train_concat)\n",
    "X_val_scaled = scaler.transform(X_val_concat)\n",
    "\n",
    "X_train_scaled"
   ]
  },
  {
   "cell_type": "markdown",
   "id": "c4efcef6",
   "metadata": {},
   "source": [
    "### Change variable name to final"
   ]
  },
  {
   "cell_type": "code",
   "execution_count": 103,
   "id": "25806ca8",
   "metadata": {},
   "outputs": [],
   "source": [
    "X_train_final = X_train_scaled\n",
    "y_train_final = y_train_no_outlier\n",
    "X_val_final = X_val_scaled"
   ]
  },
  {
   "cell_type": "markdown",
   "id": "ee2c587b",
   "metadata": {},
   "source": [
    "# Modelling"
   ]
  },
  {
   "cell_type": "markdown",
   "id": "1d94908f",
   "metadata": {},
   "source": [
    "#### Create objects"
   ]
  },
  {
   "cell_type": "code",
   "execution_count": 104,
   "id": "e58eba29",
   "metadata": {},
   "outputs": [],
   "source": [
    "# Logistic regression\n",
    "logreg = LogisticRegression()\n",
    "\n",
    "# Support vector classifier\n",
    "svc = SVC()\n",
    "\n",
    "# Random forest classifier\n",
    "rfc = RandomForestClassifier(random_state=123)\n",
    "\n",
    "# K-Nearest neighbor\n",
    "knn = KNeighborsClassifier()\n",
    "\n",
    "# Gradient boost\n",
    "gbc = GradientBoostingClassifier(random_state=123)\n",
    "\n",
    "# Extreme gradient boost\n",
    "xgb = XGBClassifier()"
   ]
  },
  {
   "cell_type": "code",
   "execution_count": 105,
   "id": "c135fc57",
   "metadata": {},
   "outputs": [],
   "source": [
    "estimators = [\n",
    "    {\"algorithm\": logreg, \"name\": \"Logistic Regression\"},\n",
    "    {\"algorithm\": svc, \"name\": \"Support Vector Classifier\"},\n",
    "    {\"algorithm\": rfc, \"name\": \"Random Forest Classifier\"},\n",
    "    {\"algorithm\": knn, \"name\": \"K-Nearest Neighbor\"},\n",
    "    {\"algorithm\": gbc, \"name\": \"Gradient Boost Classifier\"},\n",
    "    {\"algorithm\": xgb, \"name\": \"Extreme Gradient Boost\"},\n",
    "]"
   ]
  },
  {
   "cell_type": "markdown",
   "id": "574c1df2",
   "metadata": {},
   "source": [
    "## Model Training"
   ]
  },
  {
   "cell_type": "code",
   "execution_count": 106,
   "id": "151f04de",
   "metadata": {},
   "outputs": [],
   "source": [
    "def create_report(actual, prediction, matrix:bool=False, name:str=\"Plot\"):\n",
    "    print(classification_report(actual, prediction))\n",
    "    if matrix:\n",
    "        ConfusionMatrixDisplay(confusion_matrix(actual, prediction)).plot()\n",
    "        plt.title(name)"
   ]
  },
  {
   "cell_type": "code",
   "execution_count": 108,
   "id": "c8f8f47c",
   "metadata": {},
   "outputs": [
    {
     "name": "stdout",
     "output_type": "stream",
     "text": [
      "              precision    recall  f1-score   support\n",
      "\n",
      "       False       0.00      0.00      0.00      3449\n",
      "        True       0.50      1.00      0.67      3497\n",
      "\n",
      "    accuracy                           0.50      6946\n",
      "   macro avg       0.25      0.50      0.33      6946\n",
      "weighted avg       0.25      0.50      0.34      6946\n",
      "\n"
     ]
    },
    {
     "name": "stderr",
     "output_type": "stream",
     "text": [
      "C:\\Users\\p3d3\\anaconda3\\lib\\site-packages\\sklearn\\metrics\\_classification.py:1344: UndefinedMetricWarning: Precision and F-score are ill-defined and being set to 0.0 in labels with no predicted samples. Use `zero_division` parameter to control this behavior.\n",
      "  _warn_prf(average, modifier, msg_start, len(result))\n",
      "C:\\Users\\p3d3\\anaconda3\\lib\\site-packages\\sklearn\\metrics\\_classification.py:1344: UndefinedMetricWarning: Precision and F-score are ill-defined and being set to 0.0 in labels with no predicted samples. Use `zero_division` parameter to control this behavior.\n",
      "  _warn_prf(average, modifier, msg_start, len(result))\n",
      "C:\\Users\\p3d3\\anaconda3\\lib\\site-packages\\sklearn\\metrics\\_classification.py:1344: UndefinedMetricWarning: Precision and F-score are ill-defined and being set to 0.0 in labels with no predicted samples. Use `zero_division` parameter to control this behavior.\n",
      "  _warn_prf(average, modifier, msg_start, len(result))\n"
     ]
    }
   ],
   "source": [
    "baseline_model =  DummyClassifier(strategy='most_frequent')\n",
    "baseline_model.fit(X_train_final, y_train_final)\n",
    "y_baseline = baseline_model.predict(X_train_final)\n",
    "create_report(y_train_final, y_baseline)\n"
   ]
  },
  {
   "cell_type": "code",
   "execution_count": 75,
   "id": "02eb0bf2",
   "metadata": {},
   "outputs": [],
   "source": [
    "#Train every estimators\n",
    "for est in estimators:\n",
    "    est[\"algorithm\"].fit(X_train_final, y_train_final)"
   ]
  },
  {
   "cell_type": "code",
   "execution_count": 76,
   "id": "b3d136f3",
   "metadata": {},
   "outputs": [
    {
     "name": "stdout",
     "output_type": "stream",
     "text": [
      "Logistic Regression\n",
      "              precision    recall  f1-score   support\n",
      "\n",
      "       False       0.73      0.83      0.78      3449\n",
      "        True       0.80      0.70      0.75      3497\n",
      "\n",
      "    accuracy                           0.76      6946\n",
      "   macro avg       0.77      0.77      0.76      6946\n",
      "weighted avg       0.77      0.76      0.76      6946\n",
      "\n",
      "Support Vector Classifier\n",
      "              precision    recall  f1-score   support\n",
      "\n",
      "       False       0.73      0.85      0.78      3449\n",
      "        True       0.82      0.69      0.75      3497\n",
      "\n",
      "    accuracy                           0.77      6946\n",
      "   macro avg       0.77      0.77      0.77      6946\n",
      "weighted avg       0.77      0.77      0.77      6946\n",
      "\n",
      "Random Forest Classifier\n",
      "              precision    recall  f1-score   support\n",
      "\n",
      "       False       0.98      0.94      0.96      3449\n",
      "        True       0.94      0.98      0.96      3497\n",
      "\n",
      "    accuracy                           0.96      6946\n",
      "   macro avg       0.96      0.96      0.96      6946\n",
      "weighted avg       0.96      0.96      0.96      6946\n",
      "\n",
      "K-Nearest Neighbor\n",
      "              precision    recall  f1-score   support\n",
      "\n",
      "       False       0.82      0.81      0.82      3449\n",
      "        True       0.82      0.83      0.82      3497\n",
      "\n",
      "    accuracy                           0.82      6946\n",
      "   macro avg       0.82      0.82      0.82      6946\n",
      "weighted avg       0.82      0.82      0.82      6946\n",
      "\n",
      "Gradient Boost Classifier\n",
      "              precision    recall  f1-score   support\n",
      "\n",
      "       False       0.82      0.77      0.79      3449\n",
      "        True       0.79      0.83      0.81      3497\n",
      "\n",
      "    accuracy                           0.80      6946\n",
      "   macro avg       0.80      0.80      0.80      6946\n",
      "weighted avg       0.80      0.80      0.80      6946\n",
      "\n",
      "Extreme Gradient Boost\n",
      "              precision    recall  f1-score   support\n",
      "\n",
      "       False       0.92      0.85      0.89      3449\n",
      "        True       0.87      0.93      0.90      3497\n",
      "\n",
      "    accuracy                           0.89      6946\n",
      "   macro avg       0.89      0.89      0.89      6946\n",
      "weighted avg       0.89      0.89      0.89      6946\n",
      "\n"
     ]
    }
   ],
   "source": [
    "for est in estimators:\n",
    "    name = est[\"name\"]\n",
    "    print(name)\n",
    "    y_pred = est[\"algorithm\"].predict(X_train_final)\n",
    "    create_report(y_train_final, y_pred)"
   ]
  },
  {
   "cell_type": "markdown",
   "id": "e96b6b82",
   "metadata": {},
   "source": [
    "Estimator with highest accuracy: Random Forest, XGB and KNN"
   ]
  },
  {
   "cell_type": "markdown",
   "id": "0d9c1571",
   "metadata": {},
   "source": [
    "Estimator with highest recall: Random Forest, XGB and KNN"
   ]
  },
  {
   "cell_type": "markdown",
   "id": "8d5b697a",
   "metadata": {},
   "source": [
    "## Validation"
   ]
  },
  {
   "cell_type": "code",
   "execution_count": 83,
   "id": "dc102dfe",
   "metadata": {},
   "outputs": [
    {
     "name": "stdout",
     "output_type": "stream",
     "text": [
      "              precision    recall  f1-score   support\n",
      "\n",
      "       False       0.98      0.94      0.96      3449\n",
      "        True       0.94      0.98      0.96      3497\n",
      "\n",
      "    accuracy                           0.96      6946\n",
      "   macro avg       0.96      0.96      0.96      6946\n",
      "weighted avg       0.96      0.96      0.96      6946\n",
      "\n",
      "              precision    recall  f1-score   support\n",
      "\n",
      "       False       0.76      0.80      0.78       863\n",
      "        True       0.79      0.75      0.77       876\n",
      "\n",
      "    accuracy                           0.77      1739\n",
      "   macro avg       0.77      0.77      0.77      1739\n",
      "weighted avg       0.77      0.77      0.77      1739\n",
      "\n"
     ]
    }
   ],
   "source": [
    "#random_forest\n",
    "y_train_predict = rfc.predict(X_train_final)\n",
    "y_val_predict = rfc.predict(X_val_final)\n",
    "\n",
    "create_report(y_train_final, y_train_predict)\n",
    "create_report(y_val, y_val_predict,)"
   ]
  },
  {
   "cell_type": "code",
   "execution_count": 84,
   "id": "52489b27",
   "metadata": {},
   "outputs": [
    {
     "name": "stdout",
     "output_type": "stream",
     "text": [
      "              precision    recall  f1-score   support\n",
      "\n",
      "       False       0.92      0.85      0.89      3449\n",
      "        True       0.87      0.93      0.90      3497\n",
      "\n",
      "    accuracy                           0.89      6946\n",
      "   macro avg       0.89      0.89      0.89      6946\n",
      "weighted avg       0.89      0.89      0.89      6946\n",
      "\n",
      "              precision    recall  f1-score   support\n",
      "\n",
      "       False       0.80      0.76      0.78       863\n",
      "        True       0.77      0.82      0.79       876\n",
      "\n",
      "    accuracy                           0.79      1739\n",
      "   macro avg       0.79      0.79      0.79      1739\n",
      "weighted avg       0.79      0.79      0.79      1739\n",
      "\n"
     ]
    }
   ],
   "source": [
    "#xgb\n",
    "y_train_predict = xgb.predict(X_train_final)\n",
    "y_val_predict = xgb.predict(X_val_final)\n",
    "\n",
    "create_report(y_train_final, y_train_predict)\n",
    "create_report(y_val, y_val_predict,)\n"
   ]
  },
  {
   "cell_type": "code",
   "execution_count": 85,
   "id": "701ff85b",
   "metadata": {},
   "outputs": [
    {
     "name": "stdout",
     "output_type": "stream",
     "text": [
      "              precision    recall  f1-score   support\n",
      "\n",
      "       False       0.82      0.81      0.82      3449\n",
      "        True       0.82      0.83      0.82      3497\n",
      "\n",
      "    accuracy                           0.82      6946\n",
      "   macro avg       0.82      0.82      0.82      6946\n",
      "weighted avg       0.82      0.82      0.82      6946\n",
      "\n",
      "              precision    recall  f1-score   support\n",
      "\n",
      "       False       0.75      0.73      0.74       863\n",
      "        True       0.74      0.76      0.75       876\n",
      "\n",
      "    accuracy                           0.74      1739\n",
      "   macro avg       0.74      0.74      0.74      1739\n",
      "weighted avg       0.74      0.74      0.74      1739\n",
      "\n"
     ]
    }
   ],
   "source": [
    "#k-nn\n",
    "y_train_predict = knn.predict(X_train_final)\n",
    "y_val_predict = knn.predict(X_val_final)\n",
    "\n",
    "create_report(y_train_final, y_train_predict)\n",
    "create_report(y_val, y_val_predict,)"
   ]
  },
  {
   "cell_type": "markdown",
   "id": "d00df76b",
   "metadata": {},
   "source": [
    "All model accuracies score fell when predicting test, it might be because of overfit"
   ]
  },
  {
   "cell_type": "markdown",
   "id": "2a453354",
   "metadata": {},
   "source": [
    "## Hyperparameter Tuning"
   ]
  },
  {
   "cell_type": "markdown",
   "id": "4a77244b",
   "metadata": {},
   "source": [
    "### Hyperparameter Definition"
   ]
  },
  {
   "cell_type": "code",
   "execution_count": 109,
   "id": "2af4b766",
   "metadata": {},
   "outputs": [],
   "source": [
    "# Hyperparameter Random Forest Classifier\n",
    "rfc_params = {\n",
    "    \"n_estimators\": [90, 100, 110],\n",
    "    \"criterion\": [\"gini\", \"entropy\"],\n",
    "    \"max_depth\": [15, 20, 25, 30],\n",
    "    \"min_samples_split\": [2, 5, 10, 15],\n",
    "    \"min_samples_leaf\": [1, 2, 3, 4, 5, 6, 7, 8],\n",
    "    \"random_state\": [123],\n",
    "}\n",
    "\n",
    "# Hyperparameter Extreme Gradient Boosting\n",
    "xgb_params = {\n",
    "    \"learning_rate\": [0.05, 0.1, 0.3, 0.5, 1, 5, 10],\n",
    "    \"n_estimators\": [50, 80, 100, 150, 200],\n",
    "    \"max_depth\": [1, 2, 3, 4, 5, 6, 7],\n",
    "    \"random_state\": [100],\n",
    "}\n",
    "\n",
    "# Hyperparameter K nearest Neighbor\n",
    "knn_params = {\n",
    "    \"n_neighbors\": [3, 4, 5, 6, 7, 8, 9, 10],\n",
    "    \"leaf_size\": [10, 30, 50, 100, 150, 200, 300],\n",
    "    \"algorithm\": ['ball_tree', 'kd_tree']\n",
    "}"
   ]
  },
  {
   "cell_type": "code",
   "execution_count": null,
   "id": "b0d8a326",
   "metadata": {},
   "outputs": [],
   "source": []
  },
  {
   "cell_type": "markdown",
   "id": "21120bb9",
   "metadata": {},
   "source": [
    "### Gridsearch"
   ]
  },
  {
   "cell_type": "markdown",
   "id": "7c7fdb04",
   "metadata": {},
   "source": [
    "#### Random Forest Classifier"
   ]
  },
  {
   "cell_type": "code",
   "execution_count": 162,
   "id": "52b91ba5",
   "metadata": {},
   "outputs": [],
   "source": [
    "grid_search_rfc = GridSearchCV(rfc, rfc_params, scoring=\"f1\", cv=5, n_jobs=4, return_train_score=True)\n",
    "grid_search_rfc.fit(X_train_final, y_train_final)\n",
    "best_scores = {\n",
    "    'best_params': grid_search_rfc.best_params_,\n",
    "    'best_score': grid_search_rfc.best_score_,\n",
    "    'best_estimator': grid_search_rfc.best_estimator_\n",
    "}"
   ]
  },
  {
   "cell_type": "code",
   "execution_count": 163,
   "id": "3de6e179",
   "metadata": {},
   "outputs": [
    {
     "name": "stdout",
     "output_type": "stream",
     "text": [
      "Model Random Foret Classifier\n",
      "Best Parameters: {'criterion': 'gini', 'max_depth': 25, 'min_samples_leaf': 8, 'min_samples_split': 2, 'n_estimators': 100, 'random_state': 123}\n",
      "Best Score: 0.7964652617991522\n",
      "Best Estimator: RandomForestClassifier(max_depth=25, min_samples_leaf=8, random_state=123)\n"
     ]
    }
   ],
   "source": [
    "print(f\"Model Random Foret Classifier\")\n",
    "print(f\"Best Parameters: {grid_search_rfc.best_params_}\")\n",
    "print(f\"Best Score: {grid_search_rfc.best_score_}\")\n",
    "print(f\"Best Estimator: {grid_search_rfc.best_estimator_}\")"
   ]
  },
  {
   "cell_type": "markdown",
   "id": "126d3580",
   "metadata": {},
   "source": [
    "Fit with best parameter"
   ]
  },
  {
   "cell_type": "code",
   "execution_count": 164,
   "id": "cfe08068",
   "metadata": {},
   "outputs": [],
   "source": [
    "#new rfc objects\n",
    "best_rfc = RandomForestClassifier().set_params(**grid_search_rfc.best_params_)"
   ]
  },
  {
   "cell_type": "code",
   "execution_count": 165,
   "id": "1c1d47fb",
   "metadata": {},
   "outputs": [
    {
     "data": {
      "text/html": [
       "<style>#sk-container-id-9 {color: black;background-color: white;}#sk-container-id-9 pre{padding: 0;}#sk-container-id-9 div.sk-toggleable {background-color: white;}#sk-container-id-9 label.sk-toggleable__label {cursor: pointer;display: block;width: 100%;margin-bottom: 0;padding: 0.3em;box-sizing: border-box;text-align: center;}#sk-container-id-9 label.sk-toggleable__label-arrow:before {content: \"▸\";float: left;margin-right: 0.25em;color: #696969;}#sk-container-id-9 label.sk-toggleable__label-arrow:hover:before {color: black;}#sk-container-id-9 div.sk-estimator:hover label.sk-toggleable__label-arrow:before {color: black;}#sk-container-id-9 div.sk-toggleable__content {max-height: 0;max-width: 0;overflow: hidden;text-align: left;background-color: #f0f8ff;}#sk-container-id-9 div.sk-toggleable__content pre {margin: 0.2em;color: black;border-radius: 0.25em;background-color: #f0f8ff;}#sk-container-id-9 input.sk-toggleable__control:checked~div.sk-toggleable__content {max-height: 200px;max-width: 100%;overflow: auto;}#sk-container-id-9 input.sk-toggleable__control:checked~label.sk-toggleable__label-arrow:before {content: \"▾\";}#sk-container-id-9 div.sk-estimator input.sk-toggleable__control:checked~label.sk-toggleable__label {background-color: #d4ebff;}#sk-container-id-9 div.sk-label input.sk-toggleable__control:checked~label.sk-toggleable__label {background-color: #d4ebff;}#sk-container-id-9 input.sk-hidden--visually {border: 0;clip: rect(1px 1px 1px 1px);clip: rect(1px, 1px, 1px, 1px);height: 1px;margin: -1px;overflow: hidden;padding: 0;position: absolute;width: 1px;}#sk-container-id-9 div.sk-estimator {font-family: monospace;background-color: #f0f8ff;border: 1px dotted black;border-radius: 0.25em;box-sizing: border-box;margin-bottom: 0.5em;}#sk-container-id-9 div.sk-estimator:hover {background-color: #d4ebff;}#sk-container-id-9 div.sk-parallel-item::after {content: \"\";width: 100%;border-bottom: 1px solid gray;flex-grow: 1;}#sk-container-id-9 div.sk-label:hover label.sk-toggleable__label {background-color: #d4ebff;}#sk-container-id-9 div.sk-serial::before {content: \"\";position: absolute;border-left: 1px solid gray;box-sizing: border-box;top: 0;bottom: 0;left: 50%;z-index: 0;}#sk-container-id-9 div.sk-serial {display: flex;flex-direction: column;align-items: center;background-color: white;padding-right: 0.2em;padding-left: 0.2em;position: relative;}#sk-container-id-9 div.sk-item {position: relative;z-index: 1;}#sk-container-id-9 div.sk-parallel {display: flex;align-items: stretch;justify-content: center;background-color: white;position: relative;}#sk-container-id-9 div.sk-item::before, #sk-container-id-9 div.sk-parallel-item::before {content: \"\";position: absolute;border-left: 1px solid gray;box-sizing: border-box;top: 0;bottom: 0;left: 50%;z-index: -1;}#sk-container-id-9 div.sk-parallel-item {display: flex;flex-direction: column;z-index: 1;position: relative;background-color: white;}#sk-container-id-9 div.sk-parallel-item:first-child::after {align-self: flex-end;width: 50%;}#sk-container-id-9 div.sk-parallel-item:last-child::after {align-self: flex-start;width: 50%;}#sk-container-id-9 div.sk-parallel-item:only-child::after {width: 0;}#sk-container-id-9 div.sk-dashed-wrapped {border: 1px dashed gray;margin: 0 0.4em 0.5em 0.4em;box-sizing: border-box;padding-bottom: 0.4em;background-color: white;}#sk-container-id-9 div.sk-label label {font-family: monospace;font-weight: bold;display: inline-block;line-height: 1.2em;}#sk-container-id-9 div.sk-label-container {text-align: center;}#sk-container-id-9 div.sk-container {/* jupyter's `normalize.less` sets `[hidden] { display: none; }` but bootstrap.min.css set `[hidden] { display: none !important; }` so we also need the `!important` here to be able to override the default hidden behavior on the sphinx rendered scikit-learn.org. See: https://github.com/scikit-learn/scikit-learn/issues/21755 */display: inline-block !important;position: relative;}#sk-container-id-9 div.sk-text-repr-fallback {display: none;}</style><div id=\"sk-container-id-9\" class=\"sk-top-container\"><div class=\"sk-text-repr-fallback\"><pre>RandomForestClassifier(max_depth=25, min_samples_leaf=8, random_state=123)</pre><b>In a Jupyter environment, please rerun this cell to show the HTML representation or trust the notebook. <br />On GitHub, the HTML representation is unable to render, please try loading this page with nbviewer.org.</b></div><div class=\"sk-container\" hidden><div class=\"sk-item\"><div class=\"sk-estimator sk-toggleable\"><input class=\"sk-toggleable__control sk-hidden--visually\" id=\"sk-estimator-id-9\" type=\"checkbox\" checked><label for=\"sk-estimator-id-9\" class=\"sk-toggleable__label sk-toggleable__label-arrow\">RandomForestClassifier</label><div class=\"sk-toggleable__content\"><pre>RandomForestClassifier(max_depth=25, min_samples_leaf=8, random_state=123)</pre></div></div></div></div></div>"
      ],
      "text/plain": [
       "RandomForestClassifier(max_depth=25, min_samples_leaf=8, random_state=123)"
      ]
     },
     "execution_count": 165,
     "metadata": {},
     "output_type": "execute_result"
    }
   ],
   "source": [
    "best_rfc.fit(X_train_final, y_train_final)"
   ]
  },
  {
   "cell_type": "code",
   "execution_count": 166,
   "id": "82a7dc3d",
   "metadata": {},
   "outputs": [],
   "source": [
    "y_train_rf = best_rfc.predict(X_train_final)\n",
    "y_val_rf = best_rfc.predict(X_val_final)"
   ]
  },
  {
   "cell_type": "code",
   "execution_count": 167,
   "id": "97189e88",
   "metadata": {},
   "outputs": [
    {
     "name": "stdout",
     "output_type": "stream",
     "text": [
      "              precision    recall  f1-score   support\n",
      "\n",
      "       False       0.85      0.82      0.83      3449\n",
      "        True       0.83      0.86      0.84      3497\n",
      "\n",
      "    accuracy                           0.84      6946\n",
      "   macro avg       0.84      0.84      0.84      6946\n",
      "weighted avg       0.84      0.84      0.84      6946\n",
      "\n",
      "              precision    recall  f1-score   support\n",
      "\n",
      "       False       0.81      0.77      0.79       863\n",
      "        True       0.78      0.82      0.80       876\n",
      "\n",
      "    accuracy                           0.79      1739\n",
      "   macro avg       0.79      0.79      0.79      1739\n",
      "weighted avg       0.79      0.79      0.79      1739\n",
      "\n"
     ]
    }
   ],
   "source": [
    "print(classification_report(y_train_final,y_train_rf))\n",
    "print(classification_report(y_val,y_val_rf))"
   ]
  },
  {
   "cell_type": "markdown",
   "id": "d621388a",
   "metadata": {},
   "source": [
    "#### XGBoost"
   ]
  },
  {
   "cell_type": "code",
   "execution_count": 96,
   "id": "3d080a54",
   "metadata": {},
   "outputs": [
    {
     "name": "stderr",
     "output_type": "stream",
     "text": [
      "C:\\Users\\p3d3\\anaconda3\\lib\\site-packages\\xgboost\\core.py:160: UserWarning: [20:47:04] WARNING: C:\\buildkite-agent\\builds\\buildkite-windows-cpu-autoscaling-group-i-07f6e447eee219473-1\\xgboost\\xgboost-ci-windows\\src\\learner.cc:742: \n",
      "Parameters: { \"min_samples_leaf\" } are not used.\n",
      "\n",
      "  warnings.warn(smsg, UserWarning)\n"
     ]
    }
   ],
   "source": [
    "# Grid search Extreme Gradient Boosting\n",
    "grid_search_xgb = GridSearchCV(xgb, xgb_params, scoring=\"f1\", cv=5, n_jobs=4, return_train_score=True)\n",
    "grid_search_xgb.fit(X_train_final, y_train_final)\n",
    "best_scores = {\n",
    "    'best_params': grid_search_xgb.best_params_,\n",
    "    'best_score': grid_search_xgb.best_score_,\n",
    "    'best_estimator': grid_search_xgb.best_estimator_\n",
    "}"
   ]
  },
  {
   "cell_type": "code",
   "execution_count": 99,
   "id": "9b878ea1",
   "metadata": {},
   "outputs": [
    {
     "name": "stdout",
     "output_type": "stream",
     "text": [
      "Model Extreme Gradient Boost\n",
      "Best Parameters: {'learning_rate': 0.05, 'max_depth': 5, 'min_samples_leaf': 1, 'n_estimators': 50, 'random_state': 123}\n",
      "Best Score: 0.8027974748397341\n",
      "Best Estimator: XGBClassifier(base_score=None, booster=None, callbacks=None,\n",
      "              colsample_bylevel=None, colsample_bynode=None,\n",
      "              colsample_bytree=None, device=None, early_stopping_rounds=None,\n",
      "              enable_categorical=False, eval_metric=None, feature_types=None,\n",
      "              gamma=None, grow_policy=None, importance_type=None,\n",
      "              interaction_constraints=None, learning_rate=0.05, max_bin=None,\n",
      "              max_cat_threshold=None, max_cat_to_onehot=None,\n",
      "              max_delta_step=None, max_depth=5, max_leaves=None,\n",
      "              min_child_weight=None, min_samples_leaf=1, missing=nan,\n",
      "              monotone_constraints=None, multi_strategy=None, n_estimators=50,\n",
      "              n_jobs=None, num_parallel_tree=None, ...)\n"
     ]
    }
   ],
   "source": [
    "print(f\"Model Extreme Gradient Boost\")\n",
    "print(f\"Best Parameters: {grid_search_xgb.best_params_}\")\n",
    "print(f\"Best Score: {grid_search_xgb.best_score_}\")\n",
    "print(f\"Best Estimator: {grid_search_xgb.best_estimator_}\")"
   ]
  },
  {
   "cell_type": "markdown",
   "id": "bb5b82b3",
   "metadata": {},
   "source": [
    "Fit with best parameter"
   ]
  },
  {
   "cell_type": "code",
   "execution_count": 125,
   "id": "3e9b4c80",
   "metadata": {},
   "outputs": [],
   "source": [
    "#new xgb objects\n",
    "best_xgb = XGBClassifier().set_params(**grid_search_xgb.best_params_)"
   ]
  },
  {
   "cell_type": "code",
   "execution_count": 126,
   "id": "24943fa2",
   "metadata": {},
   "outputs": [
    {
     "name": "stderr",
     "output_type": "stream",
     "text": [
      "C:\\Users\\p3d3\\anaconda3\\lib\\site-packages\\xgboost\\core.py:160: UserWarning: [21:18:22] WARNING: C:\\buildkite-agent\\builds\\buildkite-windows-cpu-autoscaling-group-i-07f6e447eee219473-1\\xgboost\\xgboost-ci-windows\\src\\learner.cc:742: \n",
      "Parameters: { \"min_samples_leaf\" } are not used.\n",
      "\n",
      "  warnings.warn(smsg, UserWarning)\n"
     ]
    },
    {
     "data": {
      "text/html": [
       "<style>#sk-container-id-4 {color: black;background-color: white;}#sk-container-id-4 pre{padding: 0;}#sk-container-id-4 div.sk-toggleable {background-color: white;}#sk-container-id-4 label.sk-toggleable__label {cursor: pointer;display: block;width: 100%;margin-bottom: 0;padding: 0.3em;box-sizing: border-box;text-align: center;}#sk-container-id-4 label.sk-toggleable__label-arrow:before {content: \"▸\";float: left;margin-right: 0.25em;color: #696969;}#sk-container-id-4 label.sk-toggleable__label-arrow:hover:before {color: black;}#sk-container-id-4 div.sk-estimator:hover label.sk-toggleable__label-arrow:before {color: black;}#sk-container-id-4 div.sk-toggleable__content {max-height: 0;max-width: 0;overflow: hidden;text-align: left;background-color: #f0f8ff;}#sk-container-id-4 div.sk-toggleable__content pre {margin: 0.2em;color: black;border-radius: 0.25em;background-color: #f0f8ff;}#sk-container-id-4 input.sk-toggleable__control:checked~div.sk-toggleable__content {max-height: 200px;max-width: 100%;overflow: auto;}#sk-container-id-4 input.sk-toggleable__control:checked~label.sk-toggleable__label-arrow:before {content: \"▾\";}#sk-container-id-4 div.sk-estimator input.sk-toggleable__control:checked~label.sk-toggleable__label {background-color: #d4ebff;}#sk-container-id-4 div.sk-label input.sk-toggleable__control:checked~label.sk-toggleable__label {background-color: #d4ebff;}#sk-container-id-4 input.sk-hidden--visually {border: 0;clip: rect(1px 1px 1px 1px);clip: rect(1px, 1px, 1px, 1px);height: 1px;margin: -1px;overflow: hidden;padding: 0;position: absolute;width: 1px;}#sk-container-id-4 div.sk-estimator {font-family: monospace;background-color: #f0f8ff;border: 1px dotted black;border-radius: 0.25em;box-sizing: border-box;margin-bottom: 0.5em;}#sk-container-id-4 div.sk-estimator:hover {background-color: #d4ebff;}#sk-container-id-4 div.sk-parallel-item::after {content: \"\";width: 100%;border-bottom: 1px solid gray;flex-grow: 1;}#sk-container-id-4 div.sk-label:hover label.sk-toggleable__label {background-color: #d4ebff;}#sk-container-id-4 div.sk-serial::before {content: \"\";position: absolute;border-left: 1px solid gray;box-sizing: border-box;top: 0;bottom: 0;left: 50%;z-index: 0;}#sk-container-id-4 div.sk-serial {display: flex;flex-direction: column;align-items: center;background-color: white;padding-right: 0.2em;padding-left: 0.2em;position: relative;}#sk-container-id-4 div.sk-item {position: relative;z-index: 1;}#sk-container-id-4 div.sk-parallel {display: flex;align-items: stretch;justify-content: center;background-color: white;position: relative;}#sk-container-id-4 div.sk-item::before, #sk-container-id-4 div.sk-parallel-item::before {content: \"\";position: absolute;border-left: 1px solid gray;box-sizing: border-box;top: 0;bottom: 0;left: 50%;z-index: -1;}#sk-container-id-4 div.sk-parallel-item {display: flex;flex-direction: column;z-index: 1;position: relative;background-color: white;}#sk-container-id-4 div.sk-parallel-item:first-child::after {align-self: flex-end;width: 50%;}#sk-container-id-4 div.sk-parallel-item:last-child::after {align-self: flex-start;width: 50%;}#sk-container-id-4 div.sk-parallel-item:only-child::after {width: 0;}#sk-container-id-4 div.sk-dashed-wrapped {border: 1px dashed gray;margin: 0 0.4em 0.5em 0.4em;box-sizing: border-box;padding-bottom: 0.4em;background-color: white;}#sk-container-id-4 div.sk-label label {font-family: monospace;font-weight: bold;display: inline-block;line-height: 1.2em;}#sk-container-id-4 div.sk-label-container {text-align: center;}#sk-container-id-4 div.sk-container {/* jupyter's `normalize.less` sets `[hidden] { display: none; }` but bootstrap.min.css set `[hidden] { display: none !important; }` so we also need the `!important` here to be able to override the default hidden behavior on the sphinx rendered scikit-learn.org. See: https://github.com/scikit-learn/scikit-learn/issues/21755 */display: inline-block !important;position: relative;}#sk-container-id-4 div.sk-text-repr-fallback {display: none;}</style><div id=\"sk-container-id-4\" class=\"sk-top-container\"><div class=\"sk-text-repr-fallback\"><pre>XGBClassifier(base_score=None, booster=None, callbacks=None,\n",
       "              colsample_bylevel=None, colsample_bynode=None,\n",
       "              colsample_bytree=None, device=None, early_stopping_rounds=None,\n",
       "              enable_categorical=False, eval_metric=None, feature_types=None,\n",
       "              gamma=None, grow_policy=None, importance_type=None,\n",
       "              interaction_constraints=None, learning_rate=0.05, max_bin=None,\n",
       "              max_cat_threshold=None, max_cat_to_onehot=None,\n",
       "              max_delta_step=None, max_depth=5, max_leaves=None,\n",
       "              min_child_weight=None, min_samples_leaf=1, missing=nan,\n",
       "              monotone_constraints=None, multi_strategy=None, n_estimators=50,\n",
       "              n_jobs=None, num_parallel_tree=None, ...)</pre><b>In a Jupyter environment, please rerun this cell to show the HTML representation or trust the notebook. <br />On GitHub, the HTML representation is unable to render, please try loading this page with nbviewer.org.</b></div><div class=\"sk-container\" hidden><div class=\"sk-item\"><div class=\"sk-estimator sk-toggleable\"><input class=\"sk-toggleable__control sk-hidden--visually\" id=\"sk-estimator-id-4\" type=\"checkbox\" checked><label for=\"sk-estimator-id-4\" class=\"sk-toggleable__label sk-toggleable__label-arrow\">XGBClassifier</label><div class=\"sk-toggleable__content\"><pre>XGBClassifier(base_score=None, booster=None, callbacks=None,\n",
       "              colsample_bylevel=None, colsample_bynode=None,\n",
       "              colsample_bytree=None, device=None, early_stopping_rounds=None,\n",
       "              enable_categorical=False, eval_metric=None, feature_types=None,\n",
       "              gamma=None, grow_policy=None, importance_type=None,\n",
       "              interaction_constraints=None, learning_rate=0.05, max_bin=None,\n",
       "              max_cat_threshold=None, max_cat_to_onehot=None,\n",
       "              max_delta_step=None, max_depth=5, max_leaves=None,\n",
       "              min_child_weight=None, min_samples_leaf=1, missing=nan,\n",
       "              monotone_constraints=None, multi_strategy=None, n_estimators=50,\n",
       "              n_jobs=None, num_parallel_tree=None, ...)</pre></div></div></div></div></div>"
      ],
      "text/plain": [
       "XGBClassifier(base_score=None, booster=None, callbacks=None,\n",
       "              colsample_bylevel=None, colsample_bynode=None,\n",
       "              colsample_bytree=None, device=None, early_stopping_rounds=None,\n",
       "              enable_categorical=False, eval_metric=None, feature_types=None,\n",
       "              gamma=None, grow_policy=None, importance_type=None,\n",
       "              interaction_constraints=None, learning_rate=0.05, max_bin=None,\n",
       "              max_cat_threshold=None, max_cat_to_onehot=None,\n",
       "              max_delta_step=None, max_depth=5, max_leaves=None,\n",
       "              min_child_weight=None, min_samples_leaf=1, missing=nan,\n",
       "              monotone_constraints=None, multi_strategy=None, n_estimators=50,\n",
       "              n_jobs=None, num_parallel_tree=None, ...)"
      ]
     },
     "execution_count": 126,
     "metadata": {},
     "output_type": "execute_result"
    }
   ],
   "source": [
    "best_xgb.fit(X_train_final, y_train_final)"
   ]
  },
  {
   "cell_type": "code",
   "execution_count": 127,
   "id": "c3877d1f",
   "metadata": {},
   "outputs": [],
   "source": [
    "y_train_xgb = best_xgb.predict(X_train_final)\n",
    "y_val_xgb = best_xgb.predict(X_val_final)"
   ]
  },
  {
   "cell_type": "code",
   "execution_count": 128,
   "id": "b44884a5",
   "metadata": {},
   "outputs": [
    {
     "name": "stdout",
     "output_type": "stream",
     "text": [
      "              precision    recall  f1-score   support\n",
      "\n",
      "       False       0.84      0.75      0.79      3449\n",
      "        True       0.78      0.85      0.81      3497\n",
      "\n",
      "    accuracy                           0.80      6946\n",
      "   macro avg       0.81      0.80      0.80      6946\n",
      "weighted avg       0.81      0.80      0.80      6946\n",
      "\n",
      "              precision    recall  f1-score   support\n",
      "\n",
      "       False       0.83      0.73      0.77       863\n",
      "        True       0.76      0.85      0.80       876\n",
      "\n",
      "    accuracy                           0.79      1739\n",
      "   macro avg       0.79      0.79      0.79      1739\n",
      "weighted avg       0.79      0.79      0.79      1739\n",
      "\n"
     ]
    }
   ],
   "source": [
    "print(classification_report(y_train_final,y_train_xgb))\n",
    "print(classification_report(y_val,y_val_xgb))"
   ]
  },
  {
   "cell_type": "markdown",
   "id": "4f0afd13",
   "metadata": {},
   "source": [
    "#### K-NN"
   ]
  },
  {
   "cell_type": "code",
   "execution_count": 135,
   "id": "d11929e3",
   "metadata": {},
   "outputs": [],
   "source": [
    "grid_search_knn = GridSearchCV(knn, knn_params, scoring=\"f1\", cv=5, n_jobs=4, return_train_score=True)\n",
    "grid_search_knn.fit(X_train_final, y_train_final)\n",
    "best_scores = {\n",
    "    'best_params': grid_search_knn.best_params_,\n",
    "    'best_score': grid_search_knn.best_score_,\n",
    "    'best_estimator': grid_search_knn.best_estimator_\n",
    "}"
   ]
  },
  {
   "cell_type": "code",
   "execution_count": 136,
   "id": "b7f43fa6",
   "metadata": {},
   "outputs": [
    {
     "name": "stdout",
     "output_type": "stream",
     "text": [
      "Model Random Foret Classifier\n",
      "Best Parameters: {'algorithm': 'kd_tree', 'leaf_size': 30, 'n_neighbors': 7}\n",
      "Best Score: 0.7487430066198616\n",
      "Best Estimator: KNeighborsClassifier(algorithm='kd_tree', n_neighbors=7)\n"
     ]
    }
   ],
   "source": [
    "print(f\"Model Random Foret Classifier\")\n",
    "print(f\"Best Parameters: {grid_search_knn.best_params_}\")\n",
    "print(f\"Best Score: {grid_search_knn.best_score_}\")\n",
    "print(f\"Best Estimator: {grid_search_knn.best_estimator_}\")"
   ]
  },
  {
   "cell_type": "markdown",
   "id": "c5e3da7b",
   "metadata": {},
   "source": [
    "Fit with best parameter"
   ]
  },
  {
   "cell_type": "code",
   "execution_count": 138,
   "id": "1ca87222",
   "metadata": {},
   "outputs": [],
   "source": [
    "#new knn objects\n",
    "best_knn = KNeighborsClassifier().set_params(**grid_search_knn.best_params_)"
   ]
  },
  {
   "cell_type": "code",
   "execution_count": 139,
   "id": "9232b596",
   "metadata": {},
   "outputs": [
    {
     "data": {
      "text/html": [
       "<style>#sk-container-id-5 {color: black;background-color: white;}#sk-container-id-5 pre{padding: 0;}#sk-container-id-5 div.sk-toggleable {background-color: white;}#sk-container-id-5 label.sk-toggleable__label {cursor: pointer;display: block;width: 100%;margin-bottom: 0;padding: 0.3em;box-sizing: border-box;text-align: center;}#sk-container-id-5 label.sk-toggleable__label-arrow:before {content: \"▸\";float: left;margin-right: 0.25em;color: #696969;}#sk-container-id-5 label.sk-toggleable__label-arrow:hover:before {color: black;}#sk-container-id-5 div.sk-estimator:hover label.sk-toggleable__label-arrow:before {color: black;}#sk-container-id-5 div.sk-toggleable__content {max-height: 0;max-width: 0;overflow: hidden;text-align: left;background-color: #f0f8ff;}#sk-container-id-5 div.sk-toggleable__content pre {margin: 0.2em;color: black;border-radius: 0.25em;background-color: #f0f8ff;}#sk-container-id-5 input.sk-toggleable__control:checked~div.sk-toggleable__content {max-height: 200px;max-width: 100%;overflow: auto;}#sk-container-id-5 input.sk-toggleable__control:checked~label.sk-toggleable__label-arrow:before {content: \"▾\";}#sk-container-id-5 div.sk-estimator input.sk-toggleable__control:checked~label.sk-toggleable__label {background-color: #d4ebff;}#sk-container-id-5 div.sk-label input.sk-toggleable__control:checked~label.sk-toggleable__label {background-color: #d4ebff;}#sk-container-id-5 input.sk-hidden--visually {border: 0;clip: rect(1px 1px 1px 1px);clip: rect(1px, 1px, 1px, 1px);height: 1px;margin: -1px;overflow: hidden;padding: 0;position: absolute;width: 1px;}#sk-container-id-5 div.sk-estimator {font-family: monospace;background-color: #f0f8ff;border: 1px dotted black;border-radius: 0.25em;box-sizing: border-box;margin-bottom: 0.5em;}#sk-container-id-5 div.sk-estimator:hover {background-color: #d4ebff;}#sk-container-id-5 div.sk-parallel-item::after {content: \"\";width: 100%;border-bottom: 1px solid gray;flex-grow: 1;}#sk-container-id-5 div.sk-label:hover label.sk-toggleable__label {background-color: #d4ebff;}#sk-container-id-5 div.sk-serial::before {content: \"\";position: absolute;border-left: 1px solid gray;box-sizing: border-box;top: 0;bottom: 0;left: 50%;z-index: 0;}#sk-container-id-5 div.sk-serial {display: flex;flex-direction: column;align-items: center;background-color: white;padding-right: 0.2em;padding-left: 0.2em;position: relative;}#sk-container-id-5 div.sk-item {position: relative;z-index: 1;}#sk-container-id-5 div.sk-parallel {display: flex;align-items: stretch;justify-content: center;background-color: white;position: relative;}#sk-container-id-5 div.sk-item::before, #sk-container-id-5 div.sk-parallel-item::before {content: \"\";position: absolute;border-left: 1px solid gray;box-sizing: border-box;top: 0;bottom: 0;left: 50%;z-index: -1;}#sk-container-id-5 div.sk-parallel-item {display: flex;flex-direction: column;z-index: 1;position: relative;background-color: white;}#sk-container-id-5 div.sk-parallel-item:first-child::after {align-self: flex-end;width: 50%;}#sk-container-id-5 div.sk-parallel-item:last-child::after {align-self: flex-start;width: 50%;}#sk-container-id-5 div.sk-parallel-item:only-child::after {width: 0;}#sk-container-id-5 div.sk-dashed-wrapped {border: 1px dashed gray;margin: 0 0.4em 0.5em 0.4em;box-sizing: border-box;padding-bottom: 0.4em;background-color: white;}#sk-container-id-5 div.sk-label label {font-family: monospace;font-weight: bold;display: inline-block;line-height: 1.2em;}#sk-container-id-5 div.sk-label-container {text-align: center;}#sk-container-id-5 div.sk-container {/* jupyter's `normalize.less` sets `[hidden] { display: none; }` but bootstrap.min.css set `[hidden] { display: none !important; }` so we also need the `!important` here to be able to override the default hidden behavior on the sphinx rendered scikit-learn.org. See: https://github.com/scikit-learn/scikit-learn/issues/21755 */display: inline-block !important;position: relative;}#sk-container-id-5 div.sk-text-repr-fallback {display: none;}</style><div id=\"sk-container-id-5\" class=\"sk-top-container\"><div class=\"sk-text-repr-fallback\"><pre>KNeighborsClassifier(algorithm=&#x27;kd_tree&#x27;, n_neighbors=7)</pre><b>In a Jupyter environment, please rerun this cell to show the HTML representation or trust the notebook. <br />On GitHub, the HTML representation is unable to render, please try loading this page with nbviewer.org.</b></div><div class=\"sk-container\" hidden><div class=\"sk-item\"><div class=\"sk-estimator sk-toggleable\"><input class=\"sk-toggleable__control sk-hidden--visually\" id=\"sk-estimator-id-5\" type=\"checkbox\" checked><label for=\"sk-estimator-id-5\" class=\"sk-toggleable__label sk-toggleable__label-arrow\">KNeighborsClassifier</label><div class=\"sk-toggleable__content\"><pre>KNeighborsClassifier(algorithm=&#x27;kd_tree&#x27;, n_neighbors=7)</pre></div></div></div></div></div>"
      ],
      "text/plain": [
       "KNeighborsClassifier(algorithm='kd_tree', n_neighbors=7)"
      ]
     },
     "execution_count": 139,
     "metadata": {},
     "output_type": "execute_result"
    }
   ],
   "source": [
    "best_knn.fit(X_train_final, y_train_final)"
   ]
  },
  {
   "cell_type": "code",
   "execution_count": 140,
   "id": "319705bd",
   "metadata": {},
   "outputs": [],
   "source": [
    "y_train_knn = best_knn.predict(X_train_final)\n",
    "y_val_knn = best_knn.predict(X_val_final)"
   ]
  },
  {
   "cell_type": "code",
   "execution_count": 141,
   "id": "578fc7e7",
   "metadata": {},
   "outputs": [
    {
     "name": "stdout",
     "output_type": "stream",
     "text": [
      "              precision    recall  f1-score   support\n",
      "\n",
      "       False       0.81      0.80      0.81      3449\n",
      "        True       0.81      0.81      0.81      3497\n",
      "\n",
      "    accuracy                           0.81      6946\n",
      "   macro avg       0.81      0.81      0.81      6946\n",
      "weighted avg       0.81      0.81      0.81      6946\n",
      "\n",
      "              precision    recall  f1-score   support\n",
      "\n",
      "       False       0.75      0.74      0.74       863\n",
      "        True       0.74      0.75      0.75       876\n",
      "\n",
      "    accuracy                           0.75      1739\n",
      "   macro avg       0.75      0.75      0.75      1739\n",
      "weighted avg       0.75      0.75      0.75      1739\n",
      "\n"
     ]
    }
   ],
   "source": [
    "print(classification_report(y_train_final,y_train_knn))\n",
    "print(classification_report(y_val,y_val_knn))"
   ]
  },
  {
   "cell_type": "markdown",
   "id": "0f11b4e0",
   "metadata": {},
   "source": [
    "### Best Model"
   ]
  },
  {
   "cell_type": "markdown",
   "id": "7ccbc9fe",
   "metadata": {},
   "source": [
    "Looking at accuracy and recall, our best models are between Random Forest and XGBoost, but the bias in Random Forest is better, so we will use **Random Forest** as our models"
   ]
  },
  {
   "cell_type": "code",
   "execution_count": 174,
   "id": "0f6b40ef",
   "metadata": {},
   "outputs": [],
   "source": [
    "best_model = RandomForestClassifier(criterion = 'gini',\n",
    "                                    max_depth = 25,\n",
    "                                    min_samples_leaf = 8,\n",
    "                                    min_samples_split = 2,\n",
    "                                    n_estimators = 100)"
   ]
  },
  {
   "cell_type": "markdown",
   "id": "d0ae1de8",
   "metadata": {},
   "source": [
    "# Pipeline"
   ]
  },
  {
   "cell_type": "markdown",
   "id": "47b2bb5a",
   "metadata": {},
   "source": [
    "### Numerical Pipeline"
   ]
  },
  {
   "cell_type": "code",
   "execution_count": 245,
   "id": "87298ecd",
   "metadata": {},
   "outputs": [],
   "source": [
    "numeric_features = num_columns\n",
    "numeric_transformer = Pipeline(\n",
    "    steps=[\n",
    "        (\"computer\", SimpleImputer(strategy='median')),\n",
    "        (\"scaler\", MinMaxScaler(feature_range=(0, 1)))\n",
    "    ]\n",
    ")"
   ]
  },
  {
   "cell_type": "code",
   "execution_count": 240,
   "id": "95e30fc9",
   "metadata": {},
   "outputs": [
    {
     "data": {
      "text/html": [
       "<style>#sk-container-id-15 {color: black;background-color: white;}#sk-container-id-15 pre{padding: 0;}#sk-container-id-15 div.sk-toggleable {background-color: white;}#sk-container-id-15 label.sk-toggleable__label {cursor: pointer;display: block;width: 100%;margin-bottom: 0;padding: 0.3em;box-sizing: border-box;text-align: center;}#sk-container-id-15 label.sk-toggleable__label-arrow:before {content: \"▸\";float: left;margin-right: 0.25em;color: #696969;}#sk-container-id-15 label.sk-toggleable__label-arrow:hover:before {color: black;}#sk-container-id-15 div.sk-estimator:hover label.sk-toggleable__label-arrow:before {color: black;}#sk-container-id-15 div.sk-toggleable__content {max-height: 0;max-width: 0;overflow: hidden;text-align: left;background-color: #f0f8ff;}#sk-container-id-15 div.sk-toggleable__content pre {margin: 0.2em;color: black;border-radius: 0.25em;background-color: #f0f8ff;}#sk-container-id-15 input.sk-toggleable__control:checked~div.sk-toggleable__content {max-height: 200px;max-width: 100%;overflow: auto;}#sk-container-id-15 input.sk-toggleable__control:checked~label.sk-toggleable__label-arrow:before {content: \"▾\";}#sk-container-id-15 div.sk-estimator input.sk-toggleable__control:checked~label.sk-toggleable__label {background-color: #d4ebff;}#sk-container-id-15 div.sk-label input.sk-toggleable__control:checked~label.sk-toggleable__label {background-color: #d4ebff;}#sk-container-id-15 input.sk-hidden--visually {border: 0;clip: rect(1px 1px 1px 1px);clip: rect(1px, 1px, 1px, 1px);height: 1px;margin: -1px;overflow: hidden;padding: 0;position: absolute;width: 1px;}#sk-container-id-15 div.sk-estimator {font-family: monospace;background-color: #f0f8ff;border: 1px dotted black;border-radius: 0.25em;box-sizing: border-box;margin-bottom: 0.5em;}#sk-container-id-15 div.sk-estimator:hover {background-color: #d4ebff;}#sk-container-id-15 div.sk-parallel-item::after {content: \"\";width: 100%;border-bottom: 1px solid gray;flex-grow: 1;}#sk-container-id-15 div.sk-label:hover label.sk-toggleable__label {background-color: #d4ebff;}#sk-container-id-15 div.sk-serial::before {content: \"\";position: absolute;border-left: 1px solid gray;box-sizing: border-box;top: 0;bottom: 0;left: 50%;z-index: 0;}#sk-container-id-15 div.sk-serial {display: flex;flex-direction: column;align-items: center;background-color: white;padding-right: 0.2em;padding-left: 0.2em;position: relative;}#sk-container-id-15 div.sk-item {position: relative;z-index: 1;}#sk-container-id-15 div.sk-parallel {display: flex;align-items: stretch;justify-content: center;background-color: white;position: relative;}#sk-container-id-15 div.sk-item::before, #sk-container-id-15 div.sk-parallel-item::before {content: \"\";position: absolute;border-left: 1px solid gray;box-sizing: border-box;top: 0;bottom: 0;left: 50%;z-index: -1;}#sk-container-id-15 div.sk-parallel-item {display: flex;flex-direction: column;z-index: 1;position: relative;background-color: white;}#sk-container-id-15 div.sk-parallel-item:first-child::after {align-self: flex-end;width: 50%;}#sk-container-id-15 div.sk-parallel-item:last-child::after {align-self: flex-start;width: 50%;}#sk-container-id-15 div.sk-parallel-item:only-child::after {width: 0;}#sk-container-id-15 div.sk-dashed-wrapped {border: 1px dashed gray;margin: 0 0.4em 0.5em 0.4em;box-sizing: border-box;padding-bottom: 0.4em;background-color: white;}#sk-container-id-15 div.sk-label label {font-family: monospace;font-weight: bold;display: inline-block;line-height: 1.2em;}#sk-container-id-15 div.sk-label-container {text-align: center;}#sk-container-id-15 div.sk-container {/* jupyter's `normalize.less` sets `[hidden] { display: none; }` but bootstrap.min.css set `[hidden] { display: none !important; }` so we also need the `!important` here to be able to override the default hidden behavior on the sphinx rendered scikit-learn.org. See: https://github.com/scikit-learn/scikit-learn/issues/21755 */display: inline-block !important;position: relative;}#sk-container-id-15 div.sk-text-repr-fallback {display: none;}</style><div id=\"sk-container-id-15\" class=\"sk-top-container\"><div class=\"sk-text-repr-fallback\"><pre>Pipeline(steps=[(&#x27;computer&#x27;, SimpleImputer(strategy=&#x27;median&#x27;)),\n",
       "                (&#x27;scaler&#x27;, MinMaxScaler(feature_range=(0, 3)))])</pre><b>In a Jupyter environment, please rerun this cell to show the HTML representation or trust the notebook. <br />On GitHub, the HTML representation is unable to render, please try loading this page with nbviewer.org.</b></div><div class=\"sk-container\" hidden><div class=\"sk-item sk-dashed-wrapped\"><div class=\"sk-label-container\"><div class=\"sk-label sk-toggleable\"><input class=\"sk-toggleable__control sk-hidden--visually\" id=\"sk-estimator-id-27\" type=\"checkbox\" ><label for=\"sk-estimator-id-27\" class=\"sk-toggleable__label sk-toggleable__label-arrow\">Pipeline</label><div class=\"sk-toggleable__content\"><pre>Pipeline(steps=[(&#x27;computer&#x27;, SimpleImputer(strategy=&#x27;median&#x27;)),\n",
       "                (&#x27;scaler&#x27;, MinMaxScaler(feature_range=(0, 3)))])</pre></div></div></div><div class=\"sk-serial\"><div class=\"sk-item\"><div class=\"sk-estimator sk-toggleable\"><input class=\"sk-toggleable__control sk-hidden--visually\" id=\"sk-estimator-id-28\" type=\"checkbox\" ><label for=\"sk-estimator-id-28\" class=\"sk-toggleable__label sk-toggleable__label-arrow\">SimpleImputer</label><div class=\"sk-toggleable__content\"><pre>SimpleImputer(strategy=&#x27;median&#x27;)</pre></div></div></div><div class=\"sk-item\"><div class=\"sk-estimator sk-toggleable\"><input class=\"sk-toggleable__control sk-hidden--visually\" id=\"sk-estimator-id-29\" type=\"checkbox\" ><label for=\"sk-estimator-id-29\" class=\"sk-toggleable__label sk-toggleable__label-arrow\">MinMaxScaler</label><div class=\"sk-toggleable__content\"><pre>MinMaxScaler(feature_range=(0, 3))</pre></div></div></div></div></div></div></div>"
      ],
      "text/plain": [
       "Pipeline(steps=[('computer', SimpleImputer(strategy='median')),\n",
       "                ('scaler', MinMaxScaler(feature_range=(0, 3)))])"
      ]
     },
     "execution_count": 240,
     "metadata": {},
     "output_type": "execute_result"
    }
   ],
   "source": [
    "numeric_transformer"
   ]
  },
  {
   "cell_type": "markdown",
   "id": "152ce93e",
   "metadata": {},
   "source": [
    "### Categorical Pipeline"
   ]
  },
  {
   "cell_type": "code",
   "execution_count": 257,
   "id": "387d946c",
   "metadata": {},
   "outputs": [],
   "source": [
    "categorical_features = cat_columns\n",
    "categorical_transformer = Pipeline(steps=[(\"encoder\", OrdinalEncoder())])\n",
    "category_pipe = Pipeline(\n",
    "    steps=[\n",
    "        (\"computer\", SimpleImputer(strategy=\"most_frequent\")),\n",
    "        (\"cat\", categorical_transformer),\n",
    "        (\"scaler\", MinMaxScaler(feature_range=(0, 1)))\n",
    "    ]\n",
    ")"
   ]
  },
  {
   "cell_type": "markdown",
   "id": "639274ba",
   "metadata": {},
   "source": [
    "### Preprocessor Transformer Pipeline"
   ]
  },
  {
   "cell_type": "code",
   "execution_count": 258,
   "id": "b890fdb3",
   "metadata": {},
   "outputs": [],
   "source": [
    "combined_preprocessor = ColumnTransformer(\n",
    "    transformers=[\n",
    "        (\"cat\", category_pipe, categorical_features),\n",
    "        (\"num\", numeric_transformer, numeric_features)\n",
    "    ]\n",
    ")"
   ]
  },
  {
   "cell_type": "markdown",
   "id": "095f7c21",
   "metadata": {},
   "source": [
    "## Pipeline Model"
   ]
  },
  {
   "cell_type": "code",
   "execution_count": 259,
   "id": "fb94bb72",
   "metadata": {},
   "outputs": [],
   "source": [
    "pipe = Pipeline(\n",
    "    steps=[(\"preprocessor\", combined_preprocessor), (\"classifier\", best_model)]\n",
    ")"
   ]
  },
  {
   "cell_type": "code",
   "execution_count": 260,
   "id": "edd3af6c",
   "metadata": {
    "scrolled": false
   },
   "outputs": [
    {
     "data": {
      "text/html": [
       "<style>#sk-container-id-19 {color: black;background-color: white;}#sk-container-id-19 pre{padding: 0;}#sk-container-id-19 div.sk-toggleable {background-color: white;}#sk-container-id-19 label.sk-toggleable__label {cursor: pointer;display: block;width: 100%;margin-bottom: 0;padding: 0.3em;box-sizing: border-box;text-align: center;}#sk-container-id-19 label.sk-toggleable__label-arrow:before {content: \"▸\";float: left;margin-right: 0.25em;color: #696969;}#sk-container-id-19 label.sk-toggleable__label-arrow:hover:before {color: black;}#sk-container-id-19 div.sk-estimator:hover label.sk-toggleable__label-arrow:before {color: black;}#sk-container-id-19 div.sk-toggleable__content {max-height: 0;max-width: 0;overflow: hidden;text-align: left;background-color: #f0f8ff;}#sk-container-id-19 div.sk-toggleable__content pre {margin: 0.2em;color: black;border-radius: 0.25em;background-color: #f0f8ff;}#sk-container-id-19 input.sk-toggleable__control:checked~div.sk-toggleable__content {max-height: 200px;max-width: 100%;overflow: auto;}#sk-container-id-19 input.sk-toggleable__control:checked~label.sk-toggleable__label-arrow:before {content: \"▾\";}#sk-container-id-19 div.sk-estimator input.sk-toggleable__control:checked~label.sk-toggleable__label {background-color: #d4ebff;}#sk-container-id-19 div.sk-label input.sk-toggleable__control:checked~label.sk-toggleable__label {background-color: #d4ebff;}#sk-container-id-19 input.sk-hidden--visually {border: 0;clip: rect(1px 1px 1px 1px);clip: rect(1px, 1px, 1px, 1px);height: 1px;margin: -1px;overflow: hidden;padding: 0;position: absolute;width: 1px;}#sk-container-id-19 div.sk-estimator {font-family: monospace;background-color: #f0f8ff;border: 1px dotted black;border-radius: 0.25em;box-sizing: border-box;margin-bottom: 0.5em;}#sk-container-id-19 div.sk-estimator:hover {background-color: #d4ebff;}#sk-container-id-19 div.sk-parallel-item::after {content: \"\";width: 100%;border-bottom: 1px solid gray;flex-grow: 1;}#sk-container-id-19 div.sk-label:hover label.sk-toggleable__label {background-color: #d4ebff;}#sk-container-id-19 div.sk-serial::before {content: \"\";position: absolute;border-left: 1px solid gray;box-sizing: border-box;top: 0;bottom: 0;left: 50%;z-index: 0;}#sk-container-id-19 div.sk-serial {display: flex;flex-direction: column;align-items: center;background-color: white;padding-right: 0.2em;padding-left: 0.2em;position: relative;}#sk-container-id-19 div.sk-item {position: relative;z-index: 1;}#sk-container-id-19 div.sk-parallel {display: flex;align-items: stretch;justify-content: center;background-color: white;position: relative;}#sk-container-id-19 div.sk-item::before, #sk-container-id-19 div.sk-parallel-item::before {content: \"\";position: absolute;border-left: 1px solid gray;box-sizing: border-box;top: 0;bottom: 0;left: 50%;z-index: -1;}#sk-container-id-19 div.sk-parallel-item {display: flex;flex-direction: column;z-index: 1;position: relative;background-color: white;}#sk-container-id-19 div.sk-parallel-item:first-child::after {align-self: flex-end;width: 50%;}#sk-container-id-19 div.sk-parallel-item:last-child::after {align-self: flex-start;width: 50%;}#sk-container-id-19 div.sk-parallel-item:only-child::after {width: 0;}#sk-container-id-19 div.sk-dashed-wrapped {border: 1px dashed gray;margin: 0 0.4em 0.5em 0.4em;box-sizing: border-box;padding-bottom: 0.4em;background-color: white;}#sk-container-id-19 div.sk-label label {font-family: monospace;font-weight: bold;display: inline-block;line-height: 1.2em;}#sk-container-id-19 div.sk-label-container {text-align: center;}#sk-container-id-19 div.sk-container {/* jupyter's `normalize.less` sets `[hidden] { display: none; }` but bootstrap.min.css set `[hidden] { display: none !important; }` so we also need the `!important` here to be able to override the default hidden behavior on the sphinx rendered scikit-learn.org. See: https://github.com/scikit-learn/scikit-learn/issues/21755 */display: inline-block !important;position: relative;}#sk-container-id-19 div.sk-text-repr-fallback {display: none;}</style><div id=\"sk-container-id-19\" class=\"sk-top-container\"><div class=\"sk-text-repr-fallback\"><pre>Pipeline(steps=[(&#x27;preprocessor&#x27;,\n",
       "                 ColumnTransformer(transformers=[(&#x27;cat&#x27;,\n",
       "                                                  Pipeline(steps=[(&#x27;computer&#x27;,\n",
       "                                                                   SimpleImputer(strategy=&#x27;most_frequent&#x27;)),\n",
       "                                                                  (&#x27;cat&#x27;,\n",
       "                                                                   Pipeline(steps=[(&#x27;encoder&#x27;,\n",
       "                                                                                    OrdinalEncoder())])),\n",
       "                                                                  (&#x27;scaler&#x27;,\n",
       "                                                                   MinMaxScaler())]),\n",
       "                                                  [&#x27;HomePlanet&#x27;, &#x27;CryoSleep&#x27;,\n",
       "                                                   &#x27;Destination&#x27;, &#x27;VIP&#x27;,\n",
       "                                                   &#x27;Side&#x27;]),\n",
       "                                                 (&#x27;num&#x27;,\n",
       "                                                  Pipeline(steps=[(&#x27;computer&#x27;,\n",
       "                                                                   SimpleImputer(strategy=&#x27;median&#x27;)),\n",
       "                                                                  (&#x27;scaler&#x27;,\n",
       "                                                                   MinMaxScaler())]),\n",
       "                                                  [&#x27;Age&#x27;, &#x27;RoomService&#x27;,\n",
       "                                                   &#x27;FoodCourt&#x27;, &#x27;Spa&#x27;, &#x27;VRDeck&#x27;,\n",
       "                                                   &#x27;people_in_group&#x27;])])),\n",
       "                (&#x27;classifier&#x27;,\n",
       "                 RandomForestClassifier(max_depth=25, min_samples_leaf=8))])</pre><b>In a Jupyter environment, please rerun this cell to show the HTML representation or trust the notebook. <br />On GitHub, the HTML representation is unable to render, please try loading this page with nbviewer.org.</b></div><div class=\"sk-container\" hidden><div class=\"sk-item sk-dashed-wrapped\"><div class=\"sk-label-container\"><div class=\"sk-label sk-toggleable\"><input class=\"sk-toggleable__control sk-hidden--visually\" id=\"sk-estimator-id-62\" type=\"checkbox\" ><label for=\"sk-estimator-id-62\" class=\"sk-toggleable__label sk-toggleable__label-arrow\">Pipeline</label><div class=\"sk-toggleable__content\"><pre>Pipeline(steps=[(&#x27;preprocessor&#x27;,\n",
       "                 ColumnTransformer(transformers=[(&#x27;cat&#x27;,\n",
       "                                                  Pipeline(steps=[(&#x27;computer&#x27;,\n",
       "                                                                   SimpleImputer(strategy=&#x27;most_frequent&#x27;)),\n",
       "                                                                  (&#x27;cat&#x27;,\n",
       "                                                                   Pipeline(steps=[(&#x27;encoder&#x27;,\n",
       "                                                                                    OrdinalEncoder())])),\n",
       "                                                                  (&#x27;scaler&#x27;,\n",
       "                                                                   MinMaxScaler())]),\n",
       "                                                  [&#x27;HomePlanet&#x27;, &#x27;CryoSleep&#x27;,\n",
       "                                                   &#x27;Destination&#x27;, &#x27;VIP&#x27;,\n",
       "                                                   &#x27;Side&#x27;]),\n",
       "                                                 (&#x27;num&#x27;,\n",
       "                                                  Pipeline(steps=[(&#x27;computer&#x27;,\n",
       "                                                                   SimpleImputer(strategy=&#x27;median&#x27;)),\n",
       "                                                                  (&#x27;scaler&#x27;,\n",
       "                                                                   MinMaxScaler())]),\n",
       "                                                  [&#x27;Age&#x27;, &#x27;RoomService&#x27;,\n",
       "                                                   &#x27;FoodCourt&#x27;, &#x27;Spa&#x27;, &#x27;VRDeck&#x27;,\n",
       "                                                   &#x27;people_in_group&#x27;])])),\n",
       "                (&#x27;classifier&#x27;,\n",
       "                 RandomForestClassifier(max_depth=25, min_samples_leaf=8))])</pre></div></div></div><div class=\"sk-serial\"><div class=\"sk-item sk-dashed-wrapped\"><div class=\"sk-label-container\"><div class=\"sk-label sk-toggleable\"><input class=\"sk-toggleable__control sk-hidden--visually\" id=\"sk-estimator-id-63\" type=\"checkbox\" ><label for=\"sk-estimator-id-63\" class=\"sk-toggleable__label sk-toggleable__label-arrow\">preprocessor: ColumnTransformer</label><div class=\"sk-toggleable__content\"><pre>ColumnTransformer(transformers=[(&#x27;cat&#x27;,\n",
       "                                 Pipeline(steps=[(&#x27;computer&#x27;,\n",
       "                                                  SimpleImputer(strategy=&#x27;most_frequent&#x27;)),\n",
       "                                                 (&#x27;cat&#x27;,\n",
       "                                                  Pipeline(steps=[(&#x27;encoder&#x27;,\n",
       "                                                                   OrdinalEncoder())])),\n",
       "                                                 (&#x27;scaler&#x27;, MinMaxScaler())]),\n",
       "                                 [&#x27;HomePlanet&#x27;, &#x27;CryoSleep&#x27;, &#x27;Destination&#x27;,\n",
       "                                  &#x27;VIP&#x27;, &#x27;Side&#x27;]),\n",
       "                                (&#x27;num&#x27;,\n",
       "                                 Pipeline(steps=[(&#x27;computer&#x27;,\n",
       "                                                  SimpleImputer(strategy=&#x27;median&#x27;)),\n",
       "                                                 (&#x27;scaler&#x27;, MinMaxScaler())]),\n",
       "                                 [&#x27;Age&#x27;, &#x27;RoomService&#x27;, &#x27;FoodCourt&#x27;, &#x27;Spa&#x27;,\n",
       "                                  &#x27;VRDeck&#x27;, &#x27;people_in_group&#x27;])])</pre></div></div></div><div class=\"sk-parallel\"><div class=\"sk-parallel-item\"><div class=\"sk-item\"><div class=\"sk-label-container\"><div class=\"sk-label sk-toggleable\"><input class=\"sk-toggleable__control sk-hidden--visually\" id=\"sk-estimator-id-64\" type=\"checkbox\" ><label for=\"sk-estimator-id-64\" class=\"sk-toggleable__label sk-toggleable__label-arrow\">cat</label><div class=\"sk-toggleable__content\"><pre>[&#x27;HomePlanet&#x27;, &#x27;CryoSleep&#x27;, &#x27;Destination&#x27;, &#x27;VIP&#x27;, &#x27;Side&#x27;]</pre></div></div></div><div class=\"sk-serial\"><div class=\"sk-item\"><div class=\"sk-serial\"><div class=\"sk-item\"><div class=\"sk-estimator sk-toggleable\"><input class=\"sk-toggleable__control sk-hidden--visually\" id=\"sk-estimator-id-65\" type=\"checkbox\" ><label for=\"sk-estimator-id-65\" class=\"sk-toggleable__label sk-toggleable__label-arrow\">SimpleImputer</label><div class=\"sk-toggleable__content\"><pre>SimpleImputer(strategy=&#x27;most_frequent&#x27;)</pre></div></div></div><div class=\"sk-item\"><div class=\"sk-label-container\"><div class=\"sk-label sk-toggleable\"><input class=\"sk-toggleable__control sk-hidden--visually\" id=\"sk-estimator-id-66\" type=\"checkbox\" ><label for=\"sk-estimator-id-66\" class=\"sk-toggleable__label sk-toggleable__label-arrow\">cat: Pipeline</label><div class=\"sk-toggleable__content\"><pre>Pipeline(steps=[(&#x27;encoder&#x27;, OrdinalEncoder())])</pre></div></div></div><div class=\"sk-serial\"><div class=\"sk-item\"><div class=\"sk-estimator sk-toggleable\"><input class=\"sk-toggleable__control sk-hidden--visually\" id=\"sk-estimator-id-67\" type=\"checkbox\" ><label for=\"sk-estimator-id-67\" class=\"sk-toggleable__label sk-toggleable__label-arrow\">OrdinalEncoder</label><div class=\"sk-toggleable__content\"><pre>OrdinalEncoder()</pre></div></div></div></div></div><div class=\"sk-item\"><div class=\"sk-estimator sk-toggleable\"><input class=\"sk-toggleable__control sk-hidden--visually\" id=\"sk-estimator-id-68\" type=\"checkbox\" ><label for=\"sk-estimator-id-68\" class=\"sk-toggleable__label sk-toggleable__label-arrow\">MinMaxScaler</label><div class=\"sk-toggleable__content\"><pre>MinMaxScaler()</pre></div></div></div></div></div></div></div></div><div class=\"sk-parallel-item\"><div class=\"sk-item\"><div class=\"sk-label-container\"><div class=\"sk-label sk-toggleable\"><input class=\"sk-toggleable__control sk-hidden--visually\" id=\"sk-estimator-id-69\" type=\"checkbox\" ><label for=\"sk-estimator-id-69\" class=\"sk-toggleable__label sk-toggleable__label-arrow\">num</label><div class=\"sk-toggleable__content\"><pre>[&#x27;Age&#x27;, &#x27;RoomService&#x27;, &#x27;FoodCourt&#x27;, &#x27;Spa&#x27;, &#x27;VRDeck&#x27;, &#x27;people_in_group&#x27;]</pre></div></div></div><div class=\"sk-serial\"><div class=\"sk-item\"><div class=\"sk-serial\"><div class=\"sk-item\"><div class=\"sk-estimator sk-toggleable\"><input class=\"sk-toggleable__control sk-hidden--visually\" id=\"sk-estimator-id-70\" type=\"checkbox\" ><label for=\"sk-estimator-id-70\" class=\"sk-toggleable__label sk-toggleable__label-arrow\">SimpleImputer</label><div class=\"sk-toggleable__content\"><pre>SimpleImputer(strategy=&#x27;median&#x27;)</pre></div></div></div><div class=\"sk-item\"><div class=\"sk-estimator sk-toggleable\"><input class=\"sk-toggleable__control sk-hidden--visually\" id=\"sk-estimator-id-71\" type=\"checkbox\" ><label for=\"sk-estimator-id-71\" class=\"sk-toggleable__label sk-toggleable__label-arrow\">MinMaxScaler</label><div class=\"sk-toggleable__content\"><pre>MinMaxScaler()</pre></div></div></div></div></div></div></div></div></div></div><div class=\"sk-item\"><div class=\"sk-estimator sk-toggleable\"><input class=\"sk-toggleable__control sk-hidden--visually\" id=\"sk-estimator-id-72\" type=\"checkbox\" ><label for=\"sk-estimator-id-72\" class=\"sk-toggleable__label sk-toggleable__label-arrow\">RandomForestClassifier</label><div class=\"sk-toggleable__content\"><pre>RandomForestClassifier(max_depth=25, min_samples_leaf=8)</pre></div></div></div></div></div></div></div>"
      ],
      "text/plain": [
       "Pipeline(steps=[('preprocessor',\n",
       "                 ColumnTransformer(transformers=[('cat',\n",
       "                                                  Pipeline(steps=[('computer',\n",
       "                                                                   SimpleImputer(strategy='most_frequent')),\n",
       "                                                                  ('cat',\n",
       "                                                                   Pipeline(steps=[('encoder',\n",
       "                                                                                    OrdinalEncoder())])),\n",
       "                                                                  ('scaler',\n",
       "                                                                   MinMaxScaler())]),\n",
       "                                                  ['HomePlanet', 'CryoSleep',\n",
       "                                                   'Destination', 'VIP',\n",
       "                                                   'Side']),\n",
       "                                                 ('num',\n",
       "                                                  Pipeline(steps=[('computer',\n",
       "                                                                   SimpleImputer(strategy='median')),\n",
       "                                                                  ('scaler',\n",
       "                                                                   MinMaxScaler())]),\n",
       "                                                  ['Age', 'RoomService',\n",
       "                                                   'FoodCourt', 'Spa', 'VRDeck',\n",
       "                                                   'people_in_group'])])),\n",
       "                ('classifier',\n",
       "                 RandomForestClassifier(max_depth=25, min_samples_leaf=8))])"
      ]
     },
     "execution_count": 260,
     "metadata": {},
     "output_type": "execute_result"
    }
   ],
   "source": [
    "pipe.fit(X_train_no_outlier, y_train_final)"
   ]
  },
  {
   "cell_type": "markdown",
   "id": "cd9272a1",
   "metadata": {},
   "source": [
    "## Predict"
   ]
  },
  {
   "cell_type": "code",
   "execution_count": 261,
   "id": "07d876df",
   "metadata": {},
   "outputs": [],
   "source": [
    "y_predict = pipe.predict(X_val)"
   ]
  },
  {
   "cell_type": "code",
   "execution_count": 263,
   "id": "5ef6521b",
   "metadata": {},
   "outputs": [
    {
     "data": {
      "text/plain": [
       "0.7912593444508338"
      ]
     },
     "execution_count": 263,
     "metadata": {},
     "output_type": "execute_result"
    }
   ],
   "source": [
    "(y_predict == y_val).sum()/len(y_val)"
   ]
  },
  {
   "cell_type": "markdown",
   "id": "b93a2cf9",
   "metadata": {},
   "source": [
    "Already the same with the report above"
   ]
  },
  {
   "cell_type": "markdown",
   "id": "e67b1d8e",
   "metadata": {},
   "source": [
    "# Model Saving"
   ]
  },
  {
   "cell_type": "code",
   "execution_count": 266,
   "id": "f5252b18",
   "metadata": {},
   "outputs": [
    {
     "data": {
      "text/plain": [
       "['pipeline.pkl']"
      ]
     },
     "execution_count": 266,
     "metadata": {},
     "output_type": "execute_result"
    }
   ],
   "source": [
    "joblib.dump(pipe, \"pipeline.pkl\")"
   ]
  },
  {
   "cell_type": "markdown",
   "id": "3932727a",
   "metadata": {},
   "source": [
    "# Model Inference"
   ]
  },
  {
   "cell_type": "code",
   "execution_count": 272,
   "id": "39d2911d",
   "metadata": {},
   "outputs": [
    {
     "data": {
      "text/html": [
       "<div>\n",
       "<style scoped>\n",
       "    .dataframe tbody tr th:only-of-type {\n",
       "        vertical-align: middle;\n",
       "    }\n",
       "\n",
       "    .dataframe tbody tr th {\n",
       "        vertical-align: top;\n",
       "    }\n",
       "\n",
       "    .dataframe thead th {\n",
       "        text-align: right;\n",
       "    }\n",
       "</style>\n",
       "<table border=\"1\" class=\"dataframe\">\n",
       "  <thead>\n",
       "    <tr style=\"text-align: right;\">\n",
       "      <th></th>\n",
       "      <th>PassengerId</th>\n",
       "      <th>HomePlanet</th>\n",
       "      <th>CryoSleep</th>\n",
       "      <th>Cabin</th>\n",
       "      <th>Destination</th>\n",
       "      <th>Age</th>\n",
       "      <th>VIP</th>\n",
       "      <th>RoomService</th>\n",
       "      <th>FoodCourt</th>\n",
       "      <th>ShoppingMall</th>\n",
       "      <th>Spa</th>\n",
       "      <th>VRDeck</th>\n",
       "      <th>Name</th>\n",
       "    </tr>\n",
       "  </thead>\n",
       "  <tbody>\n",
       "    <tr>\n",
       "      <th>0</th>\n",
       "      <td>0013_01</td>\n",
       "      <td>Earth</td>\n",
       "      <td>True</td>\n",
       "      <td>G/3/S</td>\n",
       "      <td>TRAPPIST-1e</td>\n",
       "      <td>27.0</td>\n",
       "      <td>False</td>\n",
       "      <td>0.0</td>\n",
       "      <td>0.0</td>\n",
       "      <td>0.0</td>\n",
       "      <td>0.0</td>\n",
       "      <td>0.0</td>\n",
       "      <td>Nelly Carsoning</td>\n",
       "    </tr>\n",
       "    <tr>\n",
       "      <th>1</th>\n",
       "      <td>0018_01</td>\n",
       "      <td>Earth</td>\n",
       "      <td>False</td>\n",
       "      <td>F/4/S</td>\n",
       "      <td>TRAPPIST-1e</td>\n",
       "      <td>19.0</td>\n",
       "      <td>False</td>\n",
       "      <td>0.0</td>\n",
       "      <td>9.0</td>\n",
       "      <td>0.0</td>\n",
       "      <td>2823.0</td>\n",
       "      <td>0.0</td>\n",
       "      <td>Lerome Peckers</td>\n",
       "    </tr>\n",
       "    <tr>\n",
       "      <th>2</th>\n",
       "      <td>0019_01</td>\n",
       "      <td>Europa</td>\n",
       "      <td>True</td>\n",
       "      <td>C/0/S</td>\n",
       "      <td>55 Cancri e</td>\n",
       "      <td>31.0</td>\n",
       "      <td>False</td>\n",
       "      <td>0.0</td>\n",
       "      <td>0.0</td>\n",
       "      <td>0.0</td>\n",
       "      <td>0.0</td>\n",
       "      <td>0.0</td>\n",
       "      <td>Sabih Unhearfus</td>\n",
       "    </tr>\n",
       "    <tr>\n",
       "      <th>3</th>\n",
       "      <td>0021_01</td>\n",
       "      <td>Europa</td>\n",
       "      <td>False</td>\n",
       "      <td>C/1/S</td>\n",
       "      <td>TRAPPIST-1e</td>\n",
       "      <td>38.0</td>\n",
       "      <td>False</td>\n",
       "      <td>0.0</td>\n",
       "      <td>6652.0</td>\n",
       "      <td>0.0</td>\n",
       "      <td>181.0</td>\n",
       "      <td>585.0</td>\n",
       "      <td>Meratz Caltilter</td>\n",
       "    </tr>\n",
       "    <tr>\n",
       "      <th>4</th>\n",
       "      <td>0023_01</td>\n",
       "      <td>Earth</td>\n",
       "      <td>False</td>\n",
       "      <td>F/5/S</td>\n",
       "      <td>TRAPPIST-1e</td>\n",
       "      <td>20.0</td>\n",
       "      <td>False</td>\n",
       "      <td>10.0</td>\n",
       "      <td>0.0</td>\n",
       "      <td>635.0</td>\n",
       "      <td>0.0</td>\n",
       "      <td>0.0</td>\n",
       "      <td>Brence Harperez</td>\n",
       "    </tr>\n",
       "  </tbody>\n",
       "</table>\n",
       "</div>"
      ],
      "text/plain": [
       "  PassengerId HomePlanet CryoSleep  Cabin  Destination   Age    VIP  \\\n",
       "0     0013_01      Earth      True  G/3/S  TRAPPIST-1e  27.0  False   \n",
       "1     0018_01      Earth     False  F/4/S  TRAPPIST-1e  19.0  False   \n",
       "2     0019_01     Europa      True  C/0/S  55 Cancri e  31.0  False   \n",
       "3     0021_01     Europa     False  C/1/S  TRAPPIST-1e  38.0  False   \n",
       "4     0023_01      Earth     False  F/5/S  TRAPPIST-1e  20.0  False   \n",
       "\n",
       "   RoomService  FoodCourt  ShoppingMall     Spa  VRDeck              Name  \n",
       "0          0.0        0.0           0.0     0.0     0.0   Nelly Carsoning  \n",
       "1          0.0        9.0           0.0  2823.0     0.0    Lerome Peckers  \n",
       "2          0.0        0.0           0.0     0.0     0.0   Sabih Unhearfus  \n",
       "3          0.0     6652.0           0.0   181.0   585.0  Meratz Caltilter  \n",
       "4         10.0        0.0         635.0     0.0     0.0   Brence Harperez  "
      ]
     },
     "execution_count": 272,
     "metadata": {},
     "output_type": "execute_result"
    }
   ],
   "source": [
    "inference_data = pd.read_csv(\"test.csv\")\n",
    "inference_data.head()"
   ]
  },
  {
   "cell_type": "code",
   "execution_count": 273,
   "id": "bf7c1cd3",
   "metadata": {},
   "outputs": [
    {
     "data": {
      "text/html": [
       "<div>\n",
       "<style scoped>\n",
       "    .dataframe tbody tr th:only-of-type {\n",
       "        vertical-align: middle;\n",
       "    }\n",
       "\n",
       "    .dataframe tbody tr th {\n",
       "        vertical-align: top;\n",
       "    }\n",
       "\n",
       "    .dataframe thead th {\n",
       "        text-align: right;\n",
       "    }\n",
       "</style>\n",
       "<table border=\"1\" class=\"dataframe\">\n",
       "  <thead>\n",
       "    <tr style=\"text-align: right;\">\n",
       "      <th></th>\n",
       "      <th>PassengerId</th>\n",
       "      <th>HomePlanet</th>\n",
       "      <th>CryoSleep</th>\n",
       "      <th>Destination</th>\n",
       "      <th>Age</th>\n",
       "      <th>VIP</th>\n",
       "      <th>RoomService</th>\n",
       "      <th>FoodCourt</th>\n",
       "      <th>ShoppingMall</th>\n",
       "      <th>Spa</th>\n",
       "      <th>VRDeck</th>\n",
       "      <th>people_in_group</th>\n",
       "      <th>Deck</th>\n",
       "      <th>Cabin_num</th>\n",
       "      <th>Side</th>\n",
       "    </tr>\n",
       "  </thead>\n",
       "  <tbody>\n",
       "    <tr>\n",
       "      <th>0</th>\n",
       "      <td>0013_01</td>\n",
       "      <td>Earth</td>\n",
       "      <td>True</td>\n",
       "      <td>TRAPPIST-1e</td>\n",
       "      <td>27.0</td>\n",
       "      <td>False</td>\n",
       "      <td>0.0</td>\n",
       "      <td>0.0</td>\n",
       "      <td>0.0</td>\n",
       "      <td>0.0</td>\n",
       "      <td>0.0</td>\n",
       "      <td>1</td>\n",
       "      <td>G</td>\n",
       "      <td>3</td>\n",
       "      <td>S</td>\n",
       "    </tr>\n",
       "    <tr>\n",
       "      <th>1</th>\n",
       "      <td>0018_01</td>\n",
       "      <td>Earth</td>\n",
       "      <td>False</td>\n",
       "      <td>TRAPPIST-1e</td>\n",
       "      <td>19.0</td>\n",
       "      <td>False</td>\n",
       "      <td>0.0</td>\n",
       "      <td>9.0</td>\n",
       "      <td>0.0</td>\n",
       "      <td>2823.0</td>\n",
       "      <td>0.0</td>\n",
       "      <td>1</td>\n",
       "      <td>F</td>\n",
       "      <td>4</td>\n",
       "      <td>S</td>\n",
       "    </tr>\n",
       "    <tr>\n",
       "      <th>2</th>\n",
       "      <td>0019_01</td>\n",
       "      <td>Europa</td>\n",
       "      <td>True</td>\n",
       "      <td>55 Cancri e</td>\n",
       "      <td>31.0</td>\n",
       "      <td>False</td>\n",
       "      <td>0.0</td>\n",
       "      <td>0.0</td>\n",
       "      <td>0.0</td>\n",
       "      <td>0.0</td>\n",
       "      <td>0.0</td>\n",
       "      <td>1</td>\n",
       "      <td>C</td>\n",
       "      <td>0</td>\n",
       "      <td>S</td>\n",
       "    </tr>\n",
       "    <tr>\n",
       "      <th>3</th>\n",
       "      <td>0021_01</td>\n",
       "      <td>Europa</td>\n",
       "      <td>False</td>\n",
       "      <td>TRAPPIST-1e</td>\n",
       "      <td>38.0</td>\n",
       "      <td>False</td>\n",
       "      <td>0.0</td>\n",
       "      <td>6652.0</td>\n",
       "      <td>0.0</td>\n",
       "      <td>181.0</td>\n",
       "      <td>585.0</td>\n",
       "      <td>1</td>\n",
       "      <td>C</td>\n",
       "      <td>1</td>\n",
       "      <td>S</td>\n",
       "    </tr>\n",
       "    <tr>\n",
       "      <th>4</th>\n",
       "      <td>0023_01</td>\n",
       "      <td>Earth</td>\n",
       "      <td>False</td>\n",
       "      <td>TRAPPIST-1e</td>\n",
       "      <td>20.0</td>\n",
       "      <td>False</td>\n",
       "      <td>10.0</td>\n",
       "      <td>0.0</td>\n",
       "      <td>635.0</td>\n",
       "      <td>0.0</td>\n",
       "      <td>0.0</td>\n",
       "      <td>1</td>\n",
       "      <td>F</td>\n",
       "      <td>5</td>\n",
       "      <td>S</td>\n",
       "    </tr>\n",
       "  </tbody>\n",
       "</table>\n",
       "</div>"
      ],
      "text/plain": [
       "  PassengerId HomePlanet CryoSleep  Destination   Age    VIP  RoomService  \\\n",
       "0     0013_01      Earth      True  TRAPPIST-1e  27.0  False          0.0   \n",
       "1     0018_01      Earth     False  TRAPPIST-1e  19.0  False          0.0   \n",
       "2     0019_01     Europa      True  55 Cancri e  31.0  False          0.0   \n",
       "3     0021_01     Europa     False  TRAPPIST-1e  38.0  False          0.0   \n",
       "4     0023_01      Earth     False  TRAPPIST-1e  20.0  False         10.0   \n",
       "\n",
       "   FoodCourt  ShoppingMall     Spa  VRDeck  people_in_group Deck Cabin_num  \\\n",
       "0        0.0           0.0     0.0     0.0                1    G         3   \n",
       "1        9.0           0.0  2823.0     0.0                1    F         4   \n",
       "2        0.0           0.0     0.0     0.0                1    C         0   \n",
       "3     6652.0           0.0   181.0   585.0                1    C         1   \n",
       "4        0.0         635.0     0.0     0.0                1    F         5   \n",
       "\n",
       "  Side  \n",
       "0    S  \n",
       "1    S  \n",
       "2    S  \n",
       "3    S  \n",
       "4    S  "
      ]
     },
     "execution_count": 273,
     "metadata": {},
     "output_type": "execute_result"
    }
   ],
   "source": [
    "inference_data.drop('Name', axis = 1, inplace = True) \n",
    "# Separate Passenger ID to group and the number between the group\n",
    "inference_data[[\"Passenger_Group\", \"Passenger_Number_Group\"]] = inference_data[\"PassengerId\"].str.split(\"_\", expand=True)\n",
    "\n",
    "\n",
    "# Change Passenger Number Group to Integer\n",
    "\n",
    "inference_data['Passenger_Number_Group'] = inference_data['Passenger_Number_Group'].astype(int)\n",
    "\n",
    "# Find how many people in the group\n",
    "inference_data['people_in_group'] = inference_data.groupby(['Passenger_Group'])['Passenger_Number_Group'].transform(max)\n",
    "\n",
    "# Delete Passenger_Group and Passenger_Number_Group column\n",
    "\n",
    "inference_data.drop(['Passenger_Group','Passenger_Number_Group'], axis = 1, inplace = True)\n",
    "\n",
    "inference_data.head()\n",
    "\n",
    "# Separate Deck, Cabin Number, and Side\n",
    "inference_data[[\"Deck\", \"Cabin_num\", \"Side\"]] = inference_data[\"Cabin\"].str.split(\"/\", expand=True)\n",
    "\n",
    "# Drop origina Cabin Column\n",
    "inference_data.drop('Cabin', axis = 1, inplace = True)\n",
    "\n",
    "inference_data.head()"
   ]
  },
  {
   "cell_type": "code",
   "execution_count": 275,
   "id": "65f51368",
   "metadata": {},
   "outputs": [
    {
     "data": {
      "text/plain": [
       "array([ True, False,  True, ...,  True,  True,  True])"
      ]
     },
     "execution_count": 275,
     "metadata": {},
     "output_type": "execute_result"
    }
   ],
   "source": [
    "prediction = pipe.predict(inference_data)\n",
    "prediction"
   ]
  },
  {
   "cell_type": "code",
   "execution_count": 271,
   "id": "bfb591a4",
   "metadata": {},
   "outputs": [
    {
     "data": {
      "text/plain": [
       "array([ True, False,  True, ...,  True,  True,  True])"
      ]
     },
     "execution_count": 271,
     "metadata": {},
     "output_type": "execute_result"
    }
   ],
   "source": [
    "prediction"
   ]
  },
  {
   "cell_type": "code",
   "execution_count": 277,
   "id": "c529a506",
   "metadata": {},
   "outputs": [
    {
     "data": {
      "text/html": [
       "<div>\n",
       "<style scoped>\n",
       "    .dataframe tbody tr th:only-of-type {\n",
       "        vertical-align: middle;\n",
       "    }\n",
       "\n",
       "    .dataframe tbody tr th {\n",
       "        vertical-align: top;\n",
       "    }\n",
       "\n",
       "    .dataframe thead th {\n",
       "        text-align: right;\n",
       "    }\n",
       "</style>\n",
       "<table border=\"1\" class=\"dataframe\">\n",
       "  <thead>\n",
       "    <tr style=\"text-align: right;\">\n",
       "      <th></th>\n",
       "      <th>Transported</th>\n",
       "    </tr>\n",
       "    <tr>\n",
       "      <th>PassengerId</th>\n",
       "      <th></th>\n",
       "    </tr>\n",
       "  </thead>\n",
       "  <tbody>\n",
       "    <tr>\n",
       "      <th>0013_01</th>\n",
       "      <td>True</td>\n",
       "    </tr>\n",
       "    <tr>\n",
       "      <th>0018_01</th>\n",
       "      <td>False</td>\n",
       "    </tr>\n",
       "    <tr>\n",
       "      <th>0019_01</th>\n",
       "      <td>True</td>\n",
       "    </tr>\n",
       "    <tr>\n",
       "      <th>0021_01</th>\n",
       "      <td>True</td>\n",
       "    </tr>\n",
       "    <tr>\n",
       "      <th>0023_01</th>\n",
       "      <td>False</td>\n",
       "    </tr>\n",
       "  </tbody>\n",
       "</table>\n",
       "</div>"
      ],
      "text/plain": [
       "             Transported\n",
       "PassengerId             \n",
       "0013_01             True\n",
       "0018_01            False\n",
       "0019_01             True\n",
       "0021_01             True\n",
       "0023_01            False"
      ]
     },
     "execution_count": 277,
     "metadata": {},
     "output_type": "execute_result"
    }
   ],
   "source": [
    "df_prediction = pd.DataFrame({\"PassengerId\": inference_data[\"PassengerId\"], \"Transported\": prediction}).set_index(\"PassengerId\")\n",
    "df_prediction.head()"
   ]
  },
  {
   "cell_type": "code",
   "execution_count": 278,
   "id": "87234915",
   "metadata": {},
   "outputs": [],
   "source": [
    "df_prediction.to_csv(\"prediction_result.csv\")"
   ]
  }
 ],
 "metadata": {
  "kernelspec": {
   "display_name": "Python 3 (ipykernel)",
   "language": "python",
   "name": "python3"
  },
  "language_info": {
   "codemirror_mode": {
    "name": "ipython",
    "version": 3
   },
   "file_extension": ".py",
   "mimetype": "text/x-python",
   "name": "python",
   "nbconvert_exporter": "python",
   "pygments_lexer": "ipython3",
   "version": "3.10.9"
  }
 },
 "nbformat": 4,
 "nbformat_minor": 5
}
